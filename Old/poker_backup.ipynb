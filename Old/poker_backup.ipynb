{
 "cells": [
  {
   "cell_type": "code",
   "execution_count": 2,
   "metadata": {},
   "outputs": [],
   "source": [
    "import numpy as np\n",
    "import pprint\n",
    "import math"
   ]
  },
  {
   "cell_type": "code",
   "execution_count": 3,
   "metadata": {},
   "outputs": [],
   "source": [
    "def begin_poker(players,hole_cards,community_cards):\n",
    "    current_deck = deck()\n",
    "    player_hands = poker_hand(players,hole_cards+community_cards,current_deck )\n",
    "   \n",
    "    current_deck.shuffle()\n",
    "    unassigned_hands = current_deck.deal(players,hole_cards)\n",
    "    for player_index in range(players):\n",
    "        player_hands.cards[player_index,0:hole_cards] = unassigned_hands[player_index]\n",
    "    \n",
    "    \n",
    "    return current_deck,player_hands"
   ]
  },
  {
   "cell_type": "code",
   "execution_count": 4,
   "metadata": {},
   "outputs": [],
   "source": [
    "suit_list = ('Spades','Clubs','Diamonds','Hearts')\n",
    "value_list = list(range(2,11)) +['Jack','Queen','King','Ace']\n",
    "class deck:\n",
    "    def __init__(self):\n",
    "        self.cards = [None]*52\n",
    "        self.order = np.array(range(52),dtype=int)\n",
    "        self.suits = {};\n",
    "        self.values = {};\n",
    "        index=0;\n",
    "        suit_index = 0;\n",
    "        current_value =0;\n",
    "        for suit in suit_list:\n",
    "            self.suits[suit] = suit_index;\n",
    "            suit_index +=1\n",
    "            for value in value_list:\n",
    "                self.cards[index] = [str(value), suit]\n",
    "                if suit_index==1:\n",
    "                    current_value += 1\n",
    "                    self.values[str(value)] = current_value\n",
    "                index +=1\n",
    "    def shuffle(self,*args):\n",
    "        if not args:\n",
    "            print('no prior hands')\n",
    "        else:\n",
    "            hands = args[0]\n",
    "            self.order = np.concatenate((self.order, hands.flatten()), axis=0) \n",
    "        np.random.shuffle(self.order)\n",
    "    def deal(self,num_players,cards_per_hand):\n",
    "        hands =np.zeros([num_players,cards_per_hand],dtype=int)\n",
    "        for index in range(num_players):\n",
    "            for card_index  in range(cards_per_hand):\n",
    "                hands[index,card_index] = self.order[0]\n",
    "                self.order = self.order[1:]\n",
    "        return hands\n",
    "    def deal_community(self,player_hands,cards):\n",
    "        current_card_count =  np.bitwise_not(np.isnan(player_hands.cards[0]))\n",
    "        current_card_count = np.nansum(current_card_count)\n",
    "        if current_card_count+cards> player_hands.cards.shape[1]:\n",
    "            print('can\\'t add that many cards' )\n",
    "            return\n",
    "        \n",
    "        for i in np.arange(current_card_count,current_card_count+cards):\n",
    "            for player_num in range(len(player_hands.cards[:,0])):\n",
    "                player_hands.cards[player_num,i] = self.order[0]\n",
    "            self.order = self.order[1:]\n",
    "            \n",
    "        "
   ]
  },
  {
   "cell_type": "code",
   "execution_count": 32,
   "metadata": {},
   "outputs": [],
   "source": [
    "class poker_hand:\n",
    "    def __init__(self,players,total_cards,a_deck):\n",
    "        self.cards = np.empty((players,total_cards),dtype=int)*np.nan\n",
    "        self.pair_total = np.zeros(len(list(a_deck.values.values())))\n",
    "        self.straight_check = np.empty\n",
    "        self.straight_anchor = np.empty\n",
    "        self.BestHand = np.empty((players,total_cards),dtype=int)*np.nan\n",
    "        self.unique_values = np.empty\n",
    "    def display(self,player,deck):\n",
    "        current_cards = np.isnan(self.cards[player])\n",
    "        current_cards =np.bitwise_not(current_cards)\n",
    "        current_cards = self.cards[player][current_cards]\n",
    "        current_cards  =current_cards.astype(int)\n",
    "        current_cards = [ deck.cards[i] for i in current_cards]\n",
    "        \n",
    "        print(current_cards)\n",
    "        #return(current_cards)\n",
    "    def determine_best_hand(self,player_number,deck):\n",
    "        player_hands.check_for_flush(player_number,deck)\n",
    "        \n",
    "        \n",
    "        pair_info = player_hands.check_for_pairs(player_number,deck)\n",
    "        \n",
    "        \n",
    "        straight_info = player_hands.check_for_straight(player_number,deck)\n",
    "        flush_info = player_hands.check_for_flush(player_number,deck)\n",
    "        return pair_info,straight_info,flush_info\n",
    "    \n",
    "    def check_for_pairs(self,player,deck):\n",
    "        current_cards = np.isnan(self.cards[player]) #get rid of card slots that have not be dealt\n",
    "        current_cards =np.bitwise_not(current_cards)\n",
    "        current_cards = self.cards[player][current_cards] #get list of cards that have been dealt\n",
    "        current_cards  =current_cards.astype(int) #change data type so that it can be used as an list of indices\n",
    "      \n",
    "        current_cards = [ deck.cards[i][0] for i in current_cards] #for the current cards IDs, get the card value (e.g, 2 or King)\n",
    "        \n",
    "        all_values = np.array(list(a_deck.values.values()))  #get ordered list of numeric values from dictionary\n",
    "      \n",
    "        #use the card values to get the numeric value from the dictionary\n",
    "        #(e.g., Jack =10)\n",
    "        current_values = [deck.values[str(i)] for i in current_cards]  \n",
    "        \n",
    "    \n",
    "        ids, indices = np.unique(current_values, return_index = True)\n",
    "        \n",
    "        #unique list of current keys (e.g., King, Ace, 7)\n",
    "        unique_keys = [current_cards[i] for i in indices]\n",
    "        #list of values for unique keys\n",
    "        unique_values = np.unique(current_values)\n",
    "        self.unique_values = unique_values\n",
    "        #grid to dtermine pairs\n",
    "        x, y = np.meshgrid(unique_values, current_values)\n",
    "        \n",
    "        #determine which values match\n",
    "        pair_logical = x==y\n",
    "        pair_total = sum(pair_logical)\n",
    "        self.pair_total = pair_total #save the value for future reference\n",
    "     \n",
    "        pair_count = [0,0,0];\n",
    "        \n",
    "        if max(self.pair_total)>1: # 1 indicates the value only matches itself\n",
    "\n",
    "            for pair_index in range(len(self.pair_total)):\n",
    "                \n",
    "                if self.pair_total[pair_index]>1:\n",
    "                    pair_value = current_cards[pair_index]\n",
    "                   \n",
    "                    #print('player ' + str(player) + ' has ' + str(self.pair_total[pair_index]) + ' ' + str(unique_keys[pair_index]) +'s')\n",
    "                    if self.pair_total[pair_index]==2:\n",
    "                        pair_count[0] += 1\n",
    "                    elif  self.pair_total[pair_index]==3:\n",
    "                        pair_count[1] += 1\n",
    "                    elif self.pair_total[pair_index]==3:\n",
    "                        pair_count[2] += 1\n",
    "        \n",
    "        \n",
    "        non_paired = [unique_values[i] for i in range(len(unique_values)) if self.pair_total[i] == 1] \n",
    "        pair_info = [self.pair_total,unique_keys, max(non_paired)]\n",
    "        [unique_values[i] for i in range(len(unique_values))]\n",
    "        #if pair_count[0]>0 and pair_count[1]>0:\n",
    "            #print('player ' + str(player) + ' has a full house')\n",
    "        return pair_info\n",
    "            \n",
    "    def check_for_flush(self,player,deck):\n",
    "        current_cards = np.isnan(self.cards[player])\n",
    "        current_cards =np.bitwise_not(current_cards)\n",
    "        current_cards = self.cards[player][current_cards]\n",
    "        current_cards  =current_cards.astype(int)\n",
    "        card_values = [ deck.cards[i][0] for i in current_cards]\n",
    "       \n",
    "        #all_values = np.array(list(a_deck.values.values()))\n",
    "        #current_values = [deck.values[str(i)] for i in current_cards]\n",
    "        \n",
    "        \n",
    "        current_cards = [ deck.cards[i][1] for i in current_cards]\n",
    "     \n",
    "        all_suits = np.array(list(a_deck.suits.values()))\n",
    "        \n",
    "        current_suits = [deck.suits[str(i)] for i in current_cards]\n",
    "        \n",
    "        x, y = np.meshgrid(np.array(list(a_deck.suits.values())), current_suits)\n",
    "     \n",
    "        current_flush = x==y\n",
    "\n",
    "        flush_suit= None\n",
    "        flush_cards = None\n",
    "   \n",
    "        if max(sum(current_flush))<5:\n",
    "            #print('no flush  = ' + str(max(sum(current_flush))))\n",
    "            flush_info = [0,'no flush']\n",
    "        else:\n",
    "            #print('we have a flush')\n",
    "            suit_logical = sum(current_flush)>2\n",
    "            flush_suit = list(a_deck.suits.keys())\n",
    "            flush_suit = [suit_list[i] for i, x in enumerate(suit_logical) if x]\n",
    "            flush_cards = [s for s in range(len(current_cards)) if current_cards[s]==flush_suit[0]]\n",
    "            flush_values = [card_values[i] for i in flush_cards]\n",
    "            flush_info = [1,flush_suit,flush_values]\n",
    "            \n",
    "        return flush_info\n",
    "    def check_for_straight(self,player,deck):\n",
    "        current_cards = np.isnan(self.cards[player])\n",
    "        current_cards =np.bitwise_not(current_cards)\n",
    "        current_cards = self.cards[player][current_cards]\n",
    "        current_cards  =current_cards.astype(int)\n",
    "      \n",
    "        current_cards = [ deck.cards[i][0] for i in current_cards]\n",
    "        \n",
    "        all_values = np.array(list(a_deck.values.values()))\n",
    "        \n",
    "        current_values = [deck.values[str(i)] for i in current_cards]\n",
    "        unique_values = np.unique(current_values)\n",
    "        unique_values2 = unique_values[unique_values<10]\n",
    "        if len(unique_values2)==0:\n",
    "            #print('no valid anchors: will exit')\n",
    "            self.straight_check =[]\n",
    "            straight_info = [0, 'no straight']\n",
    "            \n",
    "            return straight_info\n",
    "\n",
    "        x, y = np.meshgrid(unique_values2, unique_values)\n",
    "        straight_check = (x-y)\n",
    "        \n",
    "        straight_check=np.logical_and(straight_check>=-4, straight_check<=0)\n",
    "        \n",
    "        straight_check=sum(straight_check)\n",
    "        \n",
    "        straight_check = straight_check \n",
    "        \n",
    "        self.straight_check = straight_check\n",
    "        \n",
    "        self.straight_anchor = unique_values2\n",
    "        #print('straight anchor = ' + str(self.straight_anchor))\n",
    "        #print('straight check = ' + str(straight_check))\n",
    "        \n",
    "        if max(straight_check)<=2:\n",
    "            straight_info = [0, 'no straight']\n",
    "        else:\n",
    "            #print('we have a straight')\n",
    "            straight_anchor = [self.straight_anchor[i] for i in range(len(straight_check)) if straight_check[i]>4]\n",
    "            straight_info = [1, straight_check, straight_anchor]\n",
    "        return straight_info\n",
    "    def straight_odds(self,player_number,deck):\n",
    "        \n",
    "        self.check_for_straight(player_number,deck)\n",
    "        print(self.straight_check)\n",
    "        if len(self.straight_check)==0:\n",
    "            print('No valid anchors, will exit')\n",
    "            return\n",
    "        \n",
    "        straight_check = self.straight_check\n",
    "\n",
    "        deck_cards_remain = len(deck.order)\n",
    "        hand_cards_remain = self.cards.shape[1] - len(straight_check)\n",
    "        match_outcomes = np.zeros(len(straight_check))\n",
    "        nonmatch_outcomes = np.zeros(len(straight_check))\n",
    "        all_outcomes = math.factorial(deck_cards_remain)/(math.factorial(deck_cards_remain - hand_cards_remain)* \\\n",
    "                       math.factorial(hand_cards_remain))\n",
    "        correction_outcomes = np.zeros(len(straight_check))\n",
    "\n",
    "        if max(straight_check)>4:\n",
    "            straight_odds = 1.0;\n",
    "        else:\n",
    "            for index  in range(len(straight_check)):\n",
    "                current_match_cards = (5 - straight_check[index])\n",
    "                current_non_match_cards = deck_cards_remain - (current_match_cards*4)\n",
    "                non_match_slots = hand_cards_remain - (5 - straight_check[index])\n",
    "                \n",
    "                    \n",
    "                if non_match_slots>=0:\n",
    "                    match_outcomes[index]  = (4**current_match_cards)\n",
    "            \n",
    "                    nonmatch_outcomes[index] = math.factorial(current_non_match_cards)/(math.factorial(current_non_match_cards - \\\n",
    "                    non_match_slots)*math.factorial(non_match_slots))\n",
    "                    if index >0:\n",
    "                        independence_check = self.straight_anchor[index] - self.straight_anchor[0:index]\n",
    "                        \n",
    "                        if min(independence_check)<5:\n",
    "                            print('dependent anchors: ' + str(independence_check))\n",
    "                            #correction_outcomes[index] = 4**(current_match_cards-independence_check[index])\n",
    "                        else:\n",
    "                            print('independent anchors' + str(independence_check))\n",
    "                    \n",
    "                \n",
    "                else:\n",
    "                    match_outcomes[index]=0\n",
    "                    match_outcomes *= nonmatch_outcomes       \n",
    "                    straight_odds= match_outcomes/all_outcomes\n",
    "        print(straight_odds)\n",
    "        \n",
    "        #add code to deal with non-independent straights\n",
    "\n",
    "        "
   ]
  },
  {
   "cell_type": "code",
   "execution_count": 33,
   "metadata": {},
   "outputs": [
    {
     "name": "stdout",
     "output_type": "stream",
     "text": [
      "no prior hands\n",
      "cards dealt\n",
      "[['King', 'Diamonds'], ['2', 'Hearts'], ['6', 'Diamonds'], ['Ace', 'Diamonds'], ['10', 'Diamonds'], ['8', 'Clubs'], ['10', 'Spades']]\n",
      "[['Ace', 'Clubs'], ['5', 'Hearts'], ['6', 'Diamonds'], ['Ace', 'Diamonds'], ['10', 'Diamonds'], ['8', 'Clubs'], ['10', 'Spades']]\n",
      "[['7', 'Clubs'], ['2', 'Diamonds'], ['6', 'Diamonds'], ['Ace', 'Diamonds'], ['10', 'Diamonds'], ['8', 'Clubs'], ['10', 'Spades']]\n",
      "[['King', 'Spades'], ['5', 'Spades'], ['6', 'Diamonds'], ['Ace', 'Diamonds'], ['10', 'Diamonds'], ['8', 'Clubs'], ['10', 'Spades']]\n",
      "[['Jack', 'Hearts'], ['4', 'Clubs'], ['6', 'Diamonds'], ['Ace', 'Diamonds'], ['10', 'Diamonds'], ['8', 'Clubs'], ['10', 'Spades']]\n"
     ]
    }
   ],
   "source": [
    "player_number = 5\n",
    "community_cards = 5\n",
    "a_deck,player_hands = begin_poker(player_number,2,community_cards)\n",
    "for index in range(community_cards):\n",
    "    a_deck.deal_community(player_hands,1)\n",
    "\n",
    "print('cards dealt')\n",
    "for index in range(player_number):\n",
    "    player_hands.display(index,a_deck)\n"
   ]
  },
  {
   "cell_type": "code",
   "execution_count": 19,
   "metadata": {},
   "outputs": [
    {
     "name": "stdout",
     "output_type": "stream",
     "text": [
      "[1, array([5, 5, 4, 3, 2]), [5, 6]]\n",
      "[1, array([5, 4, 3, 2, 2]), [5]]\n",
      "[1, array([2, 5, 4, 3, 2, 1]), [5]]\n",
      "[1, array([5, 4, 4, 3, 2]), [5]]\n",
      "[1, array([3, 5, 5, 4, 3, 2, 1]), [4, 5]]\n",
      "straight count is [1 1 1 1 1]\n",
      "flush count is [1 1 1 1 1]\n"
     ]
    },
    {
     "ename": "ValueError",
     "evalue": "The truth value of an array with more than one element is ambiguous. Use a.any() or a.all()",
     "output_type": "error",
     "traceback": [
      "\u001b[1;31m---------------------------------------------------------------------------\u001b[0m",
      "\u001b[1;31mValueError\u001b[0m                                Traceback (most recent call last)",
      "\u001b[1;32m<ipython-input-19-cec9b2803aa1>\u001b[0m in \u001b[0;36m<module>\u001b[1;34m\u001b[0m\n\u001b[0;32m     44\u001b[0m         \u001b[0mprint\u001b[0m\u001b[1;33m(\u001b[0m\u001b[1;34m'player '\u001b[0m \u001b[1;33m+\u001b[0m \u001b[0mstr\u001b[0m\u001b[1;33m(\u001b[0m\u001b[0mresult\u001b[0m\u001b[1;33m[\u001b[0m\u001b[1;36m0\u001b[0m\u001b[1;33m]\u001b[0m\u001b[1;33m)\u001b[0m \u001b[1;33m+\u001b[0m \u001b[1;34m' is the winner with a straight'\u001b[0m\u001b[1;33m)\u001b[0m\u001b[1;33m\u001b[0m\u001b[1;33m\u001b[0m\u001b[0m\n\u001b[0;32m     45\u001b[0m     \u001b[1;32melse\u001b[0m\u001b[1;33m:\u001b[0m\u001b[1;33m\u001b[0m\u001b[1;33m\u001b[0m\u001b[0m\n\u001b[1;32m---> 46\u001b[1;33m         \u001b[0mresult_straight_fush\u001b[0m \u001b[1;33m=\u001b[0m \u001b[0mnp\u001b[0m\u001b[1;33m.\u001b[0m\u001b[0mwhere\u001b[0m\u001b[1;33m(\u001b[0m\u001b[0mflush_count\u001b[0m \u001b[1;33m>\u001b[0m\u001b[1;36m0\u001b[0m \u001b[1;32mand\u001b[0m \u001b[0mstraight_count\u001b[0m \u001b[1;33m>\u001b[0m\u001b[1;36m0\u001b[0m\u001b[1;33m)\u001b[0m\u001b[1;33m\u001b[0m\u001b[1;33m\u001b[0m\u001b[0m\n\u001b[0m\u001b[0;32m     47\u001b[0m         \u001b[1;32mif\u001b[0m \u001b[0mlen\u001b[0m\u001b[1;33m(\u001b[0m\u001b[0mresult_straight_fush\u001b[0m\u001b[1;33m)\u001b[0m\u001b[1;33m==\u001b[0m\u001b[1;36m1\u001b[0m\u001b[1;33m:\u001b[0m\u001b[1;33m\u001b[0m\u001b[1;33m\u001b[0m\u001b[0m\n\u001b[0;32m     48\u001b[0m              \u001b[0mprint\u001b[0m\u001b[1;33m(\u001b[0m\u001b[1;34m'player '\u001b[0m \u001b[1;33m+\u001b[0m \u001b[0mstr\u001b[0m\u001b[1;33m(\u001b[0m\u001b[0mresult_straight_fush\u001b[0m\u001b[1;33m)\u001b[0m \u001b[1;33m+\u001b[0m \u001b[1;34m' is the winner with a straight flush'\u001b[0m\u001b[1;33m)\u001b[0m\u001b[1;33m\u001b[0m\u001b[1;33m\u001b[0m\u001b[0m\n",
      "\u001b[1;31mValueError\u001b[0m: The truth value of an array with more than one element is ambiguous. Use a.any() or a.all()"
     ]
    }
   ],
   "source": [
    "pair_info = [None]*player_number\n",
    "straight_info = [None]*player_number\n",
    "flush_info = [None]*player_number\n",
    "flush_count =  np.zeros(player_number,dtype=int)\n",
    "straight_count =  np.zeros(player_number,dtype=int)\n",
    "straight_anchor = np.zeros(player_number,dtype=int)\n",
    "quad_max = np.zeros(player_number,dtype=int)\n",
    "quad_count = np.zeros(player_number,dtype=int)\n",
    "trip_max = np.zeros(player_number,dtype=int)\n",
    "trip_count = np.zeros(player_number,dtype=int)\n",
    "pair_max = np.zeros(player_number,dtype=int)\n",
    "pair_count = np.zeros(player_number,dtype=int)\n",
    "pair_kicker = np.zeros(player_number,dtype=int)\n",
    "for index in range(player_number):\n",
    "    pair_info[index],straight_info[index],flush_info[index] =player_hands.determine_best_hand(index,a_deck)\n",
    "for index in range(player_number):\n",
    "        flush_count[index] = flush_info[index][0] \n",
    "         \n",
    "        straight_count[index] = straight_info[index][0] \n",
    "        print(straight_info[index])\n",
    "        straight_anchor[index] = np.array(max(straight_info[index][2]))\n",
    "        x =sum(pair_info[index][0]==2)\n",
    "        pair_count[index]=x\n",
    "        pair_kicker[index] = pair_info[index][2]\n",
    "        x =sum(pair_info[index][0]==3)\n",
    "        trip_count[index]=x\n",
    "        \n",
    "        x =sum(pair_info[index][0]==4)\n",
    "        quad_count[index]=x\n",
    "        \n",
    "        current_pair = [pair_info[index][1][i] for i in range(len(pair_info[index][1])) if pair_info[index][0][i]==2]\n",
    "        current_trip = [pair_info[index][1][i] for i in range(len(pair_info[index][1])) if pair_info[index][0][i]==3]\n",
    "        if len(current_pair)>0:\n",
    "            pair_max[index] = max([a_deck.values[i] for i in current_pair])\n",
    "        if len(current_trip)>0:\n",
    "            trip_max[index] = max([a_deck.values[i] for i in current_trip])\n",
    "\n",
    "#straight flush is the highest hand\n",
    "print('straight count is ' + str(straight_count))\n",
    "print('flush count is ' + str(flush_count))\n",
    "if max(straight_count)>0:\n",
    "    result = np.where(straight_count == np.amax(straight_count))\n",
    "    if len(result[0])==1:\n",
    "        print('player ' + str(result[0]) + ' is the winner with a straight')\n",
    "    else:\n",
    "        result_straight_fush = np.logical_and(straight_count >0, flush_count >0)\n",
    "        if len(result_straight_fush)==1:\n",
    "             print('player ' + str(result_straight_fush) + ' is the winner with a straight flush')\n",
    "        elif len(result_straight_fush)>1:\n",
    "            result_tie_breaker = np.where(flush_count >0 and straight_count >0 & straight_count == np.amax(straight_count))\n",
    "            print('straight tie breaker = ' + str(straight_anchor))\n",
    "            winner = straight_anchor[result_tie_breaker]==max(straight_anchor)\n",
    "            winner = np.array([result[0][i] for i in range(len(winner)) if winner[i]==True])\n",
    "            if len(winner)==1:\n",
    "                print('player ' + str(winner) + ' is the winner with a high card straight flush ')\n",
    "            else:\n",
    "                print('players ' + str(winner) + ' split the pot with straight flushes')\n",
    "        else:\n",
    "      \n",
    "            print('straight tie breaker = ' + str(straight_anchor))\n",
    "            winner = straight_anchor[result]==max(straight_anchor)\n",
    "            winner = np.array([result[0][i] for i in range(len(winner)) if winner[i]==True])\n",
    "            if len(winner)==1:\n",
    "                print('player ' + str(winner) + ' is the winner with a high card straight')\n",
    "            else:\n",
    "                print('players ' + str(winner) + ' split the pot with straights')\n",
    "            \n",
    "#print('pair_count = ' + str(pair_count))\n",
    "pair_count[pair_count>2] =2\n",
    "#trip_count = np.array([0,1,2,2])\n",
    "if max(quad_count)>0:\n",
    "    result = np.where(quad_count == np.amax(quad_count))\n",
    "    if len(result)==1:\n",
    "        print('player ' + str(result[0]) + ' is the winner with quads')\n",
    "elif max(trip_count)>0:\n",
    "    result = np.where(trip_count == np.amax(trip_count))\n",
    "    if len(result[0])==1:\n",
    "        print('player ' + str(result[0]) + ' is the winner with trips')\n",
    "    else:\n",
    "        print(trip_count)\n",
    "        print(result[0])\n",
    "        print(trip_max[result[0]])\n",
    "elif max(pair_count)>0:\n",
    "    result = np.where(pair_count == np.amax(pair_count))\n",
    "    print('result = ' + str(result))\n",
    "    if len(result[0])==1:\n",
    "        print('player ' + str(result[0]) + ' is the winner with pairs')\n",
    "    else:\n",
    "        print('pair max tie breaker = ' + str(pair_max))\n",
    "        winner = pair_max[result]==max(pair_max)\n",
    "        winner = np.array([result[0][i] for i in range(len(winner)) if winner[i]==True])\n",
    "        print(winner)\n",
    "        if len(winner)==1:\n",
    "            print('player number ' +  str(winner) + ' is the winner with the highest pair')\n",
    "        else:\n",
    "            print('find high card kicker')\n",
    "            result = np.where(winner == np.amax(winner))\n",
    "            winner = winner[result[0]]\n",
    "            print('player number ' +  str(winner) + ' is the winner with the highest pair and kicker')\n",
    "#result = numpy.where(quad_count == numpy.amax(quad_count))\n",
    "print('number of pairs = ' + str(pair_count))        \n",
    "print('number of trips = ' + str(trip_count))  \n",
    "print('number of quads = ' + str(quad_count))   \n",
    "print('max pair id = ' + str(pair_max))"
   ]
  },
  {
   "cell_type": "code",
   "execution_count": 31,
   "metadata": {},
   "outputs": [
    {
     "data": {
      "text/plain": [
       "array([ True,  True,  True,  True,  True])"
      ]
     },
     "execution_count": 31,
     "metadata": {},
     "output_type": "execute_result"
    }
   ],
   "source": [
    "\n",
    "np.logical_and((straight_count >0), (flush_count >0))"
   ]
  },
  {
   "cell_type": "code",
   "execution_count": 124,
   "metadata": {},
   "outputs": [
    {
     "name": "stdout",
     "output_type": "stream",
     "text": [
      "[['8', 'Spades'], ['Jack', 'Hearts'], ['Queen', 'Hearts'], ['Ace', 'Diamonds'], ['King', 'Hearts'], ['Queen', 'Diamonds'], ['2', 'Hearts']]\n",
      "[array([1, 1, 1, 2, 1, 1]), ['2', '8', 'Jack', 'Queen', 'King', 'Ace'], 13]\n"
     ]
    }
   ],
   "source": [
    "player_number = 0\n",
    "player_hands.display(player_number,a_deck)\n",
    "pair_info = player_hands.check_for_pairs(player_number,a_deck)\n",
    "print(pair_info)"
   ]
  },
  {
   "cell_type": "code",
   "execution_count": 125,
   "metadata": {},
   "outputs": [
    {
     "data": {
      "text/plain": [
       "array([1])"
      ]
     },
     "execution_count": 125,
     "metadata": {},
     "output_type": "execute_result"
    }
   ],
   "source": [
    "pair_count"
   ]
  },
  {
   "cell_type": "code",
   "execution_count": 646,
   "metadata": {},
   "outputs": [
    {
     "name": "stdout",
     "output_type": "stream",
     "text": [
      "[[6, 'Hearts'], ['Jack', 'Clubs'], ['King', 'Clubs'], [9, 'Hearts'], ['Queen', 'Diamonds']]\n"
     ]
    }
   ],
   "source": [
    "player_number = 0\n",
    "a_deck.deal_community(player_hands,1)\n",
    "player_hands.display(player_number,a_deck)\n",
    "#player_hands.check_for_pairs(player_number,a_deck)\n",
    "flush_info = player_hands.check_for_flush(player_number,a_deck)\n",
    "#player_hands.check_for_straight(player_number,a_deck)"
   ]
  },
  {
   "cell_type": "code",
   "execution_count": 450,
   "metadata": {},
   "outputs": [
    {
     "data": {
      "text/plain": [
       "[1, ['Clubs'], [7, 'Jack', 6]]"
      ]
     },
     "execution_count": 450,
     "metadata": {},
     "output_type": "execute_result"
    }
   ],
   "source": [
    "flush_info"
   ]
  },
  {
   "cell_type": "code",
   "execution_count": 417,
   "metadata": {},
   "outputs": [
    {
     "name": "stdout",
     "output_type": "stream",
     "text": [
      "['Clubs', 'Diamonds', 'Spades', 'Spades', 'Diamonds', 'Spades']\n",
      "['Spades']\n"
     ]
    },
    {
     "data": {
      "text/plain": [
       "True"
      ]
     },
     "execution_count": 417,
     "metadata": {},
     "output_type": "execute_result"
    }
   ],
   "source": [
    "print(current_cards)\n",
    "print(flush_suit)\n",
    "#[s for s in range(len(current_cards)) if current_cards[s]==flush_suit]\n",
    "\n",
    "current_cards[2]==flush_suit[0]"
   ]
  },
  {
   "cell_type": "code",
   "execution_count": 287,
   "metadata": {},
   "outputs": [
    {
     "name": "stdout",
     "output_type": "stream",
     "text": [
      "[[2, 'Spades'], [2, 'Hearts'], [6, 'Clubs']]\n",
      "player 2 has 2 2s\n",
      "player 2 has 1 pairs\n",
      "player 2 has 0 trips\n",
      "player 2 has 0 quads\n",
      "no flush\n",
      "no straight\n"
     ]
    }
   ],
   "source": [
    "player_number = 2\n",
    "player_hands.display(player_number,a_deck)\n",
    "player_hands.check_for_pairs(player_number,a_deck)\n",
    "player_hands.check_for_flush(player_number,a_deck)\n",
    "player_hands.check_for_straight(player_number,a_deck)"
   ]
  },
  {
   "cell_type": "code",
   "execution_count": 132,
   "metadata": {},
   "outputs": [
    {
     "name": "stdout",
     "output_type": "stream",
     "text": [
      "we have a straight\n",
      "[3 4 5 4 3]\n",
      "[0. 0. 0. 0. 0.]\n"
     ]
    }
   ],
   "source": [
    "player_hands.straight_odds(0,a_deck)\n"
   ]
  },
  {
   "cell_type": "code",
   "execution_count": 62,
   "metadata": {},
   "outputs": [
    {
     "name": "stdout",
     "output_type": "stream",
     "text": [
      "[[5, 'Hearts'], [10, 'Hearts']]\n"
     ]
    }
   ],
   "source": [
    "player_hands.display(0,a_deck)"
   ]
  },
  {
   "cell_type": "code",
   "execution_count": 102,
   "metadata": {},
   "outputs": [
    {
     "data": {
      "text/plain": [
       "0"
      ]
     },
     "execution_count": 102,
     "metadata": {},
     "output_type": "execute_result"
    }
   ],
   "source": [
    "a = np.array([1,2])\n",
    "a=[]\n",
    "len(a)"
   ]
  },
  {
   "cell_type": "code",
   "execution_count": 158,
   "metadata": {},
   "outputs": [
    {
     "name": "stdout",
     "output_type": "stream",
     "text": [
      "[['Jack', 'Clubs'], [3, 'Diamonds'], [5, 'Diamonds'], ['King', 'Clubs']]\n",
      "[1, 2, 2, 1]\n",
      "no flush\n"
     ]
    }
   ],
   "source": [
    "player_hands.display(2,a_deck)\n",
    "player_hands.check_for_flush(2,a_deck)"
   ]
  },
  {
   "cell_type": "code",
   "execution_count": 125,
   "metadata": {},
   "outputs": [
    {
     "name": "stdout",
     "output_type": "stream",
     "text": [
      "[3, 9, 'Ace']\n",
      "no current pairs\n"
     ]
    }
   ],
   "source": [
    "player_hands.check_for_pairs(2,a_deck)"
   ]
  },
  {
   "cell_type": "code",
   "execution_count": 27,
   "metadata": {},
   "outputs": [
    {
     "data": {
      "text/plain": [
       "{'Spades': 0, 'Clubs': 1, 'Diamonds': 2, 'Hearts': 3}"
      ]
     },
     "execution_count": 27,
     "metadata": {},
     "output_type": "execute_result"
    }
   ],
   "source": [
    "a_deck.suits"
   ]
  },
  {
   "cell_type": "code",
   "execution_count": 33,
   "metadata": {},
   "outputs": [
    {
     "data": {
      "text/plain": [
       "array([0, 1, 2, 3])"
      ]
     },
     "execution_count": 33,
     "metadata": {},
     "output_type": "execute_result"
    }
   ],
   "source": [
    "np.array(list(a_deck.suits.values()))"
   ]
  },
  {
   "cell_type": "code",
   "execution_count": null,
   "metadata": {},
   "outputs": [],
   "source": []
  }
 ],
 "metadata": {
  "kernelspec": {
   "display_name": "Python 3",
   "language": "python",
   "name": "python3"
  },
  "language_info": {
   "codemirror_mode": {
    "name": "ipython",
    "version": 3
   },
   "file_extension": ".py",
   "mimetype": "text/x-python",
   "name": "python",
   "nbconvert_exporter": "python",
   "pygments_lexer": "ipython3",
   "version": "3.7.1"
  }
 },
 "nbformat": 4,
 "nbformat_minor": 2
}
