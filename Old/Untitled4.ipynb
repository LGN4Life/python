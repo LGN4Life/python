{
 "cells": [
  {
   "cell_type": "code",
   "execution_count": 28,
   "metadata": {},
   "outputs": [],
   "source": [
    "import PlayPoker2\n",
    "import numpy as np"
   ]
  },
  {
   "cell_type": "code",
   "execution_count": 31,
   "metadata": {},
   "outputs": [
    {
     "name": "stdout",
     "output_type": "stream",
     "text": [
      "no prior hands\n",
      "cards dealt\n",
      "[['Q', 'S'], ['8', 'D'], ['6', 'H'], ['2', 'S'], ['3', 'S'], ['10', 'S'], ['J', 'C']]\n",
      "[['7', 'C'], ['K', 'S'], ['6', 'H'], ['2', 'S'], ['3', 'S'], ['10', 'S'], ['J', 'C']]\n",
      "[['A', 'H'], ['6', 'S'], ['6', 'H'], ['2', 'S'], ['3', 'S'], ['10', 'S'], ['J', 'C']]\n"
     ]
    }
   ],
   "source": [
    "player_number = 3\n",
    "community_cards = 5\n",
    "a_deck,player_hands = PlayPoker2.begin_poker(player_number,2,community_cards)\n",
    "for index in range(community_cards):\n",
    "    a_deck.deal_community(player_hands,1)\n",
    "\n",
    "print('cards dealt')\n",
    "for index in range(player_number):\n",
    "    player_hands.display(index,a_deck)"
   ]
  },
  {
   "cell_type": "code",
   "execution_count": null,
   "metadata": {},
   "outputs": [],
   "source": []
  }
 ],
 "metadata": {
  "kernelspec": {
   "display_name": "Python 3",
   "language": "python",
   "name": "python3"
  },
  "language_info": {
   "codemirror_mode": {
    "name": "ipython",
    "version": 3
   },
   "file_extension": ".py",
   "mimetype": "text/x-python",
   "name": "python",
   "nbconvert_exporter": "python",
   "pygments_lexer": "ipython3",
   "version": "3.7.1"
  }
 },
 "nbformat": 4,
 "nbformat_minor": 2
}
