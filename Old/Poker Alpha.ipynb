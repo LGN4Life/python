{
 "cells": [
  {
   "cell_type": "code",
   "execution_count": 2,
   "metadata": {},
   "outputs": [],
   "source": [
    "import numpy as np\n",
    "import math"
   ]
  },
  {
   "cell_type": "code",
   "execution_count": 9,
   "metadata": {},
   "outputs": [],
   "source": [
    "#CREATE deck of cards\n",
    "\n",
    "\n",
    "suit_list = ('Spades','Clubs','Diamonds','Hearts')\n",
    "value_list = list(range(2,11)) +['Jack','Queen','King','Ace']\n",
    "\n",
    "\n",
    "\n",
    "\n"
   ]
  },
  {
   "cell_type": "code",
   "execution_count": 29,
   "metadata": {},
   "outputs": [
    {
     "name": "stdout",
     "output_type": "stream",
     "text": [
      "[['Jack', 'Diamonds'], [6, 'Clubs']]\n",
      "[[4, 'Diamonds'], ['Queen', 'Spades']]\n",
      "[[3, 'Hearts'], [8, 'Hearts']]\n"
     ]
    }
   ],
   "source": [
    "# create deck\n",
    "#deck_of_cards=np.ones((13, 4), dtype=bool)\n",
    "array_of_cards = np.linspace(0,51,51,dtype = int)\n",
    "deck_size = 52;\n",
    "\n",
    "#deal hands to very player\n",
    "#shuffle deck\n",
    "np.random.shuffle(array_of_cards)\n",
    "\n",
    "\n",
    "number_of_players  = 3\n",
    "cards_per_hand = 2\n",
    "hands = np.zeros((number_of_players,cards_per_hand,3),dtype=int)\n",
    "hands_named = [ [None]*cards_per_hand for i in range(number_of_players) ]\n",
    "for player_index in range(number_of_players):\n",
    "    for card_index in range(cards_per_hand):\n",
    "        #draw first card after the deck has been shuffles\n",
    "        current_card = array_of_cards[0]\n",
    "\n",
    "        #remove drawn card from deck\n",
    "        array_of_cards=array_of_cards[1:]\n",
    "        #deal card\n",
    "        \n",
    "        value_id  = current_card % (len(value_list))\n",
    "        suit_id  = math.floor(current_card/len(value_list))\n",
    "        hands[player_index][card_index] = [current_card, value_id, suit_id]\n",
    "        hands_named[player_index][card_index] = [value_list[value_id], suit_list[suit_id]]\n",
    "    print(hands_named[player_index])\n"
   ]
  },
  {
   "cell_type": "code",
   "execution_count": 163,
   "metadata": {},
   "outputs": [
    {
     "name": "stdout",
     "output_type": "stream",
     "text": [
      "player 0 = [['Jack', 'Diamonds'], [6, 'Clubs']]\n",
      "25.255102040816325 odds of a  Jack\n",
      "player 1 = [[4, 'Diamonds'], ['Queen', 'Spades']]\n",
      "25.255102040816325 odds of a  Queen\n",
      "player 2 = [[3, 'Hearts'], [8, 'Hearts']]\n",
      "25.255102040816325 odds of a  8\n"
     ]
    }
   ],
   "source": [
    "\n",
    "\n",
    "\n",
    "#determine the probability of having a winning hand, prior to seeing the other players' hands or\n",
    "#the shared cards\n",
    "pair_logical = np.zeros((number_of_players, cards_per_hand), dtype=bool)\n",
    "# does the current hand contain a pair\n",
    "for player_index in range(number_of_players):\n",
    "    hand_values = hands[player_index,:,1]\n",
    "  \n",
    "    unique_values, i = np.unique(hand_values,return_index=True)\n",
    "\n",
    "    print('player ' + str(player_index) + ' = ' + str(hands_named[player_index]))\n",
    "    for index_1 in range(len(unique_values)):\n",
    "\n",
    "            if sum(hand_values == unique_values[index_1])>1:\n",
    "                print('player number ' + str(player_index) + ' has a pair of ' + str(value_list[unique_values[index_1]]))\n",
    "       \n",
    "                hand_values = hand_values[hand_values != unique_values[index_1]]\n",
    "             \n",
    "               \n",
    "                pair_logical[player_index,hands[player_index,:,1] == unique_values[index_1]]=True\n",
    "    max_not_pair = np.max(hands[player_index,~pair_logical[player_index,:],1])\n",
    "    \n",
    "    \n",
    "    \n",
    "    if sum(pair_logical[player_index,:]) == 0:\n",
    "        \n",
    "        possible_community = math.factorial(50)/(math.factorial(50-5)* math.factorial(5)) \n",
    "        possible_matches = math.factorial(3)/(math.factorial(3-1)* math.factorial(1)) *  \\\n",
    "        math.factorial(47)/(math.factorial(47-4)* math.factorial(4))\n",
    "        print(str(100* possible_matches/possible_community) + ' odds of a  ' + str(value_list[max_not_pair]))\n",
    "        \n",
    "\n",
    "                \n",
    "\n",
    "\n",
    "\n",
    "\n",
    "\n",
    "    \n",
    "            \n",
    "                    "
   ]
  },
  {
   "cell_type": "code",
   "execution_count": 87,
   "metadata": {},
   "outputs": [
    {
     "name": "stdout",
     "output_type": "stream",
     "text": [
      "0.16\n",
      "0.4072960000000001 of hands at least 1 player has a better high card\n"
     ]
    }
   ],
   "source": [
    "num_players = 3 # not including self\n",
    "#odds of a better high card in any other player's hole cards\n",
    "\n",
    "#total number of possible card combos in any single opponent's hands\n",
    "\n",
    "total_combos =math.factorial(50)/(math.factorial(50-2)*math.factorial(2))\n",
    "\n",
    "#total number of possible card combos in  n opponents' hands doesn't change, same number of \n",
    "#possible combos, the odds of any given combo increases\n",
    "\n",
    "#better than a 9\n",
    "rank = 13 - 11\n",
    "better_cards = rank*4\n",
    "worse_cards = 52 - better_cards\n",
    "better_combos = math.factorial(better_cards)/(math.factorial(better_cards-1)*math.factorial(1)) * \\\n",
    "math.factorial(49)/(math.factorial(49-1)*math.factorial(1))\n",
    "better_combos /= math.factorial(2)\n",
    "percent_better = better_combos/total_combos\n",
    "print(percent_better)\n",
    "\n",
    "print(str(1 - (1-percent_better)**num_players) + ' of hands at least 1 player has a better high card')\n"
   ]
  },
  {
   "cell_type": "code",
   "execution_count": 79,
   "metadata": {},
   "outputs": [
    {
     "data": {
      "text/plain": [
       "0.22131200000000006"
      ]
     },
     "execution_count": 79,
     "metadata": {},
     "output_type": "execute_result"
    }
   ],
   "source": [
    ".08*.08*.08 + 3*(.08*.92*.92) + 3*(.08*.08*.92)"
   ]
  },
  {
   "cell_type": "code",
   "execution_count": 88,
   "metadata": {},
   "outputs": [
    {
     "name": "stdout",
     "output_type": "stream",
     "text": [
      "There is a 0.25255102040816324 odds of getting a pair with pocket card 1\n",
      "There is a 0.3844257962204308 odds of getting a pair with either pocket card\n",
      "There is a 0.056257433593233784 odds of getting a three of a kind with pocket card 1\n",
      "There is a 0.05770592233192999 odds of getting a flush when you have suited pocket cars\n",
      "There is a 0.1573797881779909 odds of getting a flush after flop 1\n",
      "There is a 0.02959278068304102 odds of getting a flush after flop 1 not suited\n",
      "There is a 0.3855804810360777 odds of getting a flush after flop 2\n",
      "There is a 9.63613937711995e-06 odds of getting a flush after flop 2 not suited\n",
      "if the third flop card is suited  you have a flush\n"
     ]
    }
   ],
   "source": [
    "\n",
    "#odds of getting a pair (for one of your pcokert cards ) in the community cards\n",
    "\n",
    "#50 unknown cards and 3 possible matches, 5 community cards\n",
    "\n",
    "#possible combinations of community cards\n",
    "possible_community = math.factorial(50)/(math.factorial(50-5)* math.factorial(5)) \n",
    "\n",
    "\n",
    "possible_matches = math.factorial(3)/(math.factorial(3-1)* math.factorial(1)) *  \\\n",
    "math.factorial(47)/(math.factorial(47-4)* math.factorial(4))\n",
    "\n",
    "\n",
    "print('There is a ' + str(possible_matches/possible_community) + ' odds of getting a pair with pocket card 1')\n",
    "\n",
    "possible_matches = math.factorial(6)/(math.factorial(6-1)* math.factorial(1)) *  \\\n",
    "math.factorial(44)/(math.factorial(44-4)* math.factorial(4))\n",
    "print('There is a ' + str(possible_matches/possible_community) + ' odds of getting a pair with either pocket card')\n",
    "\n",
    "possible_triples = (math.factorial(3)/(math.factorial(3-1)* math.factorial(1))) *  \\\n",
    "(math.factorial(3)/(math.factorial(3-1)* math.factorial(1))) *  \\\n",
    "math.factorial(44)/(math.factorial(44-3)* math.factorial(3))\n",
    "\n",
    "print('There is a ' + str(possible_triples/possible_community) + ' odds of getting a three of a kind with pocket card 1')\n",
    "\n",
    "#if you have suited pocket cards, what are the odds of getting a flush\n",
    "# there are 11 other cards to match your suit\n",
    "possible_flushes = math.factorial(11)/(math.factorial(11-3)* math.factorial(3)) *  \\\n",
    "math.factorial(39)/(math.factorial(39-2)* math.factorial(2))\n",
    "print('There is a ' + str(possible_flushes/possible_community) + ' odds of getting a flush when you have suited pocket cards')\n",
    "\n",
    "\n",
    "#if the first flop card is suited\n",
    "possible_community = math.factorial(49)/(math.factorial(49-4)* math.factorial(4)) \n",
    "possible_flushes = math.factorial(10)/(math.factorial(10-2)* math.factorial(2)) *  \\\n",
    "math.factorial(39)/(math.factorial(39-2)* math.factorial(2))\n",
    "print('There is a ' + str(possible_flushes/possible_community) + ' odds of getting a flush after flop 1')\n",
    "\n",
    "#if the first flop card is not  suited\n",
    "possible_community = math.factorial(49)/(math.factorial(49-4)* math.factorial(4)) \n",
    "possible_flushes = math.factorial(11)/(math.factorial(11-3)* math.factorial(3)) *  \\\n",
    "math.factorial(38)/(math.factorial(38-1)* math.factorial(1))\n",
    "print('There is a ' + str(possible_flushes/possible_community) + ' odds of getting a flush after flop 1 not suited')\n",
    "\n",
    "#if the second flop card is suited\n",
    "possible_community = math.factorial(48)/(math.factorial(48-3)* math.factorial(3)) \n",
    "possible_flushes = math.factorial(9)/(math.factorial(9-1)* math.factorial(1)) *  \\\n",
    "math.factorial(39)/(math.factorial(39-2)* math.factorial(2))\n",
    "print('There is a ' + str(possible_flushes/possible_community) + ' odds of getting a flush after flop 2')\n",
    "\n",
    "#if the second flop card is not suited\n",
    "possible_community = math.factorial(48)/(math.factorial(48-3)* math.factorial(3)) \n",
    "possible_flushes = math.factorial(10)/(math.factorial(10-0)* math.factorial(3)) *  \\\n",
    "math.factorial(37)/(math.factorial(37-0)* math.factorial(0))\n",
    "print('There is a ' + str(possible_flushes/possible_community) + ' odds of getting a flush after flop 2 not suited')\n",
    "\n",
    "\n",
    "print('if the third flop card is suited  you have a flush')"
   ]
  },
  {
   "cell_type": "code",
   "execution_count": 82,
   "metadata": {},
   "outputs": [
    {
     "data": {
      "text/plain": [
       "1.7959947327164457e+57"
      ]
     },
     "execution_count": 82,
     "metadata": {},
     "output_type": "execute_result"
    }
   ],
   "source": [
    "# odds of getting a straight"
   ]
  },
  {
   "cell_type": "code",
   "execution_count": 146,
   "metadata": {},
   "outputs": [
    {
     "name": "stdout",
     "output_type": "stream",
     "text": [
      "0.3924646781789639\n"
     ]
    }
   ],
   "source": [
    "# odds of getting a straight in 5 card draw\n",
    "possible_hands = math.factorial(52)/(math.factorial(52-5)* math.factorial(5)) \n",
    "#10 differnt anchor values (e.g., [2,3,4,5,6] or [4,5,6,7,8])\n",
    "possible_anchor = math.factorial(10)/(math.factorial(10-1)* math.factorial(1)) \n",
    "#4 possible suits\n",
    "possible_anchor *=(math.factorial(4)/(math.factorial(4-1)* math.factorial(1)))**5\n",
    "#1 combo of strain cards given your anchor card\n",
    "#exclude flushes. For each straight, there is 1 case where it is actually a flush\n",
    "possible_anchor -= math.factorial(10)/(math.factorial(10-1)* math.factorial(1))  * \\\n",
    "(math.factorial(4)/(math.factorial(4-1)* math.factorial(1)))\n",
    "\n",
    "print(100*possible_anchor/possible_hands)\n"
   ]
  },
  {
   "cell_type": "code",
   "execution_count": 152,
   "metadata": {},
   "outputs": [
    {
     "name": "stdout",
     "output_type": "stream",
     "text": [
      "0.0163265306122449\n",
      "1081.0\n"
     ]
    }
   ],
   "source": [
    "# odds of getting a straight in the community, given that your two pocket cards can be used as a 2 card anchor\n",
    "possible_hands = math.factorial(52)/(math.factorial(52-7)* math.factorial(7))\n",
    "possible_community = math.factorial(50)/(math.factorial(50-5)* math.factorial(5)) \n",
    "\n",
    "#there are 5 consequitve values in a straight, you already have two, so you need three more\n",
    "possible_completion = math.factorial(3)/(math.factorial(3-1)* math.factorial(3)) \n",
    "#4 possible suits\n",
    "possible_completion *=(math.factorial(4)/(math.factorial(4-1)* math.factorial(1)))**3\n",
    "\n",
    "#all the way the remaning 2 cards fill out the hand\n",
    "possible_completion *= math.factorial(47)/(math.factorial(47-2)* math.factorial(2)) \n",
    "\n",
    "#exclude flushes. For each straight, there is 1 case where it is actually a flush\n",
    "#possible_completion -= math.factorial(10)/(math.factorial(10-1)* math.factorial(1))  * \\\n",
    "#(math.factorial(4)/(math.factorial(4-1)* math.factorial(1)))\n",
    "#1 combo of strain cards given your anchor card\n",
    "\n",
    "\n",
    "print(possible_completion/possible_community)\n",
    "\n",
    "print(math.factorial(47)/(math.factorial(47-2)* math.factorial(2)))"
   ]
  },
  {
   "cell_type": "code",
   "execution_count": 137,
   "metadata": {},
   "outputs": [
    {
     "name": "stdout",
     "output_type": "stream",
     "text": [
      "0.5956906237909666\n"
     ]
    }
   ],
   "source": [
    "#odds of getting pocket cards that can anchor a straight\n",
    "possible_hands = math.factorial(52)/(math.factorial(52-2)* math.factorial(2)) \n",
    "possible_anchor = math.factorial(9)/(math.factorial(9-1)* math.factorial(1))  * \\\n",
    "((math.factorial(4)/(math.factorial(4-1)* math.factorial(1)))**2)\n",
    "\n",
    "#possible_anchor -= math.factorial(10)/(math.factorial(10-1)* math.factorial(1))\n",
    "\n",
    "#print(possible_hands)\n",
    "#print(possible_anchor)\n",
    "possible_hands = math.factorial(52)/(math.factorial(52-7)* math.factorial(7)) \n",
    "\n",
    "\n",
    "print(possible_completion*possible_anchor/possible_hands)"
   ]
  },
  {
   "cell_type": "code",
   "execution_count": null,
   "metadata": {},
   "outputs": [],
   "source": []
  },
  {
   "cell_type": "code",
   "execution_count": 901,
   "metadata": {},
   "outputs": [
    {
     "name": "stdout",
     "output_type": "stream",
     "text": [
      "['a', 'b', 2]\n"
     ]
    }
   ],
   "source": [
    "from itertools import compress\n",
    "list_a = ['a','b','temp',2]\n",
    "fil = [True,True,False,True]\n",
    "print(list(compress(list_a, fil)))\n"
   ]
  },
  {
   "cell_type": "code",
   "execution_count": 936,
   "metadata": {},
   "outputs": [
    {
     "name": "stdout",
     "output_type": "stream",
     "text": [
      "[1, 4]\n"
     ]
    }
   ],
   "source": [
    "list_a = [1, 2, 4, 6]\n",
    "filter_vec = [True, False, True, False]\n",
    "#iltered_list = [i for indx,i in enumerate(list_a) if filter_vec[indx]]\n",
    "filtered_list = [ oddly for indx,oddly in enumerate(list_a) if filter_vec[indx]]\n",
    "print(filtered_list)\n",
    "\n",
    "        \n",
    "        \n"
   ]
  },
  {
   "cell_type": "code",
   "execution_count": 894,
   "metadata": {},
   "outputs": [
    {
     "name": "stdout",
     "output_type": "stream",
     "text": [
      "(2, 5, 5)\n",
      "[[[0 0 0 0 0]\n",
      "  [1 1 1 1 1]\n",
      "  [2 2 2 2 2]\n",
      "  [3 3 3 3 3]\n",
      "  [4 4 4 4 4]]\n",
      "\n",
      " [[0 1 2 3 4]\n",
      "  [0 1 2 3 4]\n",
      "  [0 1 2 3 4]\n",
      "  [0 1 2 3 4]\n",
      "  [0 1 2 3 4]]]\n",
      "0.0\n",
      "<class 'numpy.ndarray'>\n",
      "(3, 3)\n",
      "[[0 1]\n",
      " [0 1]\n",
      " [0 1]]\n"
     ]
    }
   ],
   "source": [
    "a =np.mgrid[0:5,0:5]\n",
    "print(a.shape)\n",
    "print(a)\n",
    "b = np.zeros([2,3])\n",
    "print(b[0,0])\n",
    "\n",
    "x = np.array([1,2,3])\n",
    "a = np.arange(3,dtype=int)\n",
    "print(type(a))\n",
    "a = np.reshape(a,(1,3))\n",
    "a = np.repeat(a,3,axis=0)\n",
    "#print(a * x)\n",
    "#print(x.shape)\n",
    "print(a.shape)\n",
    "\n",
    "print(a[:,[0,1]])"
   ]
  },
  {
   "cell_type": "code",
   "execution_count": null,
   "metadata": {},
   "outputs": [],
   "source": [
    "### determine if either player has any pairs\n",
    "pairs_found = np.zeros(number_of_players,dtype=bool)\n",
    "for player_index in range(number_of_players):\n",
    "    unique_values, card_index = np.unique(hands[player_index,:,1],return_index=True)\n",
    "    if len(unique_values)!=hands.shape[2]:\n",
    "        pairs_found[player_index] = True\n",
    "    Z"
   ]
  },
  {
   "cell_type": "code",
   "execution_count": 154,
   "metadata": {},
   "outputs": [
    {
     "data": {
      "text/plain": [
       "20.833333333333332"
      ]
     },
     "execution_count": 154,
     "metadata": {},
     "output_type": "execute_result"
    }
   ],
   "source": [
    "(5**3)/math.factorial(3)"
   ]
  },
  {
   "cell_type": "code",
   "execution_count": 156,
   "metadata": {},
   "outputs": [
    {
     "data": {
      "text/plain": [
       "40"
      ]
     },
     "execution_count": 156,
     "metadata": {},
     "output_type": "execute_result"
    }
   ],
   "source": [
    "(5*5*4)-(5*4*3)"
   ]
  },
  {
   "cell_type": "code",
   "execution_count": 157,
   "metadata": {},
   "outputs": [
    {
     "data": {
      "text/plain": [
       "12"
      ]
     },
     "execution_count": 157,
     "metadata": {},
     "output_type": "execute_result"
    }
   ],
   "source": [
    "(3*3*2) - (3*2*1)"
   ]
  },
  {
   "cell_type": "code",
   "execution_count": null,
   "metadata": {},
   "outputs": [],
   "source": []
  }
 ],
 "metadata": {
  "kernelspec": {
   "display_name": "Python 3",
   "language": "python",
   "name": "python3"
  },
  "language_info": {
   "codemirror_mode": {
    "name": "ipython",
    "version": 3
   },
   "file_extension": ".py",
   "mimetype": "text/x-python",
   "name": "python",
   "nbconvert_exporter": "python",
   "pygments_lexer": "ipython3",
   "version": "3.7.1"
  }
 },
 "nbformat": 4,
 "nbformat_minor": 2
}
