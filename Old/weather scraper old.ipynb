{
 "cells": [
  {
   "cell_type": "code",
   "execution_count": 87,
   "metadata": {},
   "outputs": [],
   "source": [
    "# coding: utf-8\n",
    "\n",
    "from datetime import date, timedelta\n",
    "#from urllib.request import urlopen\n",
    "import requests\n",
    "import os\n",
    "from bs4 import BeautifulSoup as soup\n",
    "import time\n",
    "import lxml\n",
    "\n",
    "def scrape_station(station):\n",
    "    '''\n",
    "    This function scrapes the weather data web pages from wunderground.com\n",
    "    for the station you provide it.\n",
    "\n",
    "    You can look up your city's weather station by performing a search for\n",
    "    it on wunderground.com then clicking on the \"History\" section.\n",
    "    The 4-letter name of the station will appear on that page.\n",
    "    '''\n",
    "\n",
    "    # Scrape between July 1, 2014 and July 1, 2015\n",
    "    # You can change the dates here if you prefer to scrape a different range\n",
    "    current_date = date(year=2014, month=7, day=1)\n",
    "    end_date = date(year=2014, month=7, day=2)\n",
    "\n",
    "    # Make sure a directory exists for the station web pages\n",
    "    \n",
    "    data_directory = 'C:\\\\Henry\\\\PythonProjects\\\\Weather\\\\'\n",
    "    \n",
    "    if not os.path.isdir('C:\\\\Henry\\\\PythonProjects\\\\Weather\\\\' + station):\n",
    "        os.mkdir(data_directory + station)\n",
    "    else:\n",
    "        print('directory alreay exists')\n",
    "    \n",
    "\n",
    "    # Use .format(station, YYYY, M, D)\n",
    "    lookup_URL = 'http://www.wunderground.com/history/airport/{}/{}/{}/{}/DailyHistory.html'\n",
    "    \n",
    "    \n",
    "\n",
    "    while current_date <= end_date:\n",
    "\n",
    "        \n",
    "        print(current_date)\n",
    "        print(station)\n",
    "\n",
    "        formatted_lookup_URL = lookup_URL.format(station,\n",
    "                                                 current_date.year,\n",
    "                                                 current_date.month,\n",
    "                                                 current_date.day)\n",
    "        \n",
    "        result = requests.get(formatted_lookup_URL)\n",
    "\n",
    "        src = result.content\n",
    "        #weather_soup = soup(src, \"html5lib\")\n",
    "        weather_soup = soup(src, \"html5lib\")\n",
    "        #html = urlopen(formatted_lookup_URL).read().decode('utf-8')\n",
    "\n",
    "        out_file_name = '{}/{}-{}-{}.html'.format(station, current_date.year,\n",
    "                                                  current_date.month,\n",
    "                                                  current_date.day)\n",
    "        out_file_name = data_directory + out_file_name\n",
    "\n",
    "        #with open(out_file_name, 'w') as out_file:\n",
    "        #    out_file.write(weather_soup)\n",
    "        \n",
    "        with open(out_file_name, 'w', encoding='utf-8') as f_out:\n",
    "            f_out.write(weather_soup.prettify())\n",
    "\n",
    "        current_date += timedelta(days=1)\n",
    "    \n",
    "        time.sleep(5)\n",
    "\n",
    "\n",
    "\n"
   ]
  },
  {
   "cell_type": "code",
   "execution_count": 61,
   "metadata": {},
   "outputs": [
    {
     "name": "stdout",
     "output_type": "stream",
     "text": [
      "directory alreay exists\n",
      "2014-07-01\n",
      "KCLT\n",
      "2014-07-02\n",
      "KCLT\n",
      "directory alreay exists\n",
      "2014-07-01\n",
      "KCQT\n",
      "2014-07-02\n",
      "KCQT\n"
     ]
    }
   ],
   "source": [
    "# Scrape the stations used in this article\n",
    "#for station in ['KCLT', 'KCQT', 'KHOU', 'KIND', 'KJAX',\n",
    " #               'KMDW', 'KNYC', 'KPHL', 'KPHX', 'KSEA']:\n",
    "for station in ['KCLT', 'KCQT']:\n",
    "    scrape_station(station)"
   ]
  },
  {
   "cell_type": "code",
   "execution_count": 9,
   "metadata": {},
   "outputs": [],
   "source": [
    "os.mkdir('C:\\\\Henry\\\\PythonProjects\\\\Weather\\\\test\\\\')"
   ]
  },
  {
   "cell_type": "code",
   "execution_count": 68,
   "metadata": {},
   "outputs": [],
   "source": [
    "result = requests.get('https://www.wunderground.com/history/daily/us/ca/davis/KSMF')\n",
    "src = result.content\n",
    "weather_soup = soup(src, 'html.parser')\n",
    "with open('test.html', 'w', encoding='utf-8') as f_out:\n",
    "            f_out.write(weather_soup.prettify())"
   ]
  },
  {
   "cell_type": "code",
   "execution_count": 73,
   "metadata": {},
   "outputs": [
    {
     "data": {
      "text/plain": [
       "[<div class=\"region-content-summary\">\n",
       " <city-history-summary _nghost-c7=\"\"><div _ngcontent-c7=\"\">\n",
       " <div _ngcontent-c7=\"\" class=\"summary-title\">Summary</div>\n",
       " <div _ngcontent-c7=\"\" class=\"summary-table\">\n",
       " <!-- -->     \n",
       "         No data recorded\n",
       "       \n",
       "       <!-- -->\n",
       " </div>\n",
       " </div></city-history-summary>\n",
       " </div>]"
      ]
     },
     "execution_count": 73,
     "metadata": {},
     "output_type": "execute_result"
    }
   ],
   "source": [
    "weather_data = weather_soup.findAll('div',{'class': 'region-content-summary'})\n",
    "weather_data"
   ]
  },
  {
   "cell_type": "code",
   "execution_count": 4,
   "metadata": {},
   "outputs": [],
   "source": [
    "from selenium import webdriver\n",
    "from bs4 import BeautifulSoup as soup\n",
    "#from selenium import webdriver\n",
    "ChromeDriver = 'C:\\\\Henry\\\\PythonProjects\\\\ChromeDriver\\\\'\n",
    "url = \"https://www.wunderground.com/history/daily/us/ca/davis/KSMF\"\n",
    "browser = webdriver.Chrome()\n",
    "browser.get(url)\n",
    "html = browser.page_source\n",
    "weather_soup = soup(html, \"lxml\")\n",
    "with open('test.html', 'w', encoding='utf-8') as f_out:\n",
    "            f_out.write(weather_soup.prettify())"
   ]
  },
  {
   "cell_type": "code",
   "execution_count": 8,
   "metadata": {},
   "outputs": [
    {
     "data": {
      "text/plain": [
       "[<div class=\"region-content-summary\">\n",
       " <city-history-summary _nghost-c27=\"\"><div _ngcontent-c27=\"\">\n",
       " <div _ngcontent-c27=\"\" class=\"summary-title\">Summary</div>\n",
       " <div _ngcontent-c27=\"\" class=\"summary-table\">\n",
       " <!-- -->     \n",
       "         No data recorded\n",
       "       \n",
       "       <!-- -->\n",
       " </div>\n",
       " </div></city-history-summary>\n",
       " </div>]"
      ]
     },
     "execution_count": 8,
     "metadata": {},
     "output_type": "execute_result"
    }
   ],
   "source": [
    "weather_data = weather_soup.findAll('div',{'class': 'region-content-summary'})\n",
    "weather_data"
   ]
  },
  {
   "cell_type": "code",
   "execution_count": 93,
   "metadata": {},
   "outputs": [],
   "source": [
    "html = browser.page_source\n",
    "weather_soup = soup(html, \"html5lib\")\n",
    "with open('test.html', 'w', encoding='utf-8') as f_out:\n",
    "            f_out.write(weather_soup.prettify())"
   ]
  },
  {
   "cell_type": "code",
   "execution_count": null,
   "metadata": {},
   "outputs": [],
   "source": [
    "ChromeDriver = 'C:\\\\Henry\\\\PythonProjects\\\\ChromeDriver\\\\'\n",
    "url = \"https://www.wunderground.com/history/daily/us/ca/davis/KSMF\"\n",
    "browser = webdriver.Chrome()\n",
    "browser.get(url)\n",
    "time.sleep(5)\n",
    "html = browser.page_source\n",
    "weather_soup = soup(html, \"lxml\")"
   ]
  },
  {
   "cell_type": "code",
   "execution_count": null,
   "metadata": {},
   "outputs": [],
   "source": [
    "    html = browser.page_source\n",
    "weather_soup = soup(html, \"lxml\")\n",
    "with open('test.html', 'w', encoding='utf-8') as f_out:\n",
    "            f_out.write(weather_soup.prettify())"
   ]
  },
  {
   "cell_type": "code",
   "execution_count": null,
   "metadata": {},
   "outputs": [],
   "source": [
    "list_of_select[0].find_elements_by_tag_name('option')[5].click()"
   ]
  }
 ],
 "metadata": {
  "kernelspec": {
   "display_name": "Python 3",
   "language": "python",
   "name": "python3"
  },
  "language_info": {
   "codemirror_mode": {
    "name": "ipython",
    "version": 3
   },
   "file_extension": ".py",
   "mimetype": "text/x-python",
   "name": "python",
   "nbconvert_exporter": "python",
   "pygments_lexer": "ipython3",
   "version": "3.7.1"
  }
 },
 "nbformat": 4,
 "nbformat_minor": 2
}
