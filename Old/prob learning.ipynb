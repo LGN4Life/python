{
 "cells": [
  {
   "cell_type": "code",
   "execution_count": 5,
   "metadata": {},
   "outputs": [],
   "source": [
    "import numpy as np\n",
    "import math"
   ]
  },
  {
   "cell_type": "code",
   "execution_count": 261,
   "metadata": {},
   "outputs": [
    {
     "name": "stdout",
     "output_type": "stream",
     "text": [
      "311875200.0\n",
      "2598960.0\n"
     ]
    }
   ],
   "source": [
    "#once you have drawn 5 cards, how many different ways car you arrange the same 5 cards (all are the same hand)\n",
    "id_combos =math.factorial(5)\n",
    "\n",
    "#total hands, where each order of the same 5 cards is considered different\n",
    "total_hands = (math.factorial(52)/math.factorial(52-5))\n",
    "distinct_hands = total_hands/id_combos\n",
    "print(total_hands)\n",
    "print(distinct_hands)"
   ]
  },
  {
   "cell_type": "code",
   "execution_count": 274,
   "metadata": {},
   "outputs": [
    {
     "name": "stdout",
     "output_type": "stream",
     "text": [
      "1098240.0\n",
      "0.4225690276110444\n"
     ]
    }
   ],
   "source": [
    "#how many ways to draw to cards of the same suit\n",
    "# 1 pick of 13 possible values\n",
    "# 2 picks of 4 suits\n",
    "\n",
    "v =math.factorial(13)/(math.factorial(13-1)) # 13 possible values\n",
    "s =math.factorial(4)/(math.factorial(4-2)*math.factorial(2)) # 6 possible cominations of suits (when you pick 2)\n",
    "v*s #78 possible ways to select two cards with single value\n",
    "\n",
    "#now calculate the number of ways to draw the remaining 3 cards\n",
    "nv = math.factorial(12)/(math.factorial(12-3)* math.factorial(3)) \n",
    "ns = (math.factorial(4)/(math.factorial(4-1)*(math.factorial(1))))**3\n",
    "#print(v*s)\n",
    "#print(nv*ns)\n",
    "#print(v*s*nv*s)\n",
    "number_pairs = v*s*nv*ns\n",
    "print(number_pairs)\n",
    "print(number_pairs/distinct_hands)"
   ]
  },
  {
   "cell_type": "code",
   "execution_count": 259,
   "metadata": {},
   "outputs": [
    {
     "data": {
      "text/plain": [
       "6.0"
      ]
     },
     "execution_count": 259,
     "metadata": {},
     "output_type": "execute_result"
    }
   ],
   "source": [
    "math.factorial(4)/(math.factorial(4-2)*math.factorial(2))"
   ]
  },
  {
   "cell_type": "code",
   "execution_count": 277,
   "metadata": {},
   "outputs": [
    {
     "name": "stdout",
     "output_type": "stream",
     "text": [
      "84480.0\n",
      "0.03250530981623419\n"
     ]
    }
   ],
   "source": [
    "#odds of getting a specific pair\n",
    "\n",
    "\n",
    "\n",
    "\n",
    "v =1\n",
    "s =math.factorial(4)/(math.factorial(4-2)*math.factorial(2)) # 6 possible cominations of suits (when you pick 2)\n",
    "\n",
    "#now calculate the number of ways to draw the remaining 3 cards\n",
    "nv = math.factorial(12)/(math.factorial(12-3)* math.factorial(3)) \n",
    "ns = (math.factorial(4)/(math.factorial(4-1)*(math.factorial(1))))**3\n",
    "#print(v*s)\n",
    "#print(nv*ns)\n",
    "#print(v*s*nv*s)\n",
    "number_pairs = v*s*nv*ns\n",
    "print(number_pairs)\n",
    "print(number_pairs/distinct_hands)"
   ]
  },
  {
   "cell_type": "code",
   "execution_count": 279,
   "metadata": {},
   "outputs": [
    {
     "data": {
      "text/plain": [
       "0.36"
      ]
     },
     "execution_count": 279,
     "metadata": {},
     "output_type": "execute_result"
    }
   ],
   "source": [
    "#odds of a pair given the pocket cards\n",
    "\n",
    "# unpaired, unsuited\n",
    "#odds of getting a pair\n",
    "\n",
    "#you get 5 more cards, so for each of the two pocket cards there\n",
    "#are 5 more chances to get a pair\n",
    "(3/50)*3 + (3/50)*3"
   ]
  },
  {
   "cell_type": "code",
   "execution_count": 300,
   "metadata": {},
   "outputs": [
    {
     "name": "stdout",
     "output_type": "stream",
     "text": [
      "2118760.0\n",
      "0.3844257962204308\n"
     ]
    }
   ],
   "source": [
    "#now calculate the number of ways to match one of the unpaired pocket cards\n",
    "v = 12 #there are 12 ways to pick a card paired with one specific pocket card\n",
    "v *=2 #there are two pocket cards\n",
    "#v*= math.factorial(44)/(math.factorial(44-3)* math.factorial(3))\n",
    "v = 2*3 * math.factorial(44)/(math.factorial(44-4)* math.factorial(4)) \n",
    "#after you know the pocket cards there are 6/50 that match one of the two cards and \n",
    "# 44/50 that do not\n",
    "\n",
    "nv = math.factorial(50)/(math.factorial(50-5)* math.factorial(5)) \n",
    "\n",
    "print(nv)\n",
    "print(v/nv)"
   ]
  },
  {
   "cell_type": "code",
   "execution_count": 306,
   "metadata": {},
   "outputs": [
    {
     "data": {
      "text/plain": [
       "0.3844257962204308"
      ]
     },
     "execution_count": 306,
     "metadata": {},
     "output_type": "execute_result"
    }
   ],
   "source": [
    "(6/50 * 44/49 * 43/48 * 42/47 * 41/46)*5"
   ]
  },
  {
   "cell_type": "code",
   "execution_count": 155,
   "metadata": {},
   "outputs": [
    {
     "name": "stdout",
     "output_type": "stream",
     "text": [
      "42532 were found\n",
      "pairs were found on 0.42532 of all trials\n"
     ]
    }
   ],
   "source": [
    "values =np.arange(1,14)\n",
    "#values=np.reshape(values,(13,1))\n",
    "values = np.repeat(values,4,axis=0)\n",
    "\n",
    "pairs=0;\n",
    "num_trials=100000\n",
    "for index in range(num_trials):\n",
    "    p = np.random.permutation(51)+1\n",
    "\n",
    "    id = p[0:5]\n",
    "\n",
    "    unique_values = len(np.unique(values[id]))\n",
    "    #print(p[0:4])\n",
    "    #print(str(values[id]) + 'length ' + str(unique_values))\n",
    "    #print(id)\n",
    "    #print(unique_values)\n",
    "    if unique_values==4:\n",
    "        \n",
    "        pairs +=1\n",
    "print(str(pairs) + ' were found')\n",
    "print('pairs were found on ' + str(pairs/num_trials) + ' of all trials' )"
   ]
  },
  {
   "cell_type": "code",
   "execution_count": 226,
   "metadata": {},
   "outputs": [
    {
     "data": {
      "text/plain": [
       "10.0"
      ]
     },
     "execution_count": 226,
     "metadata": {},
     "output_type": "execute_result"
    }
   ],
   "source": [
    "math.factorial(5)/(math.factorial(2)*math.factorial(5-2))"
   ]
  },
  {
   "cell_type": "code",
   "execution_count": null,
   "metadata": {},
   "outputs": [],
   "source": []
  }
 ],
 "metadata": {
  "kernelspec": {
   "display_name": "Python 3",
   "language": "python",
   "name": "python3"
  },
  "language_info": {
   "codemirror_mode": {
    "name": "ipython",
    "version": 3
   },
   "file_extension": ".py",
   "mimetype": "text/x-python",
   "name": "python",
   "nbconvert_exporter": "python",
   "pygments_lexer": "ipython3",
   "version": "3.7.1"
  }
 },
 "nbformat": 4,
 "nbformat_minor": 2
}
