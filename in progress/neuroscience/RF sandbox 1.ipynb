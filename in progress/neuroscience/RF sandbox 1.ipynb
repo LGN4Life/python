{
 "cells": [
  {
   "cell_type": "code",
   "execution_count": 1,
   "metadata": {},
   "outputs": [],
   "source": [
    "from scipy.stats import norm\n",
    "import matplotlib.pyplot as plt\n",
    "import numpy as np \n",
    "\n"
   ]
  },
  {
   "cell_type": "code",
   "execution_count": 123,
   "metadata": {},
   "outputs": [
    {
     "data": {
      "text/plain": [
       "(<Figure size 432x288 with 1 Axes>,\n",
       " <matplotlib.image.AxesImage at 0x1a3a03b8b70>)"
      ]
     },
     "execution_count": 123,
     "metadata": {},
     "output_type": "execute_result"
    },
    {
     "data": {
      "image/png": "[encoded data removed]",
      "text/plain": [
       "<Figure size 432x288 with 1 Axes>"
      ]
     },
     "metadata": {
      "needs_background": "light"
     },
     "output_type": "display_data"
    },
    {
     "data": {
      "image/png": "[encoded data removed]",
      "text/plain": [
       "<Figure size 432x288 with 1 Axes>"
      ]
     },
     "metadata": {
      "needs_background": "light"
     },
     "output_type": "display_data"
    }
   ],
   "source": [
    "\n",
    "im_size = 16\n",
    "\n",
    "#initialize a normal distribution with frozen in mean=-1, std. dev.= 1\n",
    "x = np.arange(-im_size/2, im_size/2, 1)\n",
    "\n",
    "center = norm(loc = 0., scale = 1.0)\n",
    "surround = norm(loc = 0., scale = 4.0)\n",
    "dog = center.pdf(x)-surround.pdf(x)\n",
    "\n",
    "\n",
    "\n",
    "#plot the pdfs of these normal distributions \n",
    "plt.figure(1),plt.plot(x, center.pdf(x), x, surround.pdf(x), x, dog)\n",
    "\n",
    "dog = np.tile(center.pdf(x)-surround.pdf(x), (im_size, 1))\n",
    "\n",
    "center_gaussian = np.tile(center.pdf(x),(im_size,1))\n",
    "center_gaussian = center_gaussian*np.transpose(center_gaussian)\n",
    "\n",
    "surround_gaussian = np.tile(surround.pdf(x),(im_size,1))\n",
    "surround_gaussian = surround_gaussian*np.transpose(surround_gaussian)\n",
    "dog = center_gaussian - surround_gaussian\n",
    "plt.figure(3), plt.imshow(dog)"
   ]
  },
  {
   "cell_type": "code",
   "execution_count": 134,
   "metadata": {},
   "outputs": [
    {
     "ename": "ValueError",
     "evalue": "operands could not be broadcast together with shapes (2,) (16,16) ",
     "output_type": "error",
     "traceback": [
      "\u001b[1;31m---------------------------------------------------------------------------\u001b[0m",
      "\u001b[1;31mValueError\u001b[0m                                Traceback (most recent call last)",
      "\u001b[1;32m<ipython-input-134-b9c453638430>\u001b[0m in \u001b[0;36m<module>\u001b[1;34m\u001b[0m\n\u001b[0;32m      5\u001b[0m     \u001b[0mgrid\u001b[0m \u001b[1;33m=\u001b[0m \u001b[0mnp\u001b[0m\u001b[1;33m.\u001b[0m\u001b[0mrandom\u001b[0m\u001b[1;33m.\u001b[0m\u001b[0mnormal\u001b[0m\u001b[1;33m(\u001b[0m\u001b[1;33m(\u001b[0m\u001b[0mim_size\u001b[0m\u001b[1;33m,\u001b[0m\u001b[0mim_size\u001b[0m\u001b[1;33m)\u001b[0m\u001b[1;33m)\u001b[0m\u001b[1;33m\u001b[0m\u001b[1;33m\u001b[0m\u001b[0m\n\u001b[0;32m      6\u001b[0m \u001b[1;33m\u001b[0m\u001b[0m\n\u001b[1;32m----> 7\u001b[1;33m     \u001b[0mresponse_mat\u001b[0m \u001b[1;33m=\u001b[0m \u001b[0mgrid\u001b[0m\u001b[1;33m*\u001b[0m\u001b[0mdog\u001b[0m\u001b[1;33m\u001b[0m\u001b[1;33m\u001b[0m\u001b[0m\n\u001b[0m\u001b[0;32m      8\u001b[0m     \u001b[0mresponse\u001b[0m\u001b[1;33m[\u001b[0m\u001b[0mindex\u001b[0m\u001b[1;33m]\u001b[0m \u001b[1;33m=\u001b[0m \u001b[0mnp\u001b[0m\u001b[1;33m.\u001b[0m\u001b[0msum\u001b[0m\u001b[1;33m(\u001b[0m\u001b[0mresponse_mat\u001b[0m\u001b[1;33m)\u001b[0m\u001b[1;33m\u001b[0m\u001b[1;33m\u001b[0m\u001b[0m\n\u001b[0;32m      9\u001b[0m     \u001b[1;31m#response[index] += np.random.normal()/10\u001b[0m\u001b[1;33m\u001b[0m\u001b[1;33m\u001b[0m\u001b[1;33m\u001b[0m\u001b[0m\n",
      "\u001b[1;31mValueError\u001b[0m: operands could not be broadcast together with shapes (2,) (16,16) "
     ]
    }
   ],
   "source": [
    "response = np.zeros((50000))\n",
    "spike_image = np.zeros((im_size,im_size))\n",
    "spike_frames = 0\n",
    "for index in range(len(response)):\n",
    "    grid = np.random.normal(1,(im_size,im_size))\n",
    "\n",
    "    response_mat = grid*dog\n",
    "    response[index] = np.sum(response_mat)\n",
    "    #response[index] += np.random.normal()/10\n",
    "    if response[index]>0:\n",
    "        spike_image += grid\n",
    "        spike_frames +=1\n",
    "    #plt.figure(1), plt.imshow(response_mat)\n",
    "plt.figure(3),plt.imshow(spike_image/spike_frames)\n",
    "plt.figure(3),plt.colorbar()\n",
    "plt.figure(4),plt.plot(response)\n"
   ]
  },
  {
   "cell_type": "code",
   "execution_count": 142,
   "metadata": {},
   "outputs": [
    {
     "data": {
      "text/plain": [
       "array([[ 0.59127951],\n",
       "       [ 1.26477343],\n",
       "       [ 0.94545801],\n",
       "       [-0.25674411],\n",
       "       [ 0.43103468],\n",
       "       [ 1.09181546],\n",
       "       [-0.62128569],\n",
       "       [-0.60824353],\n",
       "       [-0.80576125],\n",
       "       [ 0.67623795]])"
      ]
     },
     "execution_count": 142,
     "metadata": {},
     "output_type": "execute_result"
    }
   ],
   "source": [
    "np.random.normal(0,1,(10,1))"
   ]
  },
  {
   "cell_type": "code",
   "execution_count": 78,
   "metadata": {},
   "outputs": [
    {
     "name": "stdout",
     "output_type": "stream",
     "text": [
      "0\n",
      "1\n",
      "2\n",
      "3\n",
      "4\n",
      "5\n"
     ]
    }
   ],
   "source": [
    "for x in range(6):\n",
    "  print(x) "
   ]
  },
  {
   "cell_type": "code",
   "execution_count": null,
   "metadata": {},
   "outputs": [],
   "source": []
  },
  {
   "cell_type": "code",
   "execution_count": null,
   "metadata": {},
   "outputs": [],
   "source": []
  },
  {
   "cell_type": "code",
   "execution_count": null,
   "metadata": {},
   "outputs": [],
   "source": []
  },
  {
   "cell_type": "code",
   "execution_count": 19,
   "metadata": {},
   "outputs": [
    {
     "data": {
      "image/png": "[encoded data removed]",
      "text/plain": [
       "<Figure size 432x720 with 3 Axes>"
      ]
     },
     "metadata": {
      "needs_background": "light"
     },
     "output_type": "display_data"
    }
   ],
   "source": [
    "\n",
    "grid = np.random.random((10,10))\n",
    "\n",
    "fig, (ax1, ax2, ax3) = plt.subplots(nrows=3, figsize=(6,10))\n",
    "\n",
    "ax1.imshow(grid, extent=[0,100,0,1])\n",
    "ax1.set_title('Default')\n",
    "\n",
    "ax2.imshow(grid, extent=[0,100,0,1], aspect='auto')\n",
    "ax2.set_title('Auto-scaled Aspect')\n",
    "\n",
    "ax3.imshow(grid, extent=[0,100,0,1], aspect=100)\n",
    "ax3.set_title('Manually Set Aspect')\n",
    "\n",
    "plt.tight_layout()\n",
    "plt.show()\n",
    "\n"
   ]
  },
  {
   "cell_type": "code",
   "execution_count": 32,
   "metadata": {},
   "outputs": [
    {
     "data": {
      "text/plain": [
       "(200, 200)"
      ]
     },
     "execution_count": 32,
     "metadata": {},
     "output_type": "execute_result"
    }
   ],
   "source": [
    "dog.shape"
   ]
  },
  {
   "cell_type": "code",
   "execution_count": 57,
   "metadata": {},
   "outputs": [],
   "source": [
    "response = np.arange(10)"
   ]
  },
  {
   "cell_type": "code",
   "execution_count": 58,
   "metadata": {},
   "outputs": [
    {
     "data": {
      "text/plain": [
       "array([0, 1, 2, 3, 4, 5, 6, 7, 8, 9])"
      ]
     },
     "execution_count": 58,
     "metadata": {},
     "output_type": "execute_result"
    }
   ],
   "source": [
    "response"
   ]
  },
  {
   "cell_type": "code",
   "execution_count": null,
   "metadata": {},
   "outputs": [],
   "source": []
  }
 ],
 "metadata": {
  "kernelspec": {
   "display_name": "Python 3",
   "language": "python",
   "name": "python3"
  },
  "language_info": {
   "codemirror_mode": {
    "name": "ipython",
    "version": 3
   },
   "file_extension": ".py",
   "mimetype": "text/x-python",
   "name": "python",
   "nbconvert_exporter": "python",
   "pygments_lexer": "ipython3",
   "version": "3.7.1"
  }
 },
 "nbformat": 4,
 "nbformat_minor": 2
}
