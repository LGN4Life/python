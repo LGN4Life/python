{
 "cells": [
  {
   "cell_type": "code",
   "execution_count": 2,
   "metadata": {},
   "outputs": [],
   "source": [
    "from bs4 import BeautifulSoup as soup\n",
    "from urllib.request import urlopen as uReq\n",
    "import requests\n",
    "import numpy as np\n",
    "import csv\n",
    "import os\n",
    "from datetime import date, timedelta\n",
    "import time\n"
   ]
  },
  {
   "cell_type": "code",
   "execution_count": null,
   "metadata": {
    "scrolled": true
   },
   "outputs": [],
   "source": [
    "#load in day of interest from basketball-reference\n",
    "#basketball_url = 'https://www.basketball-reference.com/boxscores/?month=06&day=10&year=2019'\n",
    "\n",
    "\n",
    "basic_url = 'https://www.basketball-reference.com/boxscores/?month={}&day={}&year={}'\n",
    "\n",
    "#csv_handle = csv.writer(f_handle)\n",
    "output_file_name = 'game_log_2018_2019.csv'\n",
    "fieldnames = ['date','home', 'winner','loser','score']\n",
    "\n",
    "if os.path.exists(output_file_name):\n",
    "    f_handle = open(output_file_name,  \"a\", newline='')\n",
    "    csv_handle = csv.DictWriter(f_handle, fieldnames=fieldnames)\n",
    "  \n",
    "else:\n",
    "    f_handle = open(output_file_name,  \"w\", newline='')\n",
    "    csv_handle = csv.DictWriter(f_handle, fieldnames=fieldnames)\n",
    "    csv_handle.writeheader()\n",
    "\n",
    "\n",
    "\n",
    "start_date = date(year=2018, month=10, day=16)\n",
    "end_date = date(year=2019, month=6, day=13) \n",
    "#end_date = date(year=2018, month=10, day=18) \n",
    "\n",
    "game_info = {'date': 'unknown',\n",
    "             'home': 'unknown',\n",
    "            'winner' : 'unknown',\n",
    "            \"loser\": 'unknown',\n",
    "            \"score\":np.array([0,0])}\n",
    "\n",
    "current_date = start_date\n",
    "\n",
    "\n",
    "while current_date <= end_date:\n",
    "    \n",
    "    \n",
    "  \n",
    "\n",
    "    formatted_url = basic_url.format(current_date.month,\n",
    "                                     current_date.day,\n",
    "                                    current_date.year)\n",
    "    result = requests.get(formatted_url)\n",
    "\n",
    "    src = result.content\n",
    "    basketball_soup = soup(src, 'html.parser')\n",
    "\n",
    "    game_summaries = basketball_soup.findAll('div',{'class': 'game_summary'})\n",
    "\n",
    "    \n",
    "    game_info['date'] = current_date\n",
    "    for current_game in game_summaries:\n",
    "    \n",
    "        #find home team\n",
    "        team_list = current_game.find_all('tr')\n",
    "        game_info['home'] = team_list[1].td.text;\n",
    "    \n",
    "    \n",
    "        #find winner\n",
    "        winner = current_game.table.find_all('tr','winner')\n",
    "        winner_info = winner[0].find_all('td')\n",
    "        game_info['winner'] = winner_info[0].text\n",
    "        game_info['score'][0] = winner_info[1].text\n",
    "\n",
    "\n",
    "        #find loser\n",
    "        loser = current_game.table.find_all('tr','loser')\n",
    "        loser_info = loser[0].find_all('td')\n",
    "        game_info['loser'] = loser_info[0].text\n",
    "        game_info['score'][1] = loser_info[1].text\n",
    "        csv_handle.writerow(game_info)\n",
    "    print(current_date)\n",
    "    current_date += timedelta(days=1)\n",
    "    time.sleep(5)\n",
    "        \n",
    "f_handle.close()\n",
    "print('scrape complete')"
   ]
  },
  {
   "cell_type": "code",
   "execution_count": 5,
   "metadata": {},
   "outputs": [
    {
     "data": {
      "text/plain": [
       "datetime.date(2018, 10, 16)"
      ]
     },
     "execution_count": 5,
     "metadata": {},
     "output_type": "execute_result"
    }
   ],
   "source": [
    "start_date = date(year=2018, month=10, day=16)\n",
    "start_date"
   ]
  },
  {
   "cell_type": "code",
   "execution_count": 1,
   "metadata": {},
   "outputs": [],
   "source": [
    "import lxml"
   ]
  },
  {
   "cell_type": "code",
   "execution_count": null,
   "metadata": {},
   "outputs": [],
   "source": []
  }
 ],
 "metadata": {
  "kernelspec": {
   "display_name": "Python 3",
   "language": "python",
   "name": "python3"
  },
  "language_info": {
   "codemirror_mode": {
    "name": "ipython",
    "version": 3
   },
   "file_extension": ".py",
   "mimetype": "text/x-python",
   "name": "python",
   "nbconvert_exporter": "python",
   "pygments_lexer": "ipython3",
   "version": "3.7.1"
  }
 },
 "nbformat": 4,
 "nbformat_minor": 2
}
