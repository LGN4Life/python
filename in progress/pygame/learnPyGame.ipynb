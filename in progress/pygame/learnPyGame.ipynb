{
 "cells": [
  {
   "cell_type": "code",
   "execution_count": 30,
   "metadata": {},
   "outputs": [],
   "source": [
    "import pygame as pg\n",
    "import time"
   ]
  },
  {
   "cell_type": "code",
   "execution_count": 2,
   "metadata": {},
   "outputs": [
    {
     "data": {
      "text/plain": [
       "(6, 0)"
      ]
     },
     "execution_count": 2,
     "metadata": {},
     "output_type": "execute_result"
    }
   ],
   "source": [
    "pg.init()"
   ]
  },
  {
   "cell_type": "code",
   "execution_count": 34,
   "metadata": {},
   "outputs": [],
   "source": [
    "screen = pg.display.set_mode((800,600))\n",
    "screen.fill((0,0,255))\n",
    "pg.display.set_caption(\"Space Invaders\")\n",
    "icon = pg.image.load('C:/Henry/PythonProjects/Pygame/Images/interceptor-ship.png')\n",
    "playerImg = pg.image.load('C:/Henry/PythonProjects/Pygame/Images/space-invaders.png')\n",
    "\n",
    "playerX = 400\n",
    "playerY = 500\n",
    "\n",
    "pg.display.set_icon(icon)\n",
    "running = True\n",
    "pg.display.update()\n",
    "time.sleep(5)\n",
    "while running:\n",
    "    screen.fill((0,0,255))\n",
    "    player(playerX,playerY)\n",
    "    playerY-=1\n",
    "    #print(playerY)\n",
    "    if playerY<100:\n",
    "        running = False\n",
    "        time.sleep(10)\n",
    "        pg.display.quit()\n",
    "        break\n",
    "    pg.display.update()\n",
    "    for event in pg.event.get():\n",
    "        if event.type == pg.QUIT:\n",
    "            running = False\n",
    "            pg.display.quit()"
   ]
  },
  {
   "cell_type": "code",
   "execution_count": null,
   "metadata": {},
   "outputs": [],
   "source": [
    "pg.display.quit()"
   ]
  },
  {
   "cell_type": "code",
   "execution_count": 19,
   "metadata": {},
   "outputs": [],
   "source": [
    "def player(x,y):\n",
    "    screen.blit(playerImg,(x,y))"
   ]
  },
  {
   "cell_type": "code",
   "execution_count": null,
   "metadata": {},
   "outputs": [],
   "source": []
  }
 ],
 "metadata": {
  "kernelspec": {
   "display_name": "Python 3",
   "language": "python",
   "name": "python3"
  },
  "language_info": {
   "codemirror_mode": {
    "name": "ipython",
    "version": 3
   },
   "file_extension": ".py",
   "mimetype": "text/x-python",
   "name": "python",
   "nbconvert_exporter": "python",
   "pygments_lexer": "ipython3",
   "version": "3.7.1"
  }
 },
 "nbformat": 4,
 "nbformat_minor": 2
}
