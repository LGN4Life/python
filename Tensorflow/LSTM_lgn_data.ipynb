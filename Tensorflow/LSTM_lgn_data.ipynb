{
  "nbformat": 4,
  "nbformat_minor": 0,
  "metadata": {
    "colab": {
      "name": "LSTM_lgn_data.ipynb",
      "provenance": [],
      "collapsed_sections": [],
      "machine_shape": "hm",
      "include_colab_link": true
    },
    "kernelspec": {
      "name": "python3",
      "display_name": "Python 3"
    },
    "accelerator": "GPU"
  },
  "cells": [
    {
      "cell_type": "markdown",
      "metadata": {
        "id": "view-in-github",
        "colab_type": "text"
      },
      "source": [
        "<a href=\"https://colab.research.google.com/github/LGN4Life/python/blob/master/LSTM_lgn_data.ipynb\" target=\"_parent\"><img src=\"https://colab.research.google.com/assets/colab-badge.svg\" alt=\"Open In Colab\"/></a>"
      ]
    },
    {
      "cell_type": "code",
      "metadata": {
        "id": "AI4kkY3dhb6V",
        "colab_type": "code",
        "colab": {}
      },
      "source": [
        "import scipy.io as sio\n",
        "import numpy as np\n",
        "import matplotlib.pyplot as plt\n",
        "import pdb\n",
        "import time"
      ],
      "execution_count": 0,
      "outputs": []
    },
    {
      "cell_type": "markdown",
      "metadata": {
        "id": "FmjSQVwdh8Ej",
        "colab_type": "text"
      },
      "source": [
        "Mount google drive"
      ]
    },
    {
      "cell_type": "code",
      "metadata": {
        "id": "vM2OFLSdho9J",
        "colab_type": "code",
        "outputId": "e9e19b6e-c5ab-406f-fd03-aecc5ab9c4cd",
        "colab": {
          "base_uri": "https://localhost:8080/",
          "height": 34
        }
      },
      "source": [
        "from google.colab import drive\n",
        "drive.mount('/content/gdrive')"
      ],
      "execution_count": 0,
      "outputs": [
        {
          "output_type": "stream",
          "text": [
            "Drive already mounted at /content/gdrive; to attempt to forcibly remount, call drive.mount(\"/content/gdrive\", force_remount=True).\n"
          ],
          "name": "stdout"
        }
      ]
    },
    {
      "cell_type": "markdown",
      "metadata": {
        "id": "HX8dsKZRk_vU",
        "colab_type": "text"
      },
      "source": [
        "load matlab file"
      ]
    },
    {
      "cell_type": "code",
      "metadata": {
        "id": "-mtCj-tujWm-",
        "colab_type": "code",
        "colab": {}
      },
      "source": [
        "mat_contents = sio.loadmat(\"/content/gdrive/My Drive/python/matlab files/example_mon_pair.mat\")"
      ],
      "execution_count": 0,
      "outputs": []
    },
    {
      "cell_type": "code",
      "metadata": {
        "id": "yHyQQmNnkc5O",
        "colab_type": "code",
        "outputId": "d0bd0c57-3aff-43c8-cbb2-82e837f9d37e",
        "colab": {
          "base_uri": "https://localhost:8080/",
          "height": 34
        }
      },
      "source": [
        "type(mat_contents)\n",
        "#matlab structs are loaded as a dictionary"
      ],
      "execution_count": 0,
      "outputs": [
        {
          "output_type": "execute_result",
          "data": {
            "text/plain": [
              "dict"
            ]
          },
          "metadata": {
            "tags": []
          },
          "execution_count": 5
        }
      ]
    },
    {
      "cell_type": "code",
      "metadata": {
        "id": "yiC4JqBklgs9",
        "colab_type": "code",
        "outputId": "5241417f-6540-434d-b685-9ad0c82f46db",
        "colab": {
          "base_uri": "https://localhost:8080/",
          "height": 306
        }
      },
      "source": [
        "mat_contents"
      ],
      "execution_count": 0,
      "outputs": [
        {
          "output_type": "execute_result",
          "data": {
            "text/plain": [
              "{'__globals__': [],\n",
              " '__header__': b'MATLAB 5.0 MAT-file, Platform: PCWIN64, Created on: Tue Nov 26 09:51:44 2019',\n",
              " '__version__': '1.0',\n",
              " 'lgn_spikes': array([[1.3547000e+00],\n",
              "        [1.5136000e+00],\n",
              "        [1.5157000e+00],\n",
              "        ...,\n",
              "        [2.3871325e+03],\n",
              "        [2.3871503e+03],\n",
              "        [2.3871824e+03]]),\n",
              " 'rgc_spikes': array([[1.5111000e+00],\n",
              "        [1.6172000e+00],\n",
              "        [1.6289000e+00],\n",
              "        ...,\n",
              "        [2.3871731e+03],\n",
              "        [2.3871919e+03],\n",
              "        [2.3872027e+03]])}"
            ]
          },
          "metadata": {
            "tags": []
          },
          "execution_count": 6
        }
      ]
    },
    {
      "cell_type": "code",
      "metadata": {
        "id": "Vke1O08mliK2",
        "colab_type": "code",
        "outputId": "b6c3e20b-cc26-438a-a806-7619361f0ae8",
        "colab": {
          "base_uri": "https://localhost:8080/",
          "height": 34
        }
      },
      "source": [
        "lgn_spikes = mat_contents['lgn_spikes']\n",
        "lgn_spikes = lgn_spikes[0:,0]\n",
        "rgc_spikes = mat_contents['rgc_spikes']\n",
        "type(lgn_spikes)"
      ],
      "execution_count": 0,
      "outputs": [
        {
          "output_type": "execute_result",
          "data": {
            "text/plain": [
              "numpy.ndarray"
            ]
          },
          "metadata": {
            "tags": []
          },
          "execution_count": 7
        }
      ]
    },
    {
      "cell_type": "markdown",
      "metadata": {
        "id": "GM4y7lECmVLJ",
        "colab_type": "text"
      },
      "source": [
        "create histogram of spiking data"
      ]
    },
    {
      "cell_type": "code",
      "metadata": {
        "id": "JJm803Yilmvt",
        "colab_type": "code",
        "colab": {}
      },
      "source": [
        "max_spike_time = lgn_spikes.max()+1\n",
        "\n",
        "bin_size = .001\n"
      ],
      "execution_count": 0,
      "outputs": []
    },
    {
      "cell_type": "code",
      "metadata": {
        "id": "wM9qVj91ms1G",
        "colab_type": "code",
        "colab": {}
      },
      "source": [
        "hist_x = np.arange(0,max_spike_time,bin_size)"
      ],
      "execution_count": 0,
      "outputs": []
    },
    {
      "cell_type": "code",
      "metadata": {
        "id": "NWPqawSxoUvu",
        "colab_type": "code",
        "colab": {}
      },
      "source": [
        "lgn_spike_hist,hist_bins = np.histogram(lgn_spikes,hist_x,density=False)"
      ],
      "execution_count": 0,
      "outputs": []
    },
    {
      "cell_type": "code",
      "metadata": {
        "id": "Y2LB_mJErkuA",
        "colab_type": "code",
        "outputId": "9ae3dc57-064b-4dcd-8d2d-300cebe85838",
        "colab": {
          "base_uri": "https://localhost:8080/",
          "height": 34
        }
      },
      "source": [
        "sum(lgn_spike_hist==0)/len(lgn_spike_hist)"
      ],
      "execution_count": 0,
      "outputs": [
        {
          "output_type": "execute_result",
          "data": {
            "text/plain": [
              "0.9765746496707537"
            ]
          },
          "metadata": {
            "tags": []
          },
          "execution_count": 13
        }
      ]
    },
    {
      "cell_type": "markdown",
      "metadata": {
        "id": "F8iR0xWg_zU0",
        "colab_type": "text"
      },
      "source": [
        "code below comes from tensorflow Time series forecasting tutorial"
      ]
    },
    {
      "cell_type": "code",
      "metadata": {
        "id": "vYRBgpqp__ZF",
        "colab_type": "code",
        "outputId": "cf366b56-731d-42f3-85b5-5732a2f6bb10",
        "colab": {
          "base_uri": "https://localhost:8080/",
          "height": 34
        }
      },
      "source": [
        "from __future__ import absolute_import, division, print_function, unicode_literals\n",
        "try:\n",
        "  # %tensorflow_version only exists in Colab.\n",
        "  %tensorflow_version 2.x\n",
        "except Exception:\n",
        "  pass\n",
        "import tensorflow as tf\n",
        "\n",
        "import matplotlib as mpl\n",
        "import matplotlib.pyplot as plt\n",
        "import numpy as np\n",
        "import os\n",
        "import pandas as pd\n",
        "\n",
        "mpl.rcParams['figure.figsize'] = (8, 6)\n",
        "mpl.rcParams['axes.grid'] = False"
      ],
      "execution_count": 0,
      "outputs": [
        {
          "output_type": "stream",
          "text": [
            "TensorFlow 2.x selected.\n"
          ],
          "name": "stdout"
        }
      ]
    },
    {
      "cell_type": "code",
      "metadata": {
        "id": "jAs53GSuAG9q",
        "colab_type": "code",
        "colab": {}
      },
      "source": [
        "def shape_data_for_model(data, learning_size, target_size):\n",
        "  row_num = data.shape[0]-learning_size\n",
        "  reshaped_data  = np.empty((row_num,learning_size))*np.nan\n",
        "  data_labels = np.empty((row_num,1))*np.nan\n",
        "  \n",
        "\n",
        "  for row in range(data_labels.shape[0]):\n",
        "    \n",
        "    indices = np.array(range(row,row+learning_size))\n",
        "    # Reshape data from (history_size,) to (history_size, 1)\n",
        "    \n",
        "    reshaped_data[row,:] = data[indices]\n",
        "    data_labels[row] = data[indices[-1]+1]\n",
        "    #plt.plot(data[indices])\n",
        "    #plt.show()\n",
        "    #input(\"Press Enter to continue...\")\n",
        "    \n",
        "  return reshaped_data, data_labels"
      ],
      "execution_count": 0,
      "outputs": []
    },
    {
      "cell_type": "code",
      "metadata": {
        "id": "NaQCS5gvAML-",
        "colab_type": "code",
        "colab": {}
      },
      "source": [
        "TRAIN_SPLIT = np.floor(lgn_smooth_hist.size/2)"
      ],
      "execution_count": 0,
      "outputs": []
    },
    {
      "cell_type": "code",
      "metadata": {
        "id": "BFq6pxwCAQmN",
        "colab_type": "code",
        "colab": {}
      },
      "source": [
        "TRAIN_SPLIT=TRAIN_SPLIT.astype('int64')\n",
        "#can't use floats as a slice, so converted to int64"
      ],
      "execution_count": 0,
      "outputs": []
    },
    {
      "cell_type": "code",
      "metadata": {
        "colab_type": "code",
        "outputId": "d3b695c1-9684-4c2d-ffa6-2bd399ebc641",
        "id": "CbmgqV75NLbe",
        "colab": {
          "base_uri": "https://localhost:8080/",
          "height": 391
        }
      },
      "source": [
        "plt.plot(lgn_spike_hist[1:200000])"
      ],
      "execution_count": 0,
      "outputs": [
        {
          "output_type": "execute_result",
          "data": {
            "text/plain": [
              "[<matplotlib.lines.Line2D at 0x7f9565903208>]"
            ]
          },
          "metadata": {
            "tags": []
          },
          "execution_count": 15
        },
        {
          "output_type": "display_data",
          "data": {
            "image/png": "[encoded data removed]",
            "text/plain": [
              "<Figure size 576x432 with 1 Axes>"
            ]
          },
          "metadata": {
            "tags": []
          }
        }
      ]
    },
    {
      "cell_type": "markdown",
      "metadata": {
        "colab_type": "text",
        "id": "gn8A_nrccKtn"
      },
      "source": [
        "Let's now create the data for the univariate model. For part 1, the model will be given the last 20 recorded temperature observations, and needs to learn to predict the temperature at the next time step. "
      ]
    },
    {
      "cell_type": "code",
      "metadata": {
        "colab_type": "code",
        "id": "aJJ-T49vWXOZ",
        "colab": {}
      },
      "source": [
        "univariate_past_history = 250\n",
        "univariate_future_target = 0\n",
        "\n",
        "x_train_uni, y_train_uni = shape_data_for_model(lgn_spike_hist[0:TRAIN_SPLIT],\n",
        "                                           univariate_past_history,\n",
        "                                           univariate_future_target)\n",
        "x_val_uni, y_val_uni = shape_data_for_model(lgn_spike_hist[TRAIN_SPLIT:],\n",
        "                                       univariate_past_history,\n",
        "                                       univariate_future_target)"
      ],
      "execution_count": 0,
      "outputs": []
    },
    {
      "cell_type": "code",
      "metadata": {
        "id": "PFT2iPaFSX8J",
        "colab_type": "code",
        "colab": {}
      },
      "source": [
        "#model needs 3d input, I think this will work\n",
        "x_train_uni = x_train_uni[:,:,None]\n",
        "x_val_uni = x_val_uni[:,:,None]\n"
      ],
      "execution_count": 0,
      "outputs": []
    },
    {
      "cell_type": "code",
      "metadata": {
        "id": "0hpdxl3ZhzyN",
        "colab_type": "code",
        "outputId": "1bc975c4-69e2-4aa8-d6d9-2f3344505c1d",
        "colab": {
          "base_uri": "https://localhost:8080/",
          "height": 391
        }
      },
      "source": [
        "plt.plot(x_train_uni[100000,:])"
      ],
      "execution_count": 0,
      "outputs": [
        {
          "output_type": "execute_result",
          "data": {
            "text/plain": [
              "[<matplotlib.lines.Line2D at 0x7f9565838fd0>]"
            ]
          },
          "metadata": {
            "tags": []
          },
          "execution_count": 25
        },
        {
          "output_type": "display_data",
          "data": {
            "image/png": "[encoded data removed]",
            "text/plain": [
              "<Figure size 576x432 with 1 Axes>"
            ]
          },
          "metadata": {
            "tags": []
          }
        }
      ]
    },
    {
      "cell_type": "markdown",
      "metadata": {
        "id": "e36sxiIUMwbo",
        "colab_type": "text"
      },
      "source": [
        "Now that the data has been created, let's take a look at a single example. The information given to the network is given in blue, and it must predict the value at the red cross."
      ]
    },
    {
      "cell_type": "code",
      "metadata": {
        "id": "XrSQZKtdM2US",
        "colab_type": "code",
        "colab": {}
      },
      "source": [
        "def create_time_steps(length):\n",
        "  time_steps = []\n",
        "  for i in range(-length, 0, 1):\n",
        "    time_steps.append(i)\n",
        "  return time_steps"
      ],
      "execution_count": 0,
      "outputs": []
    },
    {
      "cell_type": "code",
      "metadata": {
        "colab_type": "code",
        "id": "QQeGvh7cWXMR",
        "colab": {}
      },
      "source": [
        "def show_plot(plot_data, delta, title):\n",
        "  labels = ['History', 'True Future', 'Model Prediction']\n",
        "  marker = ['.-', 'rx', 'go']\n",
        "  time_steps = create_time_steps(plot_data[0].shape[0])\n",
        "  print(time_steps)\n",
        "  if delta:\n",
        "    future = delta\n",
        "  else:\n",
        "    future = 0\n",
        "\n",
        "  plt.title(title)\n",
        "  for i, x in enumerate(plot_data):\n",
        "    #pdb.set_trace()\n",
        "    #print(x)\n",
        "    if i:\n",
        "      #print(i)\n",
        "      plt.plot(future, plot_data[i], marker[i], markersize=10,\n",
        "               label=labels[i])\n",
        "    else:\n",
        "      plt.plot(time_steps, plot_data[i].flatten(), marker[i], label=labels[i])\n",
        "      #print('do nothing' + ' ' + str(i))\n",
        "  plt.legend()\n",
        "  plt.xlim([time_steps[0], (future+5)*2])\n",
        "  plt.xlabel('Time-Step')\n",
        "  return plt"
      ],
      "execution_count": 0,
      "outputs": []
    },
    {
      "cell_type": "code",
      "metadata": {
        "id": "qcyjui609z1c",
        "colab_type": "code",
        "colab": {}
      },
      "source": [
        "def baseline(history):\n",
        "  return np.mean(history)"
      ],
      "execution_count": 0,
      "outputs": []
    },
    {
      "cell_type": "markdown",
      "metadata": {
        "id": "HHj0GJxZQvR2",
        "colab_type": "text"
      },
      "source": [
        "# **Basic mechanics**\n",
        "\n",
        "To create an input pipeline, you must start with a data source. For example, to construct a Dataset from data in memory, you can use tf.data.Dataset.from_tensors() or **tf.data.Dataset.from_tensor_slices()**. Alternatively, if your input data is stored in a file in the recommended TFRecord format, you can use tf.data.TFRecordDataset()."
      ]
    },
    {
      "cell_type": "code",
      "metadata": {
        "id": "APyxP5iH94Qp",
        "colab_type": "code",
        "colab": {}
      },
      "source": [
        "BATCH_SIZE = 256\n",
        "BUFFER_SIZE = 10000\n",
        "\n",
        "train_univariate = tf.data.Dataset.from_tensor_slices((x_train_uni, y_train_uni))\n",
        "train_univariate = train_univariate.cache().shuffle(BUFFER_SIZE).batch(BATCH_SIZE).repeat()\n",
        "\n",
        "val_univariate = tf.data.Dataset.from_tensor_slices((x_val_uni, y_val_uni))\n",
        "val_univariate = val_univariate.batch(BATCH_SIZE).repeat()"
      ],
      "execution_count": 0,
      "outputs": []
    },
    {
      "cell_type": "code",
      "metadata": {
        "id": "rcmYCXHgTTGI",
        "colab_type": "code",
        "outputId": "55b72dbe-d1eb-4ce9-e501-49e3dc5be264",
        "colab": {
          "base_uri": "https://localhost:8080/",
          "height": 187
        }
      },
      "source": [
        "tf.random.uniform([4, 10])"
      ],
      "execution_count": 0,
      "outputs": [
        {
          "output_type": "execute_result",
          "data": {
            "text/plain": [
              "<tf.Tensor: shape=(4, 10), dtype=float32, numpy=\n",
              "array([[0.8016418 , 0.5604855 , 0.49106228, 0.05377293, 0.02989674,\n",
              "        0.8228407 , 0.3150339 , 0.54276323, 0.9614556 , 0.6616738 ],\n",
              "       [0.03499424, 0.31867862, 0.16091442, 0.53061736, 0.6445123 ,\n",
              "        0.15656865, 0.98931074, 0.19575846, 0.2617767 , 0.5649947 ],\n",
              "       [0.46816027, 0.5114094 , 0.02032852, 0.02349281, 0.93570065,\n",
              "        0.10419619, 0.80288804, 0.16733575, 0.46961224, 0.82494473],\n",
              "       [0.1726346 , 0.15376472, 0.9915637 , 0.3873204 , 0.39686048,\n",
              "        0.76466906, 0.60434985, 0.1895436 , 0.9568486 , 0.14901412]],\n",
              "      dtype=float32)>"
            ]
          },
          "metadata": {
            "tags": []
          },
          "execution_count": 61
        }
      ]
    },
    {
      "cell_type": "code",
      "metadata": {
        "id": "KGZYpE1D-I-L",
        "colab_type": "code",
        "colab": {}
      },
      "source": [
        "simple_lstm_model = tf.keras.models.Sequential([\n",
        "    tf.keras.layers.LSTM(8, input_shape=x_train_uni.shape[-2:]),\n",
        "    tf.keras.layers.Dense(1)\n",
        "])\n",
        "\n",
        "simple_lstm_model.compile(optimizer='adam', loss='mae')"
      ],
      "execution_count": 0,
      "outputs": []
    },
    {
      "cell_type": "code",
      "metadata": {
        "id": "XkrL17JD-LYR",
        "colab_type": "code",
        "outputId": "fa0a792a-dfca-4187-c407-64a69c650834",
        "colab": {
          "base_uri": "https://localhost:8080/",
          "height": 34
        }
      },
      "source": [
        "for x, y in val_univariate.take(1):\n",
        "    print(simple_lstm_model.predict(x).shape)"
      ],
      "execution_count": 0,
      "outputs": [
        {
          "output_type": "stream",
          "text": [
            "(256, 1)\n"
          ],
          "name": "stdout"
        }
      ]
    },
    {
      "cell_type": "code",
      "metadata": {
        "id": "TiQE8mSl-Puy",
        "colab_type": "code",
        "outputId": "d96d957b-fb1d-48fd-b5e8-24972e6239a5",
        "colab": {
          "base_uri": "https://localhost:8080/",
          "height": 391
        }
      },
      "source": [
        "EVALUATION_INTERVAL = 200\n",
        "EPOCHS = 10\n",
        "\n",
        "simple_lstm_model.fit(train_univariate, epochs=EPOCHS,\n",
        "                      steps_per_epoch=EVALUATION_INTERVAL,\n",
        "                      validation_data=val_univariate, validation_steps=50)"
      ],
      "execution_count": 0,
      "outputs": [
        {
          "output_type": "stream",
          "text": [
            "Train for 200 steps, validate for 50 steps\n",
            "Epoch 1/10\n",
            "200/200 [==============================] - 6s 28ms/step - loss: 0.1740 - val_loss: 0.1737\n",
            "Epoch 2/10\n",
            "200/200 [==============================] - 3s 15ms/step - loss: 0.1657 - val_loss: 0.1738\n",
            "Epoch 3/10\n",
            "200/200 [==============================] - 3s 15ms/step - loss: 0.1651 - val_loss: 0.1734\n",
            "Epoch 4/10\n",
            "200/200 [==============================] - 3s 15ms/step - loss: 0.1676 - val_loss: 0.1739\n",
            "Epoch 5/10\n",
            "200/200 [==============================] - 3s 16ms/step - loss: 0.1632 - val_loss: 0.1733\n",
            "Epoch 6/10\n",
            "200/200 [==============================] - 3s 15ms/step - loss: 0.1647 - val_loss: 0.1737\n",
            "Epoch 7/10\n",
            "200/200 [==============================] - 3s 15ms/step - loss: 0.1624 - val_loss: 0.1736\n",
            "Epoch 8/10\n",
            "200/200 [==============================] - 3s 15ms/step - loss: 0.1586 - val_loss: 0.1734\n",
            "Epoch 9/10\n",
            "200/200 [==============================] - 3s 15ms/step - loss: 0.1553 - val_loss: 0.1743\n",
            "Epoch 10/10\n",
            "200/200 [==============================] - 3s 15ms/step - loss: 0.1543 - val_loss: 0.1737\n"
          ],
          "name": "stdout"
        },
        {
          "output_type": "execute_result",
          "data": {
            "text/plain": [
              "<tensorflow.python.keras.callbacks.History at 0x7f95503c2dd8>"
            ]
          },
          "metadata": {
            "tags": []
          },
          "execution_count": 35
        }
      ]
    },
    {
      "cell_type": "code",
      "metadata": {
        "id": "daiTApHi-ZYi",
        "colab_type": "code",
        "outputId": "287d73f4-3220-460d-dc17-8be907ce189d",
        "colab": {
          "base_uri": "https://localhost:8080/",
          "height": 1000
        }
      },
      "source": [
        "for x, y in val_univariate.take(3):\n",
        "  plot = show_plot([x[0].numpy(), y[0].numpy(),\n",
        "                    simple_lstm_model.predict(x)[0]], 0, 'Simple LSTM model')\n",
        "  plot.show()"
      ],
      "execution_count": 0,
      "outputs": [
        {
          "output_type": "stream",
          "text": [
            "[-250, -249, -248, -247, -246, -245, -244, -243, -242, -241, -240, -239, -238, -237, -236, -235, -234, -233, -232, -231, -230, -229, -228, -227, -226, -225, -224, -223, -222, -221, -220, -219, -218, -217, -216, -215, -214, -213, -212, -211, -210, -209, -208, -207, -206, -205, -204, -203, -202, -201, -200, -199, -198, -197, -196, -195, -194, -193, -192, -191, -190, -189, -188, -187, -186, -185, -184, -183, -182, -181, -180, -179, -178, -177, -176, -175, -174, -173, -172, -171, -170, -169, -168, -167, -166, -165, -164, -163, -162, -161, -160, -159, -158, -157, -156, -155, -154, -153, -152, -151, -150, -149, -148, -147, -146, -145, -144, -143, -142, -141, -140, -139, -138, -137, -136, -135, -134, -133, -132, -131, -130, -129, -128, -127, -126, -125, -124, -123, -122, -121, -120, -119, -118, -117, -116, -115, -114, -113, -112, -111, -110, -109, -108, -107, -106, -105, -104, -103, -102, -101, -100, -99, -98, -97, -96, -95, -94, -93, -92, -91, -90, -89, -88, -87, -86, -85, -84, -83, -82, -81, -80, -79, -78, -77, -76, -75, -74, -73, -72, -71, -70, -69, -68, -67, -66, -65, -64, -63, -62, -61, -60, -59, -58, -57, -56, -55, -54, -53, -52, -51, -50, -49, -48, -47, -46, -45, -44, -43, -42, -41, -40, -39, -38, -37, -36, -35, -34, -33, -32, -31, -30, -29, -28, -27, -26, -25, -24, -23, -22, -21, -20, -19, -18, -17, -16, -15, -14, -13, -12, -11, -10, -9, -8, -7, -6, -5, -4, -3, -2, -1]\n"
          ],
          "name": "stdout"
        },
        {
          "output_type": "display_data",
          "data": {
            "image/png": "[encoded data removed]",
            "text/plain": [
              "<Figure size 576x432 with 1 Axes>"
            ]
          },
          "metadata": {
            "tags": []
          }
        },
        {
          "output_type": "stream",
          "text": [
            "[-250, -249, -248, -247, -246, -245, -244, -243, -242, -241, -240, -239, -238, -237, -236, -235, -234, -233, -232, -231, -230, -229, -228, -227, -226, -225, -224, -223, -222, -221, -220, -219, -218, -217, -216, -215, -214, -213, -212, -211, -210, -209, -208, -207, -206, -205, -204, -203, -202, -201, -200, -199, -198, -197, -196, -195, -194, -193, -192, -191, -190, -189, -188, -187, -186, -185, -184, -183, -182, -181, -180, -179, -178, -177, -176, -175, -174, -173, -172, -171, -170, -169, -168, -167, -166, -165, -164, -163, -162, -161, -160, -159, -158, -157, -156, -155, -154, -153, -152, -151, -150, -149, -148, -147, -146, -145, -144, -143, -142, -141, -140, -139, -138, -137, -136, -135, -134, -133, -132, -131, -130, -129, -128, -127, -126, -125, -124, -123, -122, -121, -120, -119, -118, -117, -116, -115, -114, -113, -112, -111, -110, -109, -108, -107, -106, -105, -104, -103, -102, -101, -100, -99, -98, -97, -96, -95, -94, -93, -92, -91, -90, -89, -88, -87, -86, -85, -84, -83, -82, -81, -80, -79, -78, -77, -76, -75, -74, -73, -72, -71, -70, -69, -68, -67, -66, -65, -64, -63, -62, -61, -60, -59, -58, -57, -56, -55, -54, -53, -52, -51, -50, -49, -48, -47, -46, -45, -44, -43, -42, -41, -40, -39, -38, -37, -36, -35, -34, -33, -32, -31, -30, -29, -28, -27, -26, -25, -24, -23, -22, -21, -20, -19, -18, -17, -16, -15, -14, -13, -12, -11, -10, -9, -8, -7, -6, -5, -4, -3, -2, -1]\n"
          ],
          "name": "stdout"
        },
        {
          "output_type": "display_data",
          "data": {
            "image/png": "[encoded data removed]",
            "text/plain": [
              "<Figure size 576x432 with 1 Axes>"
            ]
          },
          "metadata": {
            "tags": []
          }
        },
        {
          "output_type": "stream",
          "text": [
            "[-250, -249, -248, -247, -246, -245, -244, -243, -242, -241, -240, -239, -238, -237, -236, -235, -234, -233, -232, -231, -230, -229, -228, -227, -226, -225, -224, -223, -222, -221, -220, -219, -218, -217, -216, -215, -214, -213, -212, -211, -210, -209, -208, -207, -206, -205, -204, -203, -202, -201, -200, -199, -198, -197, -196, -195, -194, -193, -192, -191, -190, -189, -188, -187, -186, -185, -184, -183, -182, -181, -180, -179, -178, -177, -176, -175, -174, -173, -172, -171, -170, -169, -168, -167, -166, -165, -164, -163, -162, -161, -160, -159, -158, -157, -156, -155, -154, -153, -152, -151, -150, -149, -148, -147, -146, -145, -144, -143, -142, -141, -140, -139, -138, -137, -136, -135, -134, -133, -132, -131, -130, -129, -128, -127, -126, -125, -124, -123, -122, -121, -120, -119, -118, -117, -116, -115, -114, -113, -112, -111, -110, -109, -108, -107, -106, -105, -104, -103, -102, -101, -100, -99, -98, -97, -96, -95, -94, -93, -92, -91, -90, -89, -88, -87, -86, -85, -84, -83, -82, -81, -80, -79, -78, -77, -76, -75, -74, -73, -72, -71, -70, -69, -68, -67, -66, -65, -64, -63, -62, -61, -60, -59, -58, -57, -56, -55, -54, -53, -52, -51, -50, -49, -48, -47, -46, -45, -44, -43, -42, -41, -40, -39, -38, -37, -36, -35, -34, -33, -32, -31, -30, -29, -28, -27, -26, -25, -24, -23, -22, -21, -20, -19, -18, -17, -16, -15, -14, -13, -12, -11, -10, -9, -8, -7, -6, -5, -4, -3, -2, -1]\n"
          ],
          "name": "stdout"
        },
        {
          "output_type": "display_data",
          "data": {
            "image/png": "[encoded data removed]",
            "text/plain": [
              "<Figure size 576x432 with 1 Axes>"
            ]
          },
          "metadata": {
            "tags": []
          }
        }
      ]
    },
    {
      "cell_type": "code",
      "metadata": {
        "id": "CWji4UNjeuW6",
        "colab_type": "code",
        "colab": {}
      },
      "source": [
        "data_y = np.zeros((1000,))\n",
        "predicted_y = np.zeros((1000,))\n",
        "index=0;\n",
        "for x, y in val_univariate.take(1000):\n",
        "  \n",
        "  data_y[index] = y[0].numpy()\n",
        "  predicted_y[index] = simple_lstm_model.predict(x)[0]\n",
        "  \n",
        "  index+=1\n",
        "  # plot = show_plot([x[0].numpy(), y[0].numpy(),\n",
        "  #                   simple_lstm_model.predict(x)[0]], 0, 'Simple LSTM model')\n",
        "  # plot.show()\n"
      ],
      "execution_count": 0,
      "outputs": []
    },
    {
      "cell_type": "code",
      "metadata": {
        "id": "jcPLifkeCn8L",
        "colab_type": "code",
        "outputId": "7fbec160-8f72-4b50-9031-0348c8043eb4",
        "colab": {
          "base_uri": "https://localhost:8080/",
          "height": 34
        }
      },
      "source": [
        "predicted_y.shape"
      ],
      "execution_count": 0,
      "outputs": [
        {
          "output_type": "execute_result",
          "data": {
            "text/plain": [
              "(1000,)"
            ]
          },
          "metadata": {
            "tags": []
          },
          "execution_count": 79
        }
      ]
    },
    {
      "cell_type": "code",
      "metadata": {
        "id": "v6O15R3kC6Gw",
        "colab_type": "code",
        "outputId": "81a1d0b2-1462-4c12-f487-48cebd369970",
        "colab": {
          "base_uri": "https://localhost:8080/",
          "height": 391
        }
      },
      "source": [
        "\n",
        "plt.plot(predicted_y,'o')\n",
        "plt.plot(data_y,'+')\n"
      ],
      "execution_count": 0,
      "outputs": [
        {
          "output_type": "execute_result",
          "data": {
            "text/plain": [
              "[<matplotlib.lines.Line2D at 0x7f95656d1fd0>]"
            ]
          },
          "metadata": {
            "tags": []
          },
          "execution_count": 38
        },
        {
          "output_type": "display_data",
          "data": {
            "image/png": "[encoded data removed]",
            "text/plain": [
              "<Figure size 576x432 with 1 Axes>"
            ]
          },
          "metadata": {
            "tags": []
          }
        }
      ]
    },
    {
      "cell_type": "code",
      "metadata": {
        "id": "JmcZZ_APDRrp",
        "colab_type": "code",
        "outputId": "19278cfb-b311-4a99-df9b-d72255519592",
        "colab": {
          "base_uri": "https://localhost:8080/",
          "height": 391
        }
      },
      "source": [
        "plt.plot(predicted_y,data_y,'.')"
      ],
      "execution_count": 0,
      "outputs": [
        {
          "output_type": "execute_result",
          "data": {
            "text/plain": [
              "[<matplotlib.lines.Line2D at 0x7f953e4c36d8>]"
            ]
          },
          "metadata": {
            "tags": []
          },
          "execution_count": 39
        },
        {
          "output_type": "display_data",
          "data": {
            "image/png": "[encoded data removed]",
            "text/plain": [
              "<Figure size 576x432 with 1 Axes>"
            ]
          },
          "metadata": {
            "tags": []
          }
        }
      ]
    },
    {
      "cell_type": "code",
      "metadata": {
        "id": "y4DgrxvIIaTa",
        "colab_type": "code",
        "outputId": "47868842-953b-4be3-85f4-0246af09f31c",
        "colab": {
          "base_uri": "https://localhost:8080/",
          "height": 51
        }
      },
      "source": [
        "np.corrcoef(predicted_y,data_y)"
      ],
      "execution_count": 0,
      "outputs": [
        {
          "output_type": "execute_result",
          "data": {
            "text/plain": [
              "array([[ 1.        , -0.02261393],\n",
              "       [-0.02261393,  1.        ]])"
            ]
          },
          "metadata": {
            "tags": []
          },
          "execution_count": 40
        }
      ]
    },
    {
      "cell_type": "code",
      "metadata": {
        "id": "Gxo-a5qNI7gg",
        "colab_type": "code",
        "colab": {}
      },
      "source": [
        ""
      ],
      "execution_count": 0,
      "outputs": []
    }
  ]
}
