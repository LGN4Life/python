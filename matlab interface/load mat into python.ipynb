{
 "cells": [
  {
   "cell_type": "code",
   "execution_count": 15,
   "metadata": {},
   "outputs": [],
   "source": [
    "import scipy.io as sio"
   ]
  },
  {
   "cell_type": "code",
   "execution_count": 16,
   "metadata": {},
   "outputs": [],
   "source": [
    "mat_contents = sio.loadmat('test_load.mat')\n"
   ]
  },
  {
   "cell_type": "code",
   "execution_count": 17,
   "metadata": {
    "scrolled": true
   },
   "outputs": [
    {
     "data": {
      "text/plain": [
       "{'__header__': b'MATLAB 5.0 MAT-file, Platform: PCWIN64, Created on: Sun Nov 24 11:07:30 2019',\n",
       " '__version__': '1.0',\n",
       " '__globals__': [],\n",
       " 'r': array([[0.81472369, 0.90579194, 0.12698682, 0.91337586, 0.63235925,\n",
       "         0.0975404 , 0.27849822, 0.54688152, 0.95750684, 0.96488854,\n",
       "         0.15761308, 0.97059278, 0.95716695, 0.48537565, 0.80028047,\n",
       "         0.14188634, 0.42176128, 0.91573553, 0.79220733, 0.95949243,\n",
       "         0.6557407 , 0.03571168, 0.84912931, 0.93399325, 0.67873515,\n",
       "         0.75774013, 0.74313247, 0.39222702, 0.65547789, 0.17118669,\n",
       "         0.70604609, 0.03183285, 0.27692298, 0.04617139, 0.09713178,\n",
       "         0.82345783, 0.69482862, 0.31709948, 0.95022205, 0.03444608,\n",
       "         0.43874436, 0.38155846, 0.76551679, 0.7951999 , 0.1868726 ,\n",
       "         0.4897644 , 0.4455862 , 0.64631301, 0.70936483, 0.75468668,\n",
       "         0.27602508, 0.67970268, 0.655098  , 0.16261174, 0.11899768,\n",
       "         0.49836405, 0.95974396, 0.34038573, 0.58526775, 0.22381194,\n",
       "         0.75126706, 0.25509512, 0.50595705, 0.69907672, 0.89090325,\n",
       "         0.95929143, 0.54721553, 0.13862444, 0.14929401, 0.25750825,\n",
       "         0.84071726, 0.25428218, 0.81428483, 0.24352497, 0.92926362,\n",
       "         0.34998377, 0.19659525, 0.25108386, 0.61604468, 0.47328885,\n",
       "         0.35165951, 0.83082863, 0.58526409, 0.54972361, 0.91719366,\n",
       "         0.28583902, 0.75720023, 0.75372909, 0.38044585, 0.56782164,\n",
       "         0.07585429, 0.05395012, 0.53079755, 0.77916723, 0.93401068,\n",
       "         0.12990621, 0.56882366, 0.46939064, 0.01190207, 0.33712264]])}"
      ]
     },
     "execution_count": 17,
     "metadata": {},
     "output_type": "execute_result"
    }
   ],
   "source": [
    "mat_contents\n",
    "\n",
    "\n"
   ]
  },
  {
   "cell_type": "code",
   "execution_count": 18,
   "metadata": {},
   "outputs": [],
   "source": [
    "r = mat_contents['r']"
   ]
  },
  {
   "cell_type": "code",
   "execution_count": 19,
   "metadata": {},
   "outputs": [
    {
     "data": {
      "text/plain": [
       "numpy.ndarray"
      ]
     },
     "execution_count": 19,
     "metadata": {},
     "output_type": "execute_result"
    }
   ],
   "source": [
    "type(r)\n",
    "\n"
   ]
  },
  {
   "cell_type": "code",
   "execution_count": 20,
   "metadata": {},
   "outputs": [
    {
     "data": {
      "text/plain": [
       "(1, 100)"
      ]
     },
     "execution_count": 20,
     "metadata": {},
     "output_type": "execute_result"
    }
   ],
   "source": [
    "r.shape"
   ]
  },
  {
   "cell_type": "markdown",
   "metadata": {},
   "source": [
    "You can also load in matlab structs"
   ]
  },
  {
   "cell_type": "code",
   "execution_count": 21,
   "metadata": {},
   "outputs": [],
   "source": [
    "mat_contents = sio.loadmat('test_load_struct.mat')"
   ]
  },
  {
   "cell_type": "code",
   "execution_count": 22,
   "metadata": {},
   "outputs": [
    {
     "name": "stderr",
     "output_type": "stream",
     "text": [
      "UsageError: Line magic function `%matlab` not found.\n"
     ]
    }
   ],
   "source": [
    "type(mat_contents)\n",
    "%matlab structs are loaded as a dictionary"
   ]
  },
  {
   "cell_type": "code",
   "execution_count": 23,
   "metadata": {},
   "outputs": [],
   "source": [
    "my_struct = mat_contents['my_struct']\n"
   ]
  },
  {
   "cell_type": "code",
   "execution_count": 24,
   "metadata": {},
   "outputs": [
    {
     "data": {
      "text/plain": [
       "array([[(array([[0.16218231, 0.79428454, 0.31121504, 0.52853314, 0.16564873,\n",
       "        0.60198194, 0.26297128, 0.6540791 , 0.6892145 , 0.74815159]]), array([[0.4505416 , 0.08382138, 0.22897697, 0.91333736, 0.15237802,\n",
       "        0.82581698, 0.53834244, 0.99613472, 0.07817553, 0.44267827]]))]],\n",
       "      dtype=[('r', 'O'), ('r2', 'O')])"
      ]
     },
     "execution_count": 24,
     "metadata": {},
     "output_type": "execute_result"
    }
   ],
   "source": [
    "my_struct"
   ]
  },
  {
   "cell_type": "code",
   "execution_count": null,
   "metadata": {},
   "outputs": [],
   "source": []
  },
  {
   "cell_type": "code",
   "execution_count": null,
   "metadata": {},
   "outputs": [],
   "source": [
    "val = my_struct[0,0]"
   ]
  },
  {
   "cell_type": "code",
   "execution_count": null,
   "metadata": {},
   "outputs": [],
   "source": [
    "val"
   ]
  },
  {
   "cell_type": "code",
   "execution_count": null,
   "metadata": {},
   "outputs": [],
   "source": [
    "val['r']"
   ]
  },
  {
   "cell_type": "code",
   "execution_count": null,
   "metadata": {},
   "outputs": [],
   "source": [
    "val['r2']"
   ]
  },
  {
   "cell_type": "code",
   "execution_count": null,
   "metadata": {},
   "outputs": [],
   "source": [
    "val.dtype"
   ]
  },
  {
   "cell_type": "code",
   "execution_count": null,
   "metadata": {},
   "outputs": [],
   "source": [
    "type(val['r'])"
   ]
  },
  {
   "cell_type": "code",
   "execution_count": null,
   "metadata": {},
   "outputs": [],
   "source": []
  }
 ],
 "metadata": {
  "kernelspec": {
   "display_name": "Python 3",
   "language": "python",
   "name": "python3"
  },
  "language_info": {
   "codemirror_mode": {
    "name": "ipython",
    "version": 3
   },
   "file_extension": ".py",
   "mimetype": "text/x-python",
   "name": "python",
   "nbconvert_exporter": "python",
   "pygments_lexer": "ipython3",
   "version": "3.7.1"
  }
 },
 "nbformat": 4,
 "nbformat_minor": 2
}
