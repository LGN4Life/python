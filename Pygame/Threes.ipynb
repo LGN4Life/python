{
 "cells": [
  {
   "cell_type": "code",
   "execution_count": 23,
   "metadata": {},
   "outputs": [],
   "source": [
    "import pygame as pg\n",
    "import numpy as np"
   ]
  },
  {
   "cell_type": "code",
   "execution_count": 2,
   "metadata": {},
   "outputs": [
    {
     "data": {
      "text/plain": [
       "(6, 0)"
      ]
     },
     "execution_count": 2,
     "metadata": {},
     "output_type": "execute_result"
    }
   ],
   "source": [
    "pg.init()"
   ]
  },
  {
   "cell_type": "code",
   "execution_count": 73,
   "metadata": {},
   "outputs": [],
   "source": [
    "class Tiles:\n",
    "    def __init__(self,number,x,y,velocity=1):\n",
    "        if number==1:\n",
    "            self.icon = pg.image.load('C:/Henry/PythonProjects/Pygame/Threes/images/one.png')\n",
    "        elif number ==2:\n",
    "            self.icon = pg.image.load('C:/Henry/PythonProjects/Pygame/Threes/images/two.png')\n",
    "        else:\n",
    "            print('invalid number provided')\n",
    "        self.grid_location = np.array([0,0])\n",
    "        self.x = x;\n",
    "        self.y = y;\n",
    "        self.velocity = velocity;\n",
    "    def update_position(self,keys,ex_state):\n",
    "        if ex_state:\n",
    "            if keys[pg.K_LEFT]:\n",
    "                self.x-=self.velocity\n",
    "                ex_state=False\n",
    "            elif keys[pg.K_RIGHT]:\n",
    "                self.x+=self.velocity\n",
    "                ex_state=False\n",
    "            elif keys[pg.K_UP]:\n",
    "                self.y-=self.velocity\n",
    "                ex_state=False\n",
    "            elif keys[pg.K_DOWN]:\n",
    "                self.y+=self.velocity\n",
    "                ex_state=False\n",
    "        if event.type == pg.KEYUP:\n",
    "            ex_state = True;\n",
    "        return ex_state\n",
    "    "
   ]
  },
  {
   "cell_type": "code",
   "execution_count": 76,
   "metadata": {},
   "outputs": [],
   "source": [
    "tiles_1 = Tiles(number = 1,x =100,y=100,velocity = 79)\n",
    "tiles_2 = Tiles(number = 2,x =300,y=300,velocity = 10)"
   ]
  },
  {
   "cell_type": "code",
   "execution_count": 59,
   "metadata": {},
   "outputs": [],
   "source": [
    "grid  =pg.image.load('C:/Henry/PythonProjects/Pygame/Threes/images/grid.png')\n"
   ]
  },
  {
   "cell_type": "code",
   "execution_count": null,
   "metadata": {},
   "outputs": [],
   "source": []
  },
  {
   "cell_type": "code",
   "execution_count": 77,
   "metadata": {
    "scrolled": true
   },
   "outputs": [],
   "source": [
    "running = True\n",
    "\n",
    "screen = pg.display.set_mode((800,600))\n",
    "screen.fill((0,0,255))\n",
    "pg.display.set_caption(\"Threes!\")\n",
    "\n",
    "obstacles_pos = []\n",
    "ex_state=True;\n",
    "while running:\n",
    "    #pg.time.delay(100)\n",
    "    screen.fill((0,0,255))\n",
    "    screen.blit(grid,(0,0))\n",
    "    screen.blit(tiles_1.icon,(tiles_1.x,tiles_1.y))\n",
    "    screen.blit(tiles_2.icon,(tiles_2.x,tiles_2.y))\n",
    "    keys = pg.key.get_pressed()\n",
    "    ex_state = tiles_1.update_position(keys,ex_state)\n",
    "    pg.display.update()\n",
    "\n",
    "    \n",
    "    for event in pg.event.get():\n",
    "            if event.type == pg.QUIT:\n",
    "                running = False\n",
    "                pg.display.quit()\n",
    "            if event.type == pg.MOUSEBUTTONDOWN:\n",
    "                print('mouse clicked')\n",
    "\n",
    "    \n",
    "      \n",
    "            "
   ]
  },
  {
   "cell_type": "code",
   "execution_count": 56,
   "metadata": {},
   "outputs": [],
   "source": [
    "pg.display.quit()"
   ]
  },
  {
   "cell_type": "code",
   "execution_count": 49,
   "metadata": {},
   "outputs": [
    {
     "data": {
      "text/plain": [
       "<Surface(79x102x32 SW)>"
      ]
     },
     "execution_count": 49,
     "metadata": {},
     "output_type": "execute_result"
    }
   ],
   "source": [
    "tiles_1.icon"
   ]
  },
  {
   "cell_type": "code",
   "execution_count": null,
   "metadata": {},
   "outputs": [],
   "source": []
  }
 ],
 "metadata": {
  "kernelspec": {
   "display_name": "Python 3",
   "language": "python",
   "name": "python3"
  },
  "language_info": {
   "codemirror_mode": {
    "name": "ipython",
    "version": 3
   },
   "file_extension": ".py",
   "mimetype": "text/x-python",
   "name": "python",
   "nbconvert_exporter": "python",
   "pygments_lexer": "ipython3",
   "version": "3.7.1"
  }
 },
 "nbformat": 4,
 "nbformat_minor": 2
}
