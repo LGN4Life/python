{
 "cells": [
  {
   "cell_type": "code",
   "execution_count": 2,
   "metadata": {},
   "outputs": [],
   "source": [
    "import pygame as pg\n",
    "import numpy as np\n",
    "import pdb\n"
   ]
  },
  {
   "cell_type": "code",
   "execution_count": 3,
   "metadata": {},
   "outputs": [],
   "source": [
    "def loadIcons():\n",
    "    possible_icons  = [1,2,3,6,12,24,48,96,192,384,768,1536,3072,6144, 12288]\n",
    "    icons = dict()\n",
    "    for index in possible_icons:\n",
    "        icons[index] =pg.image.load('C:/Henry/PythonProjects/Pygame/Threes/images/_' + str(index) + '.png')\n",
    "    return icons "
   ]
  },
  {
   "cell_type": "code",
   "execution_count": 200,
   "metadata": {},
   "outputs": [
    {
     "name": "stdout",
     "output_type": "stream",
     "text": [
      "1.0\n"
     ]
    }
   ],
   "source": [
    "grid = np.ones((4,4))\n",
    "x = [0,0]\n",
    "print(grid[x[0],x[1]])"
   ]
  },
  {
   "cell_type": "code",
   "execution_count": 226,
   "metadata": {},
   "outputs": [
    {
     "name": "stdout",
     "output_type": "stream",
     "text": [
      "[3 2 1 0]\n"
     ]
    }
   ],
   "source": [
    "a = np.array(range(4))\n",
    "a = np.flip(a)\n",
    "print(a)"
   ]
  },
  {
   "cell_type": "code",
   "execution_count": 249,
   "metadata": {},
   "outputs": [
    {
     "name": "stdout",
     "output_type": "stream",
     "text": [
      "3\n",
      "2\n",
      "1\n",
      "0\n"
     ]
    }
   ],
   "source": [
    "x_range = np.array(range(4),dtype = int)\n",
    "y_range = np.array([range(4)],dtype = int)\n",
    "x_range = np.flip(x_range)\n",
    "for x in x_range:\n",
    "        print(x)"
   ]
  },
  {
   "cell_type": "code",
   "execution_count": null,
   "metadata": {},
   "outputs": [],
   "source": []
  },
  {
   "cell_type": "code",
   "execution_count": 277,
   "metadata": {},
   "outputs": [],
   "source": [
    "class Tiles:\n",
    "    def __init__(self, tile_count):\n",
    "        self.icons =  loadIcons()\n",
    "        initial_number = np.zeros((16,)).astype(int)\n",
    "        initial_number[0:4] = np.random.randint(1,4,(4,))\n",
    "        initial_number = initial_number[np.random.permutation(16)]\n",
    "        initial_number = np.reshape(initial_number,(4,4))\n",
    "        self.grid = np.transpose(initial_number)\n",
    "\n",
    "\n",
    "    \n",
    "    def determineMove(self,keys):\n",
    "        current_move = [0, 0]\n",
    "   \n",
    "        if keys[pg.K_LEFT]:\n",
    "            current_move = [0, -1]\n",
    "  \n",
    "        elif keys[pg.K_UP]:\n",
    "            current_move = [-1, 0]\n",
    "          \n",
    "        elif keys[pg.K_RIGHT]:\n",
    "            current_move = [0, 1]\n",
    "            \n",
    "        elif keys[pg.K_DOWN]:\n",
    "            current_move = [1,0]\n",
    "            \n",
    "        return current_move\n",
    "    def updatePosition(self,current_move):\n",
    "        x_range = np.array(range(4),dtype = int)\n",
    "        y_range = np.array(range(4),dtype = int)\n",
    "        if current_move[0] == 1:\n",
    "            x_range = np.flip(x_range)\n",
    "        if current_move[1] == 1:\n",
    "            y_range = np.flip(y_range)\n",
    "  \n",
    "        for x in x_range:\n",
    "            if x+current_move[0]>-1 and x+current_move[0]<4:\n",
    "                for y in y_range:\n",
    "                    if y+current_move[1]>-1 and y+current_move[1]<4:\n",
    "                        if self.grid[x,y] !=0:\n",
    "                            new_pos = np.array([x,y]) + current_move\n",
    "                            if self.grid[new_pos[0],new_pos[1]] == 0:\n",
    "                                self.grid[new_pos[0],new_pos[1]]  = self.grid[x,y] \n",
    "                                self.grid[x,y] = 0\n",
    "                            elif self.grid[new_pos[0],new_pos[1]] + self.grid[x,y] == 3:\n",
    "                                self.grid[x,y] =0\n",
    "                                self.grid[new_pos[0],new_pos[1]] =3\n",
    "                            elif self.grid[new_pos[0],new_pos[1]] == self.grid[x,y]:\n",
    "                                if self.grid[new_pos[0],new_pos[1]] + self.grid[x,y]>3:\n",
    "                                    self.grid[x,y]=0\n",
    "                                    print('combine tiles')\n",
    "                                    self.grid[new_pos[0],new_pos[1]]  *= 2\n",
    "                                \n",
    "                     \n",
    "            \n",
    "      \n",
    "        return self\n",
    "    def drawTiles(self):\n",
    "        for x in range(4):\n",
    "            for y in range(4):\n",
    "                if self.grid[x,y] !=0:\n",
    "                    current_number = self.grid[x,y]\n",
    "                    screen.blit(self.icons[current_number],(y*self.icons[current_number].get_width(),\n",
    "                                      x*self.icons[current_number].get_height()))\n",
    "    def checkMovement(self,index,new_pos):\n",
    "        delete_tile = False\n",
    "        if sum(np.isin(self.grid_pos,new_pos))==0:\n",
    "            self.grid_pos[index] = new_pos                        \n",
    "        else:\n",
    "            new_pos_index_logical = self.grid_pos == new_pos\n",
    "            new_pos_number = self.number[new_pos_index_logical]\n",
    "            if self.number[index] + new_pos_number == 3:\n",
    "                print('tile 1 = ' + str(self.number[index]) + ' tile 2 = ' + str(new_pos_number))\n",
    "                self.number[new_pos_index_logical] = 3\n",
    "                delete_tile = True\n",
    "                \n",
    "                \n",
    "        return self, delete_tile\n",
    "        \n",
    "        \n",
    "   \n",
    "    "
   ]
  },
  {
   "cell_type": "code",
   "execution_count": 216,
   "metadata": {},
   "outputs": [
    {
     "name": "stdout",
     "output_type": "stream",
     "text": [
      "[0 1]\n"
     ]
    }
   ],
   "source": [
    "x=0\n",
    "y=1\n",
    "new_pos = np.array([x,y]) + current_move\n",
    "print(new_pos)"
   ]
  },
  {
   "cell_type": "code",
   "execution_count": 273,
   "metadata": {},
   "outputs": [
    {
     "name": "stdout",
     "output_type": "stream",
     "text": [
      "6\n"
     ]
    }
   ],
   "source": [
    "a=2\n",
    "a*=3\n",
    "print(a)"
   ]
  },
  {
   "cell_type": "code",
   "execution_count": 278,
   "metadata": {
    "scrolled": true
   },
   "outputs": [
    {
     "name": "stdout",
     "output_type": "stream",
     "text": [
      "mouse clicked\n",
      "combine tiles\n"
     ]
    }
   ],
   "source": [
    "running = True\n",
    "current_x = 0\n",
    "current_y = 0\n",
    "screen = pg.display.set_mode((800,600))\n",
    "screen.fill((0,0,255))\n",
    "pg.display.set_caption(\"Threes!\")\n",
    "\n",
    "\n",
    "grid  =pg.image.load('C:/Henry/PythonProjects/Pygame/Threes/images/grid.png')\n",
    "tile_list = [1,2,3,6,12,24,48,96,192,384,768,1536,3072,6144]\n",
    "start_num = 2\n",
    "\n",
    "game_tiles = Tiles(start_num)\n",
    "\n",
    "ex_state=True\n",
    "\n",
    "while running:\n",
    "    #pg.time.delay(100)\n",
    "    screen.fill((0,0,255))\n",
    "    screen.blit(grid,(0,0))\n",
    "    keys = pg.key.get_pressed()\n",
    "    if ex_state and sum(keys)>0:\n",
    "        current_move = game_tiles.determineMove(keys)\n",
    "        \n",
    "        ex_state = False\n",
    "    else:\n",
    "        current_move = np.array([0,0])\n",
    "    if sum(current_move) !=0:\n",
    "        game_tiles = game_tiles.updatePosition(current_move)\n",
    "    game_tiles.drawTiles()\n",
    "        \n",
    "    \n",
    "            \n",
    "    pg.display.update()\n",
    "\n",
    "    \n",
    "    for event in pg.event.get():\n",
    "        if event.type == pg.QUIT:\n",
    "            running = False\n",
    "            pg.display.quit()\n",
    "        if event.type == pg.MOUSEBUTTONDOWN:\n",
    "            print('mouse clicked')\n",
    "        if event.type == pg.KEYUP:\n",
    "            ex_state = True;\n",
    "\n",
    "    \n",
    "      \n",
    "            "
   ]
  },
  {
   "cell_type": "code",
   "execution_count": 276,
   "metadata": {},
   "outputs": [],
   "source": [
    "\n",
    "pg.display.quit()\n"
   ]
  },
  {
   "cell_type": "code",
   "execution_count": 101,
   "metadata": {},
   "outputs": [
    {
     "data": {
      "text/plain": [
       "2"
      ]
     },
     "execution_count": 101,
     "metadata": {},
     "output_type": "execute_result"
    }
   ],
   "source": [
    "a = np.ones((2,),dtype = bool)\n",
    "sum(a)"
   ]
  },
  {
   "cell_type": "code",
   "execution_count": 43,
   "metadata": {},
   "outputs": [
    {
     "name": "stdout",
     "output_type": "stream",
     "text": [
      "False\n"
     ]
    }
   ],
   "source": [
    "a = False\n",
    "if not(a):\n",
    "    print('False')"
   ]
  },
  {
   "cell_type": "code",
   "execution_count": 25,
   "metadata": {},
   "outputs": [
    {
     "data": {
      "text/plain": [
       "array([0, 1, 2])"
      ]
     },
     "execution_count": 25,
     "metadata": {},
     "output_type": "execute_result"
    }
   ],
   "source": [
    "a = np.array([0, 1, 2])\n",
    "np.where(a < 4, a, -1)  # -1 is broadcast\n"
   ]
  },
  {
   "cell_type": "code",
   "execution_count": 23,
   "metadata": {},
   "outputs": [
    {
     "data": {
      "text/plain": [
       "(3, 3)"
      ]
     },
     "execution_count": 23,
     "metadata": {},
     "output_type": "execute_result"
    }
   ],
   "source": [
    "a.shape"
   ]
  },
  {
   "cell_type": "code",
   "execution_count": null,
   "metadata": {},
   "outputs": [],
   "source": []
  }
 ],
 "metadata": {
  "kernelspec": {
   "display_name": "Python 3",
   "language": "python",
   "name": "python3"
  },
  "language_info": {
   "codemirror_mode": {
    "name": "ipython",
    "version": 3
   },
   "file_extension": ".py",
   "mimetype": "text/x-python",
   "name": "python",
   "nbconvert_exporter": "python",
   "pygments_lexer": "ipython3",
   "version": "3.7.4"
  }
 },
 "nbformat": 4,
 "nbformat_minor": 2
}
