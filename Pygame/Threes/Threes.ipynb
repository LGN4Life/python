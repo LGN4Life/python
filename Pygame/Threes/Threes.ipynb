{
 "cells": [
  {
   "cell_type": "code",
   "execution_count": 132,
   "metadata": {},
   "outputs": [],
   "source": [
    "import pygame as pg\n",
    "import numpy as np\n",
    "import pdb\n"
   ]
  },
  {
   "cell_type": "code",
   "execution_count": 89,
   "metadata": {},
   "outputs": [
    {
     "data": {
      "text/plain": [
       "[<Surface(79x102x32 SW)>, <Surface(79x103x32 SW)>, <Surface(79x103x32 SW)>]"
      ]
     },
     "execution_count": 89,
     "metadata": {},
     "output_type": "execute_result"
    }
   ],
   "source": []
  },
  {
   "cell_type": "code",
   "execution_count": 168,
   "metadata": {},
   "outputs": [],
   "source": [
    "class Tiles:\n",
    "    def __init__(self, tile_count):\n",
    "        self.number = np.zeros((tile_count,),dtype = int)\n",
    "        self.grid_pos = np.zeros((tile_count,))\n",
    "        self.icon =[]\n",
    "    \n",
    "        gird_pos = np.random.permutation(16)\n",
    "        for index in range(tile_count):\n",
    "            self.number[index] = np.random.randint(1,4)\n",
    "            self.icon.append(pg.image.load('C:/Henry/PythonProjects/Pygame/Threes/images/_' + str(self.number[index]) + '.png'))\n",
    "            self.grid_pos[index] = gird_pos[index]\n",
    "            self.drawTile(index)\n",
    "        \n",
    "        \n",
    "        \n",
    "    def determineMove(self,keys):\n",
    "        current_move = 0\n",
    "\n",
    "        if keys[pg.K_LEFT]:\n",
    "            move_order = np.argsort(self.grid_pos)\n",
    "            current_move = -4\n",
    "        elif keys[pg.K_UP]:\n",
    "            move_order = np.argsort(self.grid_pos)\n",
    "            current_move = -1\n",
    "    \n",
    "        elif keys[pg.K_RIGHT]:\n",
    "            move_order = np.argsort(self.grid_pos)\n",
    "            move_order = move_order[-1:0:-1]\n",
    "            current_move = 4\n",
    "        elif keys[pg.K_DOWN]:\n",
    "            move_order = np.argsort(self.grid_pos)\n",
    "            move_order = move_order[-1:0:-1]\n",
    "            current_move = 1\n",
    "        else:\n",
    "            move_order = np.argsort(self.grid_pos)\n",
    "        return current_move, move_order\n",
    "    def updatePosition(self,current_move, move_order):\n",
    "        for index  in range(len(self.number)):\n",
    "            if current_move != 0:\n",
    "                print('current_move = ' + str(current_move))\n",
    "                print('current pos = ' + str(self.grid_pos[index]))\n",
    "                if np.mod(self.grid_pos[index]+ current_move,4) !=1 and np.mod(self.grid_pos[index]+ current_move,4) <3:\n",
    "                    if sum(np.isin(self.grid_pos,self.grid_pos[index]+current_move))==0:\n",
    "                        self.grid_pos[index]+=current_move\n",
    "                    else:\n",
    "                        blockIndex = np.where(self.grid_pos==self.grid_pos[index]-1)\n",
    "                        blockVal = self.number[blockIndex]\n",
    "                        if self.number[index] == 1 or self.number[index] == 2:\n",
    "                            if blockVal == 1 or blockVal ==2:\n",
    "                                print('combine to make three')\n",
    "                            else:\n",
    "                                print('move blocked!')\n",
    "\n",
    "                        elif self.number[index] == blockVal:\n",
    "                            print('combine values and remove one tile')\n",
    "                        else:\n",
    "                            if current_move !=0:\n",
    "                                print('move blocked')\n",
    "            self.drawTile(index)\n",
    "        return self\n",
    "    def drawTile(self,index):\n",
    "        current_y = np.mod(self.grid_pos[index],4)\n",
    "        current_x = np.floor(self.grid_pos[index]/4)\n",
    "        screen.blit(self.icon[index],(current_x*self.icon[index].get_width(),current_y*self.icon[index].get_height()))\n",
    "        \n",
    "        \n",
    "        \n",
    "        \n",
    "        \n",
    "        \n",
    "  \n",
    "        \n",
    "        return self\n",
    "   \n",
    "    "
   ]
  },
  {
   "cell_type": "code",
   "execution_count": 169,
   "metadata": {
    "scrolled": true
   },
   "outputs": [
    {
     "name": "stdout",
     "output_type": "stream",
     "text": [
      "current_move = -1\n",
      "current pos = 15.0\n",
      "current_move = -1\n",
      "current pos = 14.0\n",
      "current_move = -1\n",
      "current pos = 14.0\n"
     ]
    }
   ],
   "source": [
    "running = True\n",
    "current_x = 0\n",
    "current_y = 0\n",
    "screen = pg.display.set_mode((800,600))\n",
    "screen.fill((0,0,255))\n",
    "pg.display.set_caption(\"Threes!\")\n",
    "\n",
    "\n",
    "grid  =pg.image.load('C:/Henry/PythonProjects/Pygame/Threes/images/grid.png')\n",
    "tile_list = [1,2,3,6,12,24,48,96,192,384,768,1536,3072,6144]\n",
    "start_num = 1\n",
    "\n",
    "game_tiles = Tiles(start_num)\n",
    "game_tiles.icon\n",
    "\n",
    "\n",
    "obstacles_pos = []\n",
    "ex_state=True\n",
    "\n",
    "while running:\n",
    "    #pg.time.delay(100)\n",
    "    screen.fill((0,0,255))\n",
    "    screen.blit(grid,(0,0))\n",
    "    keys = pg.key.get_pressed()\n",
    "#     pdb.set_trace()\n",
    "    if ex_state and sum(keys)>0:\n",
    "        current_move, move_order = game_tiles.determineMove(keys)\n",
    "        \n",
    "        ex_state = False\n",
    "    else:\n",
    "        current_move = 0\n",
    "        move_order = np.argsort(game_tiles.grid_pos)\n",
    "    game_tiles = game_tiles.updatePosition(current_move, move_order)\n",
    "        \n",
    "    \n",
    "            \n",
    "    pg.display.update()\n",
    "\n",
    "    \n",
    "    for event in pg.event.get():\n",
    "        if event.type == pg.QUIT:\n",
    "            running = False\n",
    "            pg.display.quit()\n",
    "        if event.type == pg.MOUSEBUTTONDOWN:\n",
    "            print('mouse clicked')\n",
    "        if event.type == pg.KEYUP:\n",
    "            ex_state = True;\n",
    "\n",
    "    \n",
    "      \n",
    "            "
   ]
  },
  {
   "cell_type": "code",
   "execution_count": 146,
   "metadata": {},
   "outputs": [],
   "source": [
    "pg.display.quit()"
   ]
  },
  {
   "cell_type": "code",
   "execution_count": 118,
   "metadata": {},
   "outputs": [
    {
     "data": {
      "text/plain": [
       "array([0, 0])"
      ]
     },
     "execution_count": 118,
     "metadata": {},
     "output_type": "execute_result"
    }
   ],
   "source": [
    "current_move"
   ]
  },
  {
   "cell_type": "code",
   "execution_count": 143,
   "metadata": {},
   "outputs": [
    {
     "name": "stdout",
     "output_type": "stream",
     "text": [
      "6\n",
      "[[2. 1.]\n",
      " [0. 0.]]\n"
     ]
    }
   ],
   "source": [
    "grid_pos = np.random.permutation(10)\n",
    "test_pos = np.zeros((2,2))\n",
    "test_pos[0,0:2] = [np.mod(grid_pos[0],4),np.floor(grid_pos[0]/4)]\n",
    "print(grid_pos[0])\n",
    "print(test_pos)"
   ]
  },
  {
   "cell_type": "code",
   "execution_count": null,
   "metadata": {},
   "outputs": [],
   "source": []
  }
 ],
 "metadata": {
  "kernelspec": {
   "display_name": "Python 3",
   "language": "python",
   "name": "python3"
  },
  "language_info": {
   "codemirror_mode": {
    "name": "ipython",
    "version": 3
   },
   "file_extension": ".py",
   "mimetype": "text/x-python",
   "name": "python",
   "nbconvert_exporter": "python",
   "pygments_lexer": "ipython3",
   "version": "3.7.4"
  }
 },
 "nbformat": 4,
 "nbformat_minor": 2
}
