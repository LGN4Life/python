{
 "cells": [
  {
   "cell_type": "code",
   "execution_count": 132,
   "metadata": {},
   "outputs": [],
   "source": [
    "import pygame as pg\n",
    "import numpy as np\n",
    "import pdb\n"
   ]
  },
  {
   "cell_type": "code",
   "execution_count": 89,
   "metadata": {},
   "outputs": [
    {
     "data": {
      "text/plain": [
       "[<Surface(79x102x32 SW)>, <Surface(79x103x32 SW)>, <Surface(79x103x32 SW)>]"
      ]
     },
     "execution_count": 89,
     "metadata": {},
     "output_type": "execute_result"
    }
   ],
   "source": []
  },
  {
   "cell_type": "code",
   "execution_count": 233,
   "metadata": {},
   "outputs": [],
   "source": [
    "class Tiles:\n",
    "    def __init__(self, tile_count):\n",
    "        self.number = np.zeros((tile_count,),dtype = int)\n",
    "        self.grid_pos = np.zeros((tile_count,2),dtype = int)\n",
    "        self.icon =[]\n",
    "    \n",
    "        gird_pos = np.random.permutation(16)\n",
    "        for index in range(tile_count):\n",
    "            self.number[index] = np.random.randint(1,4)\n",
    "            self.icon.append(pg.image.load('C:/Henry/PythonProjects/Pygame/Threes/images/_' + str(self.number[index]) + '.png'))\n",
    "            self.grid_pos[index,0:2] = [np.mod(grid_pos[index],4),np.floor(grid_pos[index]/4)]\n",
    "            self.drawTile(index)\n",
    "        \n",
    "        \n",
    "        \n",
    "    def determineMove(self,keys):\n",
    "        current_move = [0, 0]\n",
    "\n",
    "        if keys[pg.K_LEFT]:\n",
    "            move_order = np.argsort(self.grid_pos[:,1])\n",
    "            current_move = [0, -1]\n",
    "        elif keys[pg.K_UP]:\n",
    "            move_order = np.argsort(self.grid_pos[:,0])\n",
    "            current_move = [-1, 0]\n",
    "    \n",
    "        elif keys[pg.K_RIGHT]:\n",
    "            move_order = np.argsort(self.grid_pos[:,1])\n",
    "            move_order = move_order[-1:0:-1]\n",
    "            current_move = [0, 1]\n",
    "        elif keys[pg.K_DOWN]:\n",
    "            move_order = np.argsort(self.grid_pos[:,0])\n",
    "            move_order = move_order[-1:0:-1]\n",
    "            current_move = [1,0]\n",
    "        else:\n",
    "            move_order = np.argsort(self.grid_pos)\n",
    "        return current_move, move_order\n",
    "    def updatePosition(self,current_move, move_order):\n",
    "        for index  in range(len(self.number)):\n",
    "            if np.sum(current_move) != 0:\n",
    "                if current_move[0] == 1  and self.grid_pos[index,0]<3:\n",
    "                    next_x = self.grid_pos[index,0]\n",
    "                    next_y =  self.grid_pos[index,1]+1\n",
    "                elif current_move[0] == -1 and self.grid_pos[index,0]>0:\n",
    "                    \n",
    "                    \n",
    "                elif current_move[1] == 1  and self.grid_pos[index,1]<3:\n",
    "                    self.grid_pos[index,1] +=1\n",
    "                    print('move right')\n",
    "                    \n",
    "                elif current_move[1] == -1  and self.grid_pos[index,1]>0:\n",
    "                    self.grid_pos[index,1] -=1\n",
    "                    print('move left')\n",
    "                else:\n",
    "                    print(self.grid_pos[index,:])\n",
    "                    print('illegal move prevented')\n",
    "                \n",
    "               \n",
    "            self.drawTile(index)\n",
    "        return self\n",
    "    def drawTile(self,index):\n",
    "        screen.blit(self.icon[index],(self.grid_pos[index,1]*self.icon[index].get_width(),\n",
    "                                      self.grid_pos[index,0]*self.icon[index].get_height()))\n",
    "        \n",
    "        \n",
    "        \n",
    "        \n",
    "        \n",
    "        \n",
    "  \n",
    "        \n",
    "        return self\n",
    "   \n",
    "    "
   ]
  },
  {
   "cell_type": "code",
   "execution_count": 234,
   "metadata": {
    "scrolled": true
   },
   "outputs": [
    {
     "name": "stdout",
     "output_type": "stream",
     "text": [
      "move up\n",
      "move up\n",
      "[0 1]\n",
      "illegal move prevented\n",
      "up move blocked by tile\n",
      "up move blocked by tile\n",
      "[0 1]\n",
      "illegal move prevented\n"
     ]
    }
   ],
   "source": [
    "running = True\n",
    "current_x = 0\n",
    "current_y = 0\n",
    "screen = pg.display.set_mode((800,600))\n",
    "screen.fill((0,0,255))\n",
    "pg.display.set_caption(\"Threes!\")\n",
    "\n",
    "\n",
    "grid  =pg.image.load('C:/Henry/PythonProjects/Pygame/Threes/images/grid.png')\n",
    "tile_list = [1,2,3,6,12,24,48,96,192,384,768,1536,3072,6144]\n",
    "start_num = 3\n",
    "\n",
    "game_tiles = Tiles(start_num)\n",
    "game_tiles.icon\n",
    "\n",
    "\n",
    "obstacles_pos = []\n",
    "ex_state=True\n",
    "\n",
    "while running:\n",
    "    #pg.time.delay(100)\n",
    "    screen.fill((0,0,255))\n",
    "    screen.blit(grid,(0,0))\n",
    "    keys = pg.key.get_pressed()\n",
    "#     pdb.set_trace()\n",
    "    if ex_state and sum(keys)>0:\n",
    "        current_move, move_order = game_tiles.determineMove(keys)\n",
    "        \n",
    "        ex_state = False\n",
    "    else:\n",
    "        current_move = 0\n",
    "        move_order = np.argsort(game_tiles.grid_pos)\n",
    "    game_tiles = game_tiles.updatePosition(current_move, move_order)\n",
    "        \n",
    "    \n",
    "            \n",
    "    pg.display.update()\n",
    "\n",
    "    \n",
    "    for event in pg.event.get():\n",
    "        if event.type == pg.QUIT:\n",
    "            running = False\n",
    "            pg.display.quit()\n",
    "        if event.type == pg.MOUSEBUTTONDOWN:\n",
    "            print('mouse clicked')\n",
    "        if event.type == pg.KEYUP:\n",
    "            ex_state = True;\n",
    "\n",
    "    \n",
    "      \n",
    "            "
   ]
  },
  {
   "cell_type": "code",
   "execution_count": 196,
   "metadata": {},
   "outputs": [],
   "source": [
    "pg.display.quit()"
   ]
  },
  {
   "cell_type": "code",
   "execution_count": 241,
   "metadata": {},
   "outputs": [
    {
     "name": "stdout",
     "output_type": "stream",
     "text": [
      "2\n"
     ]
    }
   ],
   "source": [
    "mat = np.array([[1,3], [2, 5]])\n",
    "print(mat[1,0])"
   ]
  },
  {
   "cell_type": "code",
   "execution_count": 143,
   "metadata": {},
   "outputs": [
    {
     "name": "stdout",
     "output_type": "stream",
     "text": [
      "6\n",
      "[[2. 1.]\n",
      " [0. 0.]]\n"
     ]
    }
   ],
   "source": [
    "grid_pos = np.random.permutation(10)\n",
    "test_pos = np.zeros((2,2))\n",
    "test_pos[0,0:2] = [np.mod(grid_pos[0],4),np.floor(grid_pos[0]/4)]\n",
    "print(grid_pos[0])\n",
    "print(test_pos)"
   ]
  },
  {
   "cell_type": "code",
   "execution_count": null,
   "metadata": {},
   "outputs": [],
   "source": []
  }
 ],
 "metadata": {
  "kernelspec": {
   "display_name": "Python 3",
   "language": "python",
   "name": "python3"
  },
  "language_info": {
   "codemirror_mode": {
    "name": "ipython",
    "version": 3
   },
   "file_extension": ".py",
   "mimetype": "text/x-python",
   "name": "python",
   "nbconvert_exporter": "python",
   "pygments_lexer": "ipython3",
   "version": "3.7.4"
  }
 },
 "nbformat": 4,
 "nbformat_minor": 2
}
