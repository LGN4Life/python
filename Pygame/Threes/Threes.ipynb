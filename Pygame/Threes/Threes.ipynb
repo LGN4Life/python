{
 "cells": [
  {
   "cell_type": "code",
   "execution_count": 1,
   "metadata": {},
   "outputs": [
    {
     "name": "stdout",
     "output_type": "stream",
     "text": [
      "pygame 1.9.6\n",
      "Hello from the pygame community. https://www.pygame.org/contribute.html\n"
     ]
    }
   ],
   "source": [
    "import pygame as pg\n",
    "import numpy as np\n",
    "from numpy import random\n",
    "import pdb\n"
   ]
  },
  {
   "cell_type": "code",
   "execution_count": 2,
   "metadata": {},
   "outputs": [],
   "source": []
  },
  {
   "cell_type": "markdown",
   "metadata": {},
   "source": [
    "Game should start with 9 tiles\n",
    "\n",
    "these 9 cards always contain at least one 3 and at most 4 of either color. (4 ones,4, twos, 1 three)\n",
    "\n",
    "The highest number you can draw is 3 ranks below your high card. If your high card is 24 or less, you only draw 3s. With a high card of 48, 6s start to show up. At 96, 12s come in and at 192, 24s appear.\n",
    "\n",
    "\n",
    "The probability for each possible bonus card value seems to be equal. This means that as your high card increases it is more and more unlikely that you will see the highest possible bonus card. On the flip side, the value of bonus cards (even if they are announced in the coming update) becomes less and less predictable as the high card increases.\n",
    "\n",
    "\n",
    "• The game uses an undrawn stack of 12 cards (four 1s, four 2s and four 3s). A stack is created at the beginning of a game and cards are drawn individually both to fill the board (see above) and to be added with every move. When a stack is depleted, a new one is created. I know I posited this theory before and then retracted it but it just fits to many beginnings of sequences (where I suspect the error-rate is lower) and I still believe in it. This has some consequences:\n",
    "\n",
    "\n",
    "• I am not sure when a new high card takes effect. It either does so immediately (during a running stack) or at the start of the next stack (see below on the topic of stacks). Figuring this out is particularly nasty due to the problems listed in section 1 and the very low probability that you see an appropriate bonus card after the high card increases but before a new stack begins.\n",
    "\n",
    "\n",
    "It could just as well be possible that bonus cards are completely unrelated to stacks. Instead, there is just a constant 5 % chance on every move that your next card is a bonus card"
   ]
  },
  {
   "cell_type": "code",
   "execution_count": 295,
   "metadata": {},
   "outputs": [
    {
     "data": {
      "text/plain": [
       "3"
      ]
     },
     "execution_count": 295,
     "metadata": {},
     "output_type": "execute_result"
    }
   ],
   "source": [
    "random.randint(0,4)"
   ]
  },
  {
   "cell_type": "code",
   "execution_count": null,
   "metadata": {},
   "outputs": [],
   "source": []
  },
  {
   "cell_type": "code",
   "execution_count": 72,
   "metadata": {},
   "outputs": [],
   "source": [
    "class Tiles:\n",
    "    def __init__(self):\n",
    "        \n",
    "        self.possible_icons  = np.array([1,2,3,6,12,24,48,96,192,384,768,1536,3072,6144, 12288])\n",
    "        self.icons = dict()\n",
    "        for index in self.possible_icons:\n",
    "            self.icons[index] =pg.image.load('C:/Henry/PythonProjects/Pygame/Threes/images/_' + str(index) + '.png')\n",
    "        self.stack = np.array([1,1,1,1,2,2,2,2,3])\n",
    "        self.stack = self.stack[random.permutation(9)]    \n",
    "            \n",
    "        self.grid = np.zeros((16,),dtype = int)\n",
    "        self.grid[0:9] = self.stack\n",
    "        self.grid =  np.reshape(self.grid,(4,4))\n",
    "        self.move = np.zeros((4,4),dtype = bool)\n",
    "        \n",
    "    def createStack(self):\n",
    "        \n",
    "        current_max = np.max(self.grid)\n",
    "        \n",
    "        max_position  = np.argwhere(self.possible_icons == current_max)\n",
    "        bonus_cards = self.possible_icons[4:max_position[0][0]]\n",
    "        \n",
    "        self.stack = np.array([1,1,1,1,2,2,2,2,3])\n",
    "        \n",
    "        if bonus_cards.shape[0]>0:\n",
    "            if random.rand(1)>.5:\n",
    "                r =random.randint(0,len(bonus_cards))\n",
    "                self.stack = np.append(self.stack,bonus_cards[r])\n",
    "        rand_perm =  random.permutation(self.stack.shape[0])\n",
    "        self.stack = self.stack[rand_perm]\n",
    "        \n",
    "        return self\n",
    "        \n",
    "    def drawStack(self):\n",
    "        pos =0;\n",
    "        for tile in self.stack:\n",
    "            current_x = 400+ self.icons[tile].get_height()*np.floor(pos/4)\n",
    "            current_y = self.icons[tile].get_height()*np.mod(pos,4)\n",
    "            screen.blit(self.icons[tile],(current_x,current_y))\n",
    "            \n",
    "            pos +=1\n",
    "                \n",
    "            \n",
    "\n",
    "\n",
    "    \n",
    "    def determineMove(self,keys):\n",
    "        current_move = [0, 0]\n",
    "   \n",
    "        if keys[pg.K_LEFT]:\n",
    "            current_move = [0, -1]\n",
    "  \n",
    "        elif keys[pg.K_UP]:\n",
    "            current_move = [-1, 0]\n",
    "          \n",
    "        elif keys[pg.K_RIGHT]:\n",
    "            current_move = [0, 1]\n",
    "            \n",
    "        elif keys[pg.K_DOWN]:\n",
    "            current_move = [1,0]\n",
    "            \n",
    "        return current_move\n",
    "    def updatePosition(self,current_move):\n",
    "        self.move = np.zeros((4,4),dtype = bool)\n",
    "        x_range = np.array(range(4),dtype = int)\n",
    "        y_range = np.array(range(4),dtype = int)\n",
    "        if current_move[0] == 1:\n",
    "            x_range = np.flip(x_range)\n",
    "        if current_move[1] == 1:\n",
    "            y_range = np.flip(y_range)\n",
    "        \n",
    "  \n",
    "        for x in x_range:\n",
    "            if x+current_move[0]>-1 and x+current_move[0]<4:\n",
    "                for y in y_range:\n",
    "                   \n",
    "                    if y+current_move[1]>-1 and y+current_move[1]<4:\n",
    "                        move_success = False\n",
    "                        if self.grid[x,y] !=0:\n",
    "                            new_pos = np.array([x,y]) + current_move\n",
    "                            if self.grid[new_pos[0],new_pos[1]] == 0:\n",
    "                                self.grid[new_pos[0],new_pos[1]]  = self.grid[x,y] \n",
    "                                self.grid[x,y] = 0\n",
    "                                self.move[x,y] = True\n",
    "                                \n",
    "                            elif self.grid[new_pos[0],new_pos[1]] + self.grid[x,y] == 3:\n",
    "                                self.grid[x,y] =0\n",
    "                                self.grid[new_pos[0],new_pos[1]] =3\n",
    "                                self.move[x,y] = True\n",
    "                               \n",
    "                            elif self.grid[new_pos[0],new_pos[1]] == self.grid[x,y]:\n",
    "                                if self.grid[new_pos[0],new_pos[1]] + self.grid[x,y]>3:\n",
    "                                    \n",
    "                                    self.grid[new_pos[0],new_pos[1]]  = self.grid[x,y]*2\n",
    "                                    self.grid[x,y]=0\n",
    "                                    self.move[x,y] = True\n",
    "                                    \n",
    "                            \n",
    "\n",
    "        return self\n",
    "    \n",
    "    def addTile(self,current_move):\n",
    "        if np.sum(self.move,axis = None)>0:\n",
    "      \n",
    "            if current_move[0] ==-1:\n",
    "                empty_spaces =  self.grid[3,:]==0\n",
    "                moved_spaces =  np.sum(self.move,axis = 0)\n",
    "\n",
    "            elif current_move[0] ==1:\n",
    "                empty_spaces =  self.grid[0,:]==0\n",
    "                moved_spaces =  np.sum(self.move,axis = 0)\n",
    "\n",
    "            elif current_move[1] ==-1:\n",
    "                empty_spaces =  self.grid[:,3]==0\n",
    "                moved_spaces =  np.sum(self.move,axis = 1)\n",
    "\n",
    "            elif current_move[1] ==1:\n",
    "                empty_spaces =  self.grid[:,0]==0\n",
    "                moved_spaces =  np.sum(self.move,axis = 1)\n",
    "\n",
    "            new_spaces = empty_spaces * moved_spaces\n",
    "            new_spaces = np.nonzero(new_spaces)\n",
    "            new_spaces=new_spaces[0]\n",
    "\n",
    "            if len(new_spaces)>0:\n",
    "                r = np.random.permutation(len(new_spaces))\n",
    "                new_spaces = new_spaces[r[0]]\n",
    "                if current_move[0] == -1:\n",
    "                    self.grid[3,new_spaces] = self.stack[0]\n",
    "                elif current_move[0] == 1:\n",
    "                    self.grid[0,new_spaces] = self.stack[0]\n",
    "                elif current_move[1] == -1:\n",
    "                    self.grid[new_spaces,3] = self.stack[0]\n",
    "                elif current_move[1] == 1:\n",
    "                    self.grid[new_spaces,0] = self.stack[0]\n",
    "                  \n",
    "                else:\n",
    "                    print('No tile added!!!!!!!')\n",
    "           \n",
    "            else:\n",
    "                pdb.set_trace()\n",
    "                \n",
    "            if self.stack.shape[0]>1:\n",
    "                self.stack = np.delete(self.stack,0)\n",
    "            else:\n",
    "                print('created new stack')\n",
    "                self =  self.createStack()\n",
    "        else:\n",
    "            print('no move possible... end of game!')\n",
    "        return self\n",
    "        \n",
    "    def drawTile(self):\n",
    "        for x in range(4):\n",
    "            for y in range(4):\n",
    "                if self.grid[x,y] !=0:\n",
    "                    current_number = self.grid[x,y]\n",
    "                    screen.blit(self.icons[current_number],(y*self.icons[current_number].get_width(),\n",
    "                                      x*self.icons[current_number].get_height()))\n",
    "        \n",
    "        \n",
    "   \n",
    "    "
   ]
  },
  {
   "cell_type": "code",
   "execution_count": 39,
   "metadata": {},
   "outputs": [
    {
     "data": {
      "text/plain": [
       "array([[False, False, False, False],\n",
       "       [False, False, False, False],\n",
       "       [False, False, False, False],\n",
       "       [False, False, False, False]])"
      ]
     },
     "execution_count": 39,
     "metadata": {},
     "output_type": "execute_result"
    }
   ],
   "source": [
    "game_tiles = Tiles()\n",
    "game_tiles.move"
   ]
  },
  {
   "cell_type": "code",
   "execution_count": null,
   "metadata": {},
   "outputs": [],
   "source": []
  },
  {
   "cell_type": "code",
   "execution_count": 73,
   "metadata": {
    "scrolled": false
   },
   "outputs": [
    {
     "name": "stdout",
     "output_type": "stream",
     "text": [
      "created new stack\n",
      "created new stack\n"
     ]
    }
   ],
   "source": [
    "running = True\n",
    "current_x = 0\n",
    "current_y = 0\n",
    "screen = pg.display.set_mode((800,600))\n",
    "screen.fill((0,0,255))\n",
    "pg.display.set_caption(\"Threes!\")\n",
    "\n",
    "\n",
    "grid  =pg.image.load('C:/Henry/PythonProjects/Pygame/Threes/images/grid.png')\n",
    "tile_list = [1,2,3,6,12,24,48,96,192,384,768,1536,3072,6144]\n",
    "start_num = 1\n",
    "\n",
    "game_tiles = Tiles()\n",
    "\n",
    "ex_state=True\n",
    "\n",
    "while running:\n",
    "    #pg.time.delay(100)\n",
    "    screen.fill((0,0,255))\n",
    "    screen.blit(grid,(0,0))\n",
    "    keys = pg.key.get_pressed()\n",
    "    if ex_state and sum(keys)>0:\n",
    "        current_move = game_tiles.determineMove(keys)\n",
    "        ex_state = False\n",
    "    else:\n",
    "        current_move = np.array([0,0])\n",
    "    if sum(current_move) !=0:\n",
    "        game_tiles = game_tiles.updatePosition(current_move)\n",
    "        self = game_tiles.addTile(current_move)\n",
    "    game_tiles.drawTile()\n",
    "    game_tiles.drawStack()\n",
    "        \n",
    "    \n",
    "            \n",
    "    pg.display.update()\n",
    "\n",
    "    \n",
    "    for event in pg.event.get():\n",
    "        if event.type == pg.QUIT:\n",
    "            running = False\n",
    "            pg.display.quit()\n",
    "        if event.type == pg.KEYUP:\n",
    "            ex_state = True;\n",
    "\n",
    "    \n",
    "      \n",
    "            "
   ]
  },
  {
   "cell_type": "code",
   "execution_count": 66,
   "metadata": {},
   "outputs": [],
   "source": [
    "\n",
    "pg.display.quit()\n",
    "\n"
   ]
  },
  {
   "cell_type": "code",
   "execution_count": 96,
   "metadata": {},
   "outputs": [
    {
     "name": "stdout",
     "output_type": "stream",
     "text": [
      "[ 6 22 38 54]\n"
     ]
    }
   ],
   "source": [
    "grid = np.arange(16)\n",
    "grid =  np.reshape(grid,(4,4))\n",
    "print(np.sum(grid,1))"
   ]
  },
  {
   "cell_type": "code",
   "execution_count": 43,
   "metadata": {},
   "outputs": [
    {
     "name": "stdout",
     "output_type": "stream",
     "text": [
      "False\n"
     ]
    }
   ],
   "source": [
    "a = False\n",
    "if not(a):\n",
    "    print('False')"
   ]
  },
  {
   "cell_type": "code",
   "execution_count": 25,
   "metadata": {},
   "outputs": [
    {
     "data": {
      "text/plain": [
       "array([0, 1, 2])"
      ]
     },
     "execution_count": 25,
     "metadata": {},
     "output_type": "execute_result"
    }
   ],
   "source": [
    "a = np.array([0, 1, 2])\n",
    "np.where(a < 4, a, -1)  # -1 is broadcast\n"
   ]
  },
  {
   "cell_type": "code",
   "execution_count": 23,
   "metadata": {},
   "outputs": [
    {
     "data": {
      "text/plain": [
       "(3, 3)"
      ]
     },
     "execution_count": 23,
     "metadata": {},
     "output_type": "execute_result"
    }
   ],
   "source": [
    "a.shape"
   ]
  },
  {
   "cell_type": "code",
   "execution_count": null,
   "metadata": {},
   "outputs": [],
   "source": []
  }
 ],
 "metadata": {
  "kernelspec": {
   "display_name": "Python 3",
   "language": "python",
   "name": "python3"
  },
  "language_info": {
   "codemirror_mode": {
    "name": "ipython",
    "version": 3
   },
   "file_extension": ".py",
   "mimetype": "text/x-python",
   "name": "python",
   "nbconvert_exporter": "python",
   "pygments_lexer": "ipython3",
   "version": "3.7.4"
  }
 },
 "nbformat": 4,
 "nbformat_minor": 2
}
