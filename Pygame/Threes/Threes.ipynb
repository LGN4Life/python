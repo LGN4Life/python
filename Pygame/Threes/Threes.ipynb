{
 "cells": [
  {
   "cell_type": "code",
   "execution_count": 102,
   "metadata": {},
   "outputs": [],
   "source": [
    "import pygame as pg\n",
    "import numpy as np"
   ]
  },
  {
   "cell_type": "code",
   "execution_count": 186,
   "metadata": {},
   "outputs": [],
   "source": [
    "class Tiles:\n",
    "    def __init__(self,number,grid_pos = 0,velocity=1):\n",
    "        self.number = number\n",
    "        self.icon = pg.image.load('C:/Henry/PythonProjects/Pygame/Threes/images/_' + str(number) + '.png')\n",
    "        self.grid_pos = grid_pos\n",
    "  \n",
    "        self.x_advance =  self.icon.get_width()\n",
    "        self.y_advance =  self.icon.get_height()\n",
    "    def update_position(self,current_move):\n",
    "        \n",
    "        print(current_move)\n",
    "        if current_move[0]== -1 and np.mod(self.grid_pos,4)>0: #move up\n",
    "            self.grid_pos-=1\n",
    "            print('move up')\n",
    "        elif current_move[0]== 1 and np.mod(self.grid_pos,4)<3:\n",
    "            self.grid_pos+=1\n",
    "            print('move down')\n",
    "        elif current_move[1]== -1 and self.grid_pos>3:\n",
    "            self.grid_pos-=4\n",
    "        elif current_move[1]== 1 and self.grid_pos<12:\n",
    "            self.grid_pos+=4\n",
    "            \n",
    "  \n",
    "        \n",
    "        return self\n",
    "   \n",
    "    "
   ]
  },
  {
   "cell_type": "code",
   "execution_count": 187,
   "metadata": {},
   "outputs": [],
   "source": [
    " def determineTileOrder(tiles,keys):\n",
    "        current_move = np.array([0, 0])\n",
    "        if keys[pg.K_LEFT]:\n",
    "            tiles =sorted(tiles, key=lambda tile: tile.grid_pos)\n",
    "            current_move = np.array([0, -1])\n",
    "        elif keys[pg.K_UP]:\n",
    "            tiles =sorted(tiles, key=lambda tile: tile.grid_pos)\n",
    "            current_move = np.array([-1, 0])\n",
    "    \n",
    "        elif keys[pg.K_RIGHT]:\n",
    "            tiles =sorted(tiles, key=lambda tile: tile.grid_pos,reverse=True)\n",
    "            current_move = np.array([0, 1])\n",
    "        elif keys[pg.K_DOWN]:\n",
    "            tiles =sorted(tiles, key=lambda tile: tile.grid_pos,reverse=True)\n",
    "            current_move = np.array([1, 0])\n",
    "        return tiles,current_move"
   ]
  },
  {
   "cell_type": "code",
   "execution_count": 188,
   "metadata": {},
   "outputs": [],
   "source": [
    "grid  =pg.image.load('C:/Henry/PythonProjects/Pygame/Threes/images/grid.png')\n"
   ]
  },
  {
   "cell_type": "code",
   "execution_count": 189,
   "metadata": {},
   "outputs": [
    {
     "name": "stdout",
     "output_type": "stream",
     "text": [
      "9\n"
     ]
    }
   ],
   "source": [
    "tile_list = [1,2,3,6,12,24,48,96,192,384,768,1536,3072,6144]\n",
    "start_num = 1\n",
    "start_range = 3\n",
    "\n",
    "start_loc = np.random.permutation(16)\n",
    "x = np.mod(start_loc,4)\n",
    "y = np.floor(start_loc/4)\n",
    "y = y.astype(int)\n",
    "\n",
    "\n",
    "tiles = []\n",
    "for index in range(start_num):\n",
    "    \n",
    "    tiles.append(Tiles(number = tile_list[np.random.randint(start_range)],grid_pos = start_loc[index],velocity = 79))\n",
    "    print(tiles[index].grid_pos)\n",
    "\n"
   ]
  },
  {
   "cell_type": "code",
   "execution_count": 190,
   "metadata": {
    "scrolled": true
   },
   "outputs": [
    {
     "name": "stdout",
     "output_type": "stream",
     "text": [
      "[-1  0]\n",
      "move up\n",
      "[-1  0]\n",
      "[1 0]\n"
     ]
    },
    {
     "ename": "NameError",
     "evalue": "name 'snp' is not defined",
     "output_type": "error",
     "traceback": [
      "\u001b[1;31m---------------------------------------------------------------------------\u001b[0m",
      "\u001b[1;31mNameError\u001b[0m                                 Traceback (most recent call last)",
      "\u001b[1;32m<ipython-input-190-8d564f5a57dd>\u001b[0m in \u001b[0;36m<module>\u001b[1;34m\u001b[0m\n\u001b[0;32m     21\u001b[0m     \u001b[1;32mfor\u001b[0m \u001b[0mcurrent_tile\u001b[0m \u001b[1;32min\u001b[0m \u001b[0mtiles\u001b[0m\u001b[1;33m:\u001b[0m\u001b[1;33m\u001b[0m\u001b[1;33m\u001b[0m\u001b[0m\n\u001b[0;32m     22\u001b[0m         \u001b[1;32mif\u001b[0m \u001b[0mnp\u001b[0m\u001b[1;33m.\u001b[0m\u001b[0msum\u001b[0m\u001b[1;33m(\u001b[0m\u001b[0mabs\u001b[0m\u001b[1;33m(\u001b[0m\u001b[0mcurrent_move\u001b[0m\u001b[1;33m)\u001b[0m\u001b[1;33m)\u001b[0m\u001b[1;33m>\u001b[0m\u001b[1;36m0\u001b[0m \u001b[1;32mand\u001b[0m \u001b[0mex_state\u001b[0m\u001b[1;33m:\u001b[0m\u001b[1;33m\u001b[0m\u001b[1;33m\u001b[0m\u001b[0m\n\u001b[1;32m---> 23\u001b[1;33m             \u001b[0mcurrent_tile\u001b[0m \u001b[1;33m=\u001b[0m \u001b[0mcurrent_tile\u001b[0m\u001b[1;33m.\u001b[0m\u001b[0mupdate_position\u001b[0m\u001b[1;33m(\u001b[0m\u001b[0mcurrent_move\u001b[0m\u001b[1;33m)\u001b[0m\u001b[1;33m\u001b[0m\u001b[1;33m\u001b[0m\u001b[0m\n\u001b[0m\u001b[0;32m     24\u001b[0m         \u001b[0mcurrent_y\u001b[0m \u001b[1;33m=\u001b[0m \u001b[0mnp\u001b[0m\u001b[1;33m.\u001b[0m\u001b[0mmod\u001b[0m\u001b[1;33m(\u001b[0m\u001b[0mcurrent_tile\u001b[0m\u001b[1;33m.\u001b[0m\u001b[0mgrid_pos\u001b[0m\u001b[1;33m,\u001b[0m\u001b[1;36m4\u001b[0m\u001b[1;33m)\u001b[0m\u001b[1;33m\u001b[0m\u001b[1;33m\u001b[0m\u001b[0m\n\u001b[0;32m     25\u001b[0m         \u001b[0mcurrent_x\u001b[0m \u001b[1;33m=\u001b[0m \u001b[0mnp\u001b[0m\u001b[1;33m.\u001b[0m\u001b[0mfloor\u001b[0m\u001b[1;33m(\u001b[0m\u001b[0mcurrent_tile\u001b[0m\u001b[1;33m.\u001b[0m\u001b[0mgrid_pos\u001b[0m\u001b[1;33m/\u001b[0m\u001b[1;36m4\u001b[0m\u001b[1;33m)\u001b[0m\u001b[1;33m\u001b[0m\u001b[1;33m\u001b[0m\u001b[0m\n",
      "\u001b[1;32m<ipython-input-186-a4e575c06fe2>\u001b[0m in \u001b[0;36mupdate_position\u001b[1;34m(self, current_move)\u001b[0m\n\u001b[0;32m     13\u001b[0m             \u001b[0mself\u001b[0m\u001b[1;33m.\u001b[0m\u001b[0mgrid_pos\u001b[0m\u001b[1;33m-=\u001b[0m\u001b[1;36m1\u001b[0m\u001b[1;33m\u001b[0m\u001b[1;33m\u001b[0m\u001b[0m\n\u001b[0;32m     14\u001b[0m             \u001b[0mprint\u001b[0m\u001b[1;33m(\u001b[0m\u001b[1;34m'move up'\u001b[0m\u001b[1;33m)\u001b[0m\u001b[1;33m\u001b[0m\u001b[1;33m\u001b[0m\u001b[0m\n\u001b[1;32m---> 15\u001b[1;33m         \u001b[1;32melif\u001b[0m \u001b[0mcurrent_move\u001b[0m\u001b[1;33m[\u001b[0m\u001b[1;36m0\u001b[0m\u001b[1;33m]\u001b[0m\u001b[1;33m==\u001b[0m \u001b[1;36m1\u001b[0m \u001b[1;32mand\u001b[0m \u001b[0msnp\u001b[0m\u001b[1;33m.\u001b[0m\u001b[0mmod\u001b[0m\u001b[1;33m(\u001b[0m\u001b[0mself\u001b[0m\u001b[1;33m.\u001b[0m\u001b[0mgrid_pos\u001b[0m\u001b[1;33m,\u001b[0m\u001b[1;36m4\u001b[0m\u001b[1;33m)\u001b[0m\u001b[1;33m<\u001b[0m\u001b[1;36m3\u001b[0m\u001b[1;33m:\u001b[0m\u001b[1;33m\u001b[0m\u001b[1;33m\u001b[0m\u001b[0m\n\u001b[0m\u001b[0;32m     16\u001b[0m             \u001b[0mself\u001b[0m\u001b[1;33m.\u001b[0m\u001b[0mgrid_pos\u001b[0m\u001b[1;33m+=\u001b[0m\u001b[1;36m1\u001b[0m\u001b[1;33m\u001b[0m\u001b[1;33m\u001b[0m\u001b[0m\n\u001b[0;32m     17\u001b[0m             \u001b[0mprint\u001b[0m\u001b[1;33m(\u001b[0m\u001b[1;34m'move down'\u001b[0m\u001b[1;33m)\u001b[0m\u001b[1;33m\u001b[0m\u001b[1;33m\u001b[0m\u001b[0m\n",
      "\u001b[1;31mNameError\u001b[0m: name 'snp' is not defined"
     ]
    }
   ],
   "source": [
    "running = True\n",
    "current_x = 0\n",
    "current_y = 0\n",
    "screen = pg.display.set_mode((800,600))\n",
    "screen.fill((0,0,255))\n",
    "pg.display.set_caption(\"Threes!\")\n",
    "\n",
    "obstacles_pos = []\n",
    "ex_state=True\n",
    "moved = False\n",
    "grid_logical = np.zeros((16,)).astype(bool)\n",
    "while running:\n",
    "    #pg.time.delay(100)\n",
    "    screen.fill((0,0,255))\n",
    "    screen.blit(grid,(0,0))\n",
    "    keys = pg.key.get_pressed()\n",
    "    if ex_state:\n",
    "        tiles,current_move = determineTileOrder(tiles,keys)\n",
    "    else:\n",
    "        current_move = np.array([0, 0])\n",
    "    for current_tile in tiles:\n",
    "        if np.sum(abs(current_move))>0 and ex_state:\n",
    "            current_tile = current_tile.update_position(current_move)\n",
    "        current_y = np.mod(current_tile.grid_pos,4)\n",
    "        current_x = np.floor(current_tile.grid_pos/4)\n",
    "        screen.blit(current_tile.icon,(current_x*current_tile.icon.get_width(),current_y*current_tile.icon.get_height()))\n",
    "    if sum(abs(current_move))>0:\n",
    "        ex_state= False;\n",
    "        grid_logical[current_tile.grid_pos] = True\n",
    "    \n",
    "            \n",
    "    pg.display.update()\n",
    "\n",
    "    \n",
    "    for event in pg.event.get():\n",
    "            if event.type == pg.QUIT:\n",
    "                running = False\n",
    "                pg.display.quit()\n",
    "            if event.type == pg.MOUSEBUTTONDOWN:\n",
    "                print('mouse clicked')\n",
    "            if event.type == pg.KEYUP:\n",
    "                ex_state = True;\n",
    "\n",
    "    \n",
    "      \n",
    "            "
   ]
  },
  {
   "cell_type": "code",
   "execution_count": 191,
   "metadata": {},
   "outputs": [],
   "source": [
    "pg.display.quit()"
   ]
  },
  {
   "cell_type": "code",
   "execution_count": null,
   "metadata": {},
   "outputs": [],
   "source": [
    "grid = np.zeros((4,4)).astype(bool)\n",
    "print(grid)"
   ]
  },
  {
   "cell_type": "code",
   "execution_count": null,
   "metadata": {},
   "outputs": [],
   "source": [
    "x=-1\n",
    "y=-1\n",
    "if (x<0 and y<0):\n",
    "    print(str('here'))\n",
    "else:\n",
    "    print(str('not here'))"
   ]
  },
  {
   "cell_type": "code",
   "execution_count": 69,
   "metadata": {},
   "outputs": [],
   "source": [
    "# sorted(student_tuples, key=lambda student: student[2]) \n",
    "\n",
    "new_list =sorted(new_list, key=lambda tile: tile.grid_pos,reverse=True)"
   ]
  },
  {
   "cell_type": "code",
   "execution_count": 70,
   "metadata": {},
   "outputs": [
    {
     "name": "stdout",
     "output_type": "stream",
     "text": [
      "15\n",
      "12\n",
      "10\n",
      "4\n"
     ]
    }
   ],
   "source": [
    "for tile in new_list:\n",
    "    print(tile.grid_pos)"
   ]
  },
  {
   "cell_type": "code",
   "execution_count": 151,
   "metadata": {},
   "outputs": [
    {
     "data": {
      "text/plain": [
       "array([1, 0])"
      ]
     },
     "execution_count": 151,
     "metadata": {},
     "output_type": "execute_result"
    }
   ],
   "source": [
    "abs(np.array([-1, 0]))"
   ]
  },
  {
   "cell_type": "code",
   "execution_count": null,
   "metadata": {},
   "outputs": [],
   "source": []
  }
 ],
 "metadata": {
  "kernelspec": {
   "display_name": "Python 3",
   "language": "python",
   "name": "python3"
  },
  "language_info": {
   "codemirror_mode": {
    "name": "ipython",
    "version": 3
   },
   "file_extension": ".py",
   "mimetype": "text/x-python",
   "name": "python",
   "nbconvert_exporter": "python",
   "pygments_lexer": "ipython3",
   "version": "3.7.4"
  }
 },
 "nbformat": 4,
 "nbformat_minor": 2
}
