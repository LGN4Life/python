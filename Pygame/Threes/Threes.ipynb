{
 "cells": [
  {
   "cell_type": "code",
   "execution_count": 132,
   "metadata": {},
   "outputs": [],
   "source": [
    "import pygame as pg\n",
    "import numpy as np\n",
    "import pdb\n"
   ]
  },
  {
   "cell_type": "code",
   "execution_count": 303,
   "metadata": {},
   "outputs": [],
   "source": [
    "def loadIcons():\n",
    "    possible_icons  = [1,2,3,6]\n",
    "    icons = dict()\n",
    "    for index in possible_icons:\n",
    "        icons[index] =pg.image.load('C:/Henry/PythonProjects/Pygame/Threes/images/_' + str(index) + '.png')\n",
    "    return icons "
   ]
  },
  {
   "cell_type": "code",
   "execution_count": 429,
   "metadata": {},
   "outputs": [],
   "source": [
    "class Tiles:\n",
    "    def __init__(self, tile_count):\n",
    "        \n",
    "        inital_number = np.random.randint(1,4,(tile_count,))\n",
    "        self.grid_pos = -1*np.ones((tile_count,),dtype = int) \n",
    "        self.number = np.zeros((tile_count,),dtype = int)  \n",
    "        initial_grid = np.random.permutation(16)\n",
    "        self.icons =  loadIcons()\n",
    "        for index in range(tile_count):\n",
    "            self.grid_pos[index] = initial_grid[index]\n",
    "            self.number[index] = inital_number[index]\n",
    "            self.drawTile(index)\n",
    "        \n",
    "       \n",
    "    \n",
    "    def determineMove(self,keys):\n",
    "        current_move = [0, 0]\n",
    "        move_order = np.argsort(self.grid_pos)\n",
    "        if keys[pg.K_LEFT]:\n",
    "            current_move = [0, -1]\n",
    "            move_order = np.argsort(self.grid_pos)\n",
    "                    \n",
    "        elif keys[pg.K_UP]:\n",
    "            current_move = [-1, 0]\n",
    "            move_order = np.argsort(self.grid_pos)\n",
    "    \n",
    "        elif keys[pg.K_RIGHT]:\n",
    "            current_move = [0, 1]\n",
    "            move_order = np.argsort(self.grid_pos)\n",
    "            move_order = move_order[-1::-1]\n",
    "        elif keys[pg.K_DOWN]:\n",
    "            current_move = [1,0]\n",
    "            move_order = np.argsort(self.grid_pos)\n",
    "            move_order = move_order[-1::-1]\n",
    "            \n",
    "        return current_move, move_order\n",
    "    def updatePosition(self,current_move,move_order):\n",
    "        for index  in move_order:\n",
    "\n",
    "            if np.sum(current_move) != 0 and self.grid_pos[index] > -1:\n",
    "                if current_move[1] == -1  and self.grid_pos[index]>3: # move left\n",
    "                    \n",
    "                    new_pos = self.grid_pos[index]-4\n",
    "                    if sum(np.isin(self.grid_pos,new_pos))==0:\n",
    "                        self.grid_pos[index] = new_pos\n",
    "                        \n",
    "                    else:\n",
    "                        print('tile is blocking left move')\n",
    "                if current_move[1] == 1  and self.grid_pos[index]<12: # move right\n",
    "                    new_pos = self.grid_pos[index]+4\n",
    "                    if sum(np.isin(self.grid_pos,new_pos))==0:\n",
    "                        self.grid_pos[index] = new_pos\n",
    "                        \n",
    "                    else:\n",
    "                        print('tile is blocking right move')\n",
    "                if current_move[0] == -1  and np.mod(self.grid_pos[index],4)>0: # move up\n",
    "                    \n",
    "                    new_pos = self.grid_pos[index]-1\n",
    "                    if sum(np.isin(self.grid_pos,new_pos))==0:\n",
    "                        self.grid_pos[index] = new_pos\n",
    "                        \n",
    "                    else:\n",
    "                        print('tile is blocking up move')\n",
    "                if current_move[0] == 1  and np.mod(self.grid_pos[index],4)<3: # move up\n",
    "                    \n",
    "                    new_pos = self.grid_pos[index]+1\n",
    "                    if sum(np.isin(self.grid_pos,new_pos))==0:\n",
    "                        self.grid_pos[index] = new_pos\n",
    "                        \n",
    "                    else:\n",
    "                        print('tile is blocking down move')\n",
    "                \n",
    "               \n",
    "            self.drawTile(index)\n",
    "        return self\n",
    "    def drawTile(self,index):\n",
    "        current_number = self.number[index]\n",
    "        current_x = np.mod(self.grid_pos[index],4).astype(int)\n",
    "        current_y = np.floor(self.grid_pos[index]/4).astype(int)\n",
    "        screen.blit(self.icons[current_number],(current_y*self.icons[current_number].get_width(),\n",
    "                                      current_x*self.icons[current_number].get_height()))\n",
    "        \n",
    "   \n",
    "    "
   ]
  },
  {
   "cell_type": "code",
   "execution_count": 428,
   "metadata": {},
   "outputs": [
    {
     "name": "stdout",
     "output_type": "stream",
     "text": [
      "[0, 5, 1, 3]\n"
     ]
    }
   ],
   "source": [
    "move_order = [3,1,5,0] \n",
    "    \n",
    "\n",
    "print(move_order[-1::-1])"
   ]
  },
  {
   "cell_type": "code",
   "execution_count": 430,
   "metadata": {
    "scrolled": true
   },
   "outputs": [
    {
     "name": "stdout",
     "output_type": "stream",
     "text": [
      "tile is blocking down move\n",
      "tile is blocking down move\n",
      "tile is blocking up move\n",
      "tile is blocking up move\n"
     ]
    }
   ],
   "source": [
    "running = True\n",
    "current_x = 0\n",
    "current_y = 0\n",
    "screen = pg.display.set_mode((800,600))\n",
    "screen.fill((0,0,255))\n",
    "pg.display.set_caption(\"Threes!\")\n",
    "\n",
    "\n",
    "grid  =pg.image.load('C:/Henry/PythonProjects/Pygame/Threes/images/grid.png')\n",
    "tile_list = [1,2,3,6,12,24,48,96,192,384,768,1536,3072,6144]\n",
    "start_num = 3\n",
    "\n",
    "game_tiles = Tiles(start_num)\n",
    "\n",
    "ex_state=True\n",
    "\n",
    "while running:\n",
    "    #pg.time.delay(100)\n",
    "    screen.fill((0,0,255))\n",
    "    screen.blit(grid,(0,0))\n",
    "    keys = pg.key.get_pressed()\n",
    "    if ex_state and sum(keys)>0:\n",
    "        current_move, move_order = game_tiles.determineMove(keys)\n",
    "        \n",
    "        ex_state = False\n",
    "    else:\n",
    "        current_move = 0\n",
    "        move_order = np.argsort(game_tiles.grid_pos)\n",
    "        move_order = np.argsort(game_tiles.grid_pos)\n",
    "    game_tiles = game_tiles.updatePosition(current_move,move_order)\n",
    "        \n",
    "    \n",
    "            \n",
    "    pg.display.update()\n",
    "\n",
    "    \n",
    "    for event in pg.event.get():\n",
    "        if event.type == pg.QUIT:\n",
    "            running = False\n",
    "            pg.display.quit()\n",
    "        if event.type == pg.MOUSEBUTTONDOWN:\n",
    "            print('mouse clicked')\n",
    "        if event.type == pg.KEYUP:\n",
    "            ex_state = True;\n",
    "\n",
    "    \n",
    "      \n",
    "            "
   ]
  },
  {
   "cell_type": "code",
   "execution_count": 414,
   "metadata": {},
   "outputs": [],
   "source": [
    "\n",
    "pg.display.quit()\n"
   ]
  },
  {
   "cell_type": "code",
   "execution_count": null,
   "metadata": {},
   "outputs": [],
   "source": []
  }
 ],
 "metadata": {
  "kernelspec": {
   "display_name": "Python 3",
   "language": "python",
   "name": "python3"
  },
  "language_info": {
   "codemirror_mode": {
    "name": "ipython",
    "version": 3
   },
   "file_extension": ".py",
   "mimetype": "text/x-python",
   "name": "python",
   "nbconvert_exporter": "python",
   "pygments_lexer": "ipython3",
   "version": "3.7.4"
  }
 },
 "nbformat": 4,
 "nbformat_minor": 2
}
