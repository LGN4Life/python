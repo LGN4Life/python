{
 "cells": [
  {
   "cell_type": "code",
   "execution_count": 2,
   "metadata": {},
   "outputs": [],
   "source": [
    "import pygame as pg\n",
    "import numpy as np\n",
    "import pdb\n"
   ]
  },
  {
   "cell_type": "code",
   "execution_count": 3,
   "metadata": {},
   "outputs": [],
   "source": [
    "def loadIcons():\n",
    "    possible_icons  = [1,2,3,6,12,24,48,96,192,384,768,1536,3072,6144, 12288]\n",
    "    icons = dict()\n",
    "    for index in possible_icons:\n",
    "        icons[index] =pg.image.load('C:/Henry/PythonProjects/Pygame/Threes/images/_' + str(index) + '.png')\n",
    "    return icons "
   ]
  },
  {
   "cell_type": "code",
   "execution_count": 120,
   "metadata": {},
   "outputs": [],
   "source": [
    "class Tiles:\n",
    "    def __init__(self, tile_count):\n",
    "        \n",
    "        inital_number = np.random.randint(1,3,(tile_count,))\n",
    "        self.grid_pos = -1*np.ones((tile_count,),dtype = int) \n",
    "        self.number = np.zeros((tile_count,),dtype = int)  \n",
    "        initial_grid = np.random.permutation(16)\n",
    "        self.icons =  loadIcons()\n",
    "        for index in range(tile_count):\n",
    "            self.grid_pos[index] = initial_grid[index]\n",
    "            self.number[index] = inital_number[index]\n",
    "            self.drawTile(index)\n",
    "        \n",
    "       \n",
    "    \n",
    "    def determineMove(self,keys):\n",
    "        current_move = [0, 0]\n",
    "        move_order = np.argsort(self.grid_pos)\n",
    "        if keys[pg.K_LEFT]:\n",
    "            current_move = [0, -1]\n",
    "            move_order = np.argsort(self.grid_pos)\n",
    "                    \n",
    "        elif keys[pg.K_UP]:\n",
    "            current_move = [-1, 0]\n",
    "            move_order = np.argsort(self.grid_pos)\n",
    "    \n",
    "        elif keys[pg.K_RIGHT]:\n",
    "            current_move = [0, 1]\n",
    "            move_order = np.argsort(self.grid_pos)\n",
    "            move_order = move_order[-1::-1]\n",
    "        elif keys[pg.K_DOWN]:\n",
    "            current_move = [1,0]\n",
    "            move_order = np.argsort(self.grid_pos)\n",
    "            move_order = move_order[-1::-1]\n",
    "            \n",
    "        return current_move, move_order\n",
    "    def updatePosition(self,current_move,move_order):\n",
    "        delete_vector = np.zeros(len(move_order),dtype = bool)\n",
    "        for index  in move_order:\n",
    "            if np.sum(current_move) != 0 and self.grid_pos[index] > -1:\n",
    "                if current_move[1] == -1  and self.grid_pos[index]>3: # move left\n",
    "                    \n",
    "                    new_pos = self.grid_pos[index]-4\n",
    "                    \n",
    "                    self, delete_vector[index] = self.checkMovement(index,new_pos)\n",
    "                    \n",
    "                if current_move[1] == 1  and self.grid_pos[index]<12: # move right\n",
    "                    new_pos = self.grid_pos[index]+4\n",
    "                    self, delete_vector[index] = self.checkMovement(index,new_pos)\n",
    "                        \n",
    "                if current_move[0] == -1  and np.mod(self.grid_pos[index],4)>0: # move up\n",
    "                    \n",
    "                    new_pos = self.grid_pos[index]-1\n",
    "                    self, delete_vector[index] = self.checkMovement(index,new_pos)\n",
    "                    \n",
    "                if current_move[0] == 1  and np.mod(self.grid_pos[index],4)<3: # move up\n",
    "                    \n",
    "                    new_pos = self.grid_pos[index]+1\n",
    "                    self, delete_vector[index] = self.checkMovement(index,new_pos)\n",
    "                \n",
    "            if not(delete_vector[index]):\n",
    "                self.drawTile(index)\n",
    "        for delete_tile in delete_vector:\n",
    "            if delete_tile:\n",
    "                self.number = np.delete(self.number,delete_tile)\n",
    "                self.grid_pos = np.delete(self.grid_pos,delete_tile)\n",
    "                print('deleted tile')\n",
    "        return self\n",
    "    def drawTile(self,index):\n",
    "        current_number = self.number[index]\n",
    "        current_x = np.mod(self.grid_pos[index],4).astype(int)\n",
    "        current_y = np.floor(self.grid_pos[index]/4).astype(int)\n",
    "        screen.blit(self.icons[current_number],(current_y*self.icons[current_number].get_width(),\n",
    "                                      current_x*self.icons[current_number].get_height()))\n",
    "    def checkMovement(self,index,new_pos):\n",
    "        delete_tile = False\n",
    "        if sum(np.isin(self.grid_pos,new_pos))==0:\n",
    "            self.grid_pos[index] = new_pos                        \n",
    "        else:\n",
    "            new_pos_index_logical = self.grid_pos == new_pos\n",
    "            new_pos_number = self.number[new_pos_index_logical]\n",
    "            if self.number[index] + new_pos_number == 3:\n",
    "                print('tile 1 = ' + str(self.number[index]) + ' tile 2 = ' + str(new_pos_number))\n",
    "                self.number[new_pos_index_logical] = 3\n",
    "                delete_tile = True\n",
    "                \n",
    "                \n",
    "        return self, delete_tile\n",
    "        \n",
    "        \n",
    "   \n",
    "    "
   ]
  },
  {
   "cell_type": "code",
   "execution_count": 132,
   "metadata": {
    "scrolled": true
   },
   "outputs": [
    {
     "name": "stdout",
     "output_type": "stream",
     "text": [
      "tile 1 = 2 tile 2 = [1]\n",
      "deleted tile\n"
     ]
    },
    {
     "name": "stderr",
     "output_type": "stream",
     "text": [
      "C:\\Users\\hjali\\Anaconda3\\lib\\site-packages\\ipykernel_launcher.py:65: FutureWarning: in the future insert will treat boolean arrays and array-likes as boolean index instead of casting it to integer\n",
      "C:\\Users\\hjali\\Anaconda3\\lib\\site-packages\\ipykernel_launcher.py:66: FutureWarning: in the future insert will treat boolean arrays and array-likes as boolean index instead of casting it to integer\n"
     ]
    }
   ],
   "source": [
    "running = True\n",
    "current_x = 0\n",
    "current_y = 0\n",
    "screen = pg.display.set_mode((800,600))\n",
    "screen.fill((0,0,255))\n",
    "pg.display.set_caption(\"Threes!\")\n",
    "\n",
    "\n",
    "grid  =pg.image.load('C:/Henry/PythonProjects/Pygame/Threes/images/grid.png')\n",
    "tile_list = [1,2,3,6,12,24,48,96,192,384,768,1536,3072,6144]\n",
    "start_num = 2\n",
    "\n",
    "game_tiles = Tiles(start_num)\n",
    "\n",
    "ex_state=True\n",
    "\n",
    "while running:\n",
    "    #pg.time.delay(100)\n",
    "    screen.fill((0,0,255))\n",
    "    screen.blit(grid,(0,0))\n",
    "    keys = pg.key.get_pressed()\n",
    "    if ex_state and sum(keys)>0:\n",
    "        current_move, move_order = game_tiles.determineMove(keys)\n",
    "        \n",
    "        ex_state = False\n",
    "    else:\n",
    "        current_move = 0\n",
    "        move_order = np.argsort(game_tiles.grid_pos)\n",
    "        move_order = np.argsort(game_tiles.grid_pos)\n",
    "    game_tiles = game_tiles.updatePosition(current_move,move_order)\n",
    "        \n",
    "    \n",
    "            \n",
    "    pg.display.update()\n",
    "\n",
    "    \n",
    "    for event in pg.event.get():\n",
    "        if event.type == pg.QUIT:\n",
    "            running = False\n",
    "            pg.display.quit()\n",
    "        if event.type == pg.MOUSEBUTTONDOWN:\n",
    "            print('mouse clicked')\n",
    "        if event.type == pg.KEYUP:\n",
    "            ex_state = True;\n",
    "\n",
    "    \n",
    "      \n",
    "            "
   ]
  },
  {
   "cell_type": "code",
   "execution_count": 117,
   "metadata": {},
   "outputs": [],
   "source": [
    "\n",
    "pg.display.quit()\n"
   ]
  },
  {
   "cell_type": "code",
   "execution_count": 101,
   "metadata": {},
   "outputs": [
    {
     "data": {
      "text/plain": [
       "2"
      ]
     },
     "execution_count": 101,
     "metadata": {},
     "output_type": "execute_result"
    }
   ],
   "source": [
    "a = np.ones((2,),dtype = bool)\n",
    "sum(a)"
   ]
  },
  {
   "cell_type": "code",
   "execution_count": 43,
   "metadata": {},
   "outputs": [
    {
     "name": "stdout",
     "output_type": "stream",
     "text": [
      "False\n"
     ]
    }
   ],
   "source": [
    "a = False\n",
    "if not(a):\n",
    "    print('False')"
   ]
  },
  {
   "cell_type": "code",
   "execution_count": 25,
   "metadata": {},
   "outputs": [
    {
     "data": {
      "text/plain": [
       "array([0, 1, 2])"
      ]
     },
     "execution_count": 25,
     "metadata": {},
     "output_type": "execute_result"
    }
   ],
   "source": [
    "a = np.array([0, 1, 2])\n",
    "np.where(a < 4, a, -1)  # -1 is broadcast\n"
   ]
  },
  {
   "cell_type": "code",
   "execution_count": 23,
   "metadata": {},
   "outputs": [
    {
     "data": {
      "text/plain": [
       "(3, 3)"
      ]
     },
     "execution_count": 23,
     "metadata": {},
     "output_type": "execute_result"
    }
   ],
   "source": [
    "a.shape"
   ]
  },
  {
   "cell_type": "code",
   "execution_count": null,
   "metadata": {},
   "outputs": [],
   "source": []
  }
 ],
 "metadata": {
  "kernelspec": {
   "display_name": "Python 3",
   "language": "python",
   "name": "python3"
  },
  "language_info": {
   "codemirror_mode": {
    "name": "ipython",
    "version": 3
   },
   "file_extension": ".py",
   "mimetype": "text/x-python",
   "name": "python",
   "nbconvert_exporter": "python",
   "pygments_lexer": "ipython3",
   "version": "3.7.4"
  }
 },
 "nbformat": 4,
 "nbformat_minor": 2
}
