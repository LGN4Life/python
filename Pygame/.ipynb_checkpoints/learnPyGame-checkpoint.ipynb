{
 "cells": [
  {
   "cell_type": "code",
   "execution_count": 18,
   "metadata": {},
   "outputs": [],
   "source": [
    "import pygame as pg\n",
    "import time"
   ]
  },
  {
   "cell_type": "code",
   "execution_count": 61,
   "metadata": {},
   "outputs": [],
   "source": [
    "import matplotlib.pyplot as plt\n",
    "import matplotlib.image as mpimg"
   ]
  },
  {
   "cell_type": "code",
   "execution_count": 19,
   "metadata": {},
   "outputs": [
    {
     "data": {
      "text/plain": [
       "(6, 0)"
      ]
     },
     "execution_count": 19,
     "metadata": {},
     "output_type": "execute_result"
    }
   ],
   "source": [
    "pg.init()"
   ]
  },
  {
   "cell_type": "code",
   "execution_count": 20,
   "metadata": {},
   "outputs": [],
   "source": [
    "def player(x,y):\n",
    "    screen.blit(playerImg,(x,y))"
   ]
  },
  {
   "cell_type": "code",
   "execution_count": 109,
   "metadata": {},
   "outputs": [],
   "source": [
    "\n",
    "icon = pg.image.load('C:/Henry/PythonProjects/Pygame/Images/interceptor-ship.png')\n",
    "playerImg = pg.image.load('C:/Henry/PythonProjects/Pygame/Images/space-invaders.png')\n",
    "obstacles_2 =  pg.image.load('C:/Henry/PythonProjects/Pygame/Images/obstacles_2.png')"
   ]
  },
  {
   "cell_type": "code",
   "execution_count": 165,
   "metadata": {},
   "outputs": [],
   "source": [
    "class space_ship:\n",
    "    def __init__(self,x,y,velocity):\n",
    "        self.x= x\n",
    "        self.y = y\n",
    "        self.velocity = velocity\n",
    "        self.icon = pg.image.load('C:/Henry/PythonProjects/Pygame/Images/interceptor-ship.png')\n",
    "        print('space ship created')\n",
    "    def update_position(self,keys):\n",
    "        if keys[pg.K_LEFT]:\n",
    "            player_1.x-=player_1.velocity\n",
    "        elif keys[pg.K_RIGHT]:\n",
    "            player_1.x+=player_1.velocity\n",
    "        elif keys[pg.K_UP]:\n",
    "            player_1.y-=player_1.velocity\n",
    "        elif keys[pg.K_DOWN]:\n",
    "            player_1.y+=player_1.velocity\n",
    "           \n",
    "        \n",
    "    \n",
    "\n",
    "        "
   ]
  },
  {
   "cell_type": "code",
   "execution_count": 140,
   "metadata": {},
   "outputs": [],
   "source": [
    " icon = pg.image.load('C:/Henry/PythonProjects/Pygame/Images/interceptor-ship.png')"
   ]
  },
  {
   "cell_type": "code",
   "execution_count": 151,
   "metadata": {},
   "outputs": [
    {
     "name": "stdout",
     "output_type": "stream",
     "text": [
      "space ship created\n"
     ]
    }
   ],
   "source": []
  },
  {
   "cell_type": "code",
   "execution_count": 166,
   "metadata": {
    "scrolled": true
   },
   "outputs": [
    {
     "name": "stdout",
     "output_type": "stream",
     "text": [
      "space ship created\n",
      "mouse clicked\n"
     ]
    }
   ],
   "source": [
    "player_1 = space_ship(100,100,1) \n",
    "running = True\n",
    "\n",
    "screen = pg.display.set_mode((800,600))\n",
    "screen.fill((0,0,255))\n",
    "pg.display.set_caption(\"Space Invaders\")\n",
    "# obstacles_mask = pg.mask.from_surface(rect_obj)\n",
    "# current_mask = pg.mask.from_surface(rect_obj)\n",
    "obstacles_pos = []\n",
    "\n",
    "while running:\n",
    "    #pg.time.delay(100)\n",
    "    screen.fill((0,0,255))\n",
    "    screen.blit(player_1.icon,(player_1.x,player_1.y))\n",
    "    \n",
    "#     player(playerX,playerY)\n",
    "#     screen.blit(obstacles_2,(100,300))\n",
    "    \n",
    "#     offset = (mx - ox, my - oy)\n",
    "# \tresult = obstacle_mask.overlap(blob_mask, offset)\n",
    "\n",
    "#     s = space_ship(100,100,1,screen)\n",
    "    \n",
    "    #rect_obj  =pg.draw.rect(screen,(255,0,255),(400,300, 100,100))\n",
    "    #current_mask = pg.mask.from_surface(rect_obj)\n",
    "    keys = pg.key.get_pressed()\n",
    "    \n",
    "    pg.display.update()\n",
    "    player_1.update_position(keys);\n",
    "    \n",
    "    for event in pg.event.get():\n",
    "            if event.type == pg.QUIT:\n",
    "                running = False\n",
    "                pg.display.quit()\n",
    "            if event.type == pg.MOUSEBUTTONDOWN:\n",
    "                print('mouse clicked')\n",
    "\n",
    "    \n",
    "      \n",
    "            "
   ]
  },
  {
   "cell_type": "code",
   "execution_count": 134,
   "metadata": {},
   "outputs": [],
   "source": [
    "pg.display.quit()"
   ]
  },
  {
   "cell_type": "code",
   "execution_count": 87,
   "metadata": {},
   "outputs": [
    {
     "data": {
      "text/plain": [
       "<Mask(800x600)>"
      ]
     },
     "execution_count": 87,
     "metadata": {},
     "output_type": "execute_result"
    }
   ],
   "source": [
    "current_mask."
   ]
  },
  {
   "cell_type": "code",
   "execution_count": 72,
   "metadata": {},
   "outputs": [
    {
     "data": {
      "text/plain": [
       "0"
      ]
     },
     "execution_count": 72,
     "metadata": {},
     "output_type": "execute_result"
    }
   ],
   "source": [
    "current_mask.count()"
   ]
  },
  {
   "cell_type": "code",
   "execution_count": 129,
   "metadata": {},
   "outputs": [
    {
     "data": {
      "text/plain": [
       "5"
      ]
     },
     "execution_count": 129,
     "metadata": {},
     "output_type": "execute_result"
    }
   ],
   "source": [
    "pg.MOUSEBUTTONDOWN"
   ]
  },
  {
   "cell_type": "code",
   "execution_count": null,
   "metadata": {},
   "outputs": [],
   "source": []
  }
 ],
 "metadata": {
  "kernelspec": {
   "display_name": "Python 3",
   "language": "python",
   "name": "python3"
  },
  "language_info": {
   "codemirror_mode": {
    "name": "ipython",
    "version": 3
   },
   "file_extension": ".py",
   "mimetype": "text/x-python",
   "name": "python",
   "nbconvert_exporter": "python",
   "pygments_lexer": "ipython3",
   "version": "3.7.1"
  }
 },
 "nbformat": 4,
 "nbformat_minor": 2
}
