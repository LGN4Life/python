{
 "cells": [
  {
   "cell_type": "code",
   "execution_count": 7,
   "metadata": {},
   "outputs": [
    {
     "name": "stdout",
     "output_type": "stream",
     "text": [
      "pygame 1.9.6\n",
      "Hello from the pygame community. https://www.pygame.org/contribute.html\n"
     ]
    }
   ],
   "source": [
    "import pygame as pg\n",
    "import numpy as np"
   ]
  },
  {
   "cell_type": "code",
   "execution_count": 249,
   "metadata": {},
   "outputs": [],
   "source": [
    "class Tiles:\n",
    "    def __init__(self,number,grid_pos = 0,velocity=1):\n",
    "        self.number = number\n",
    "        self.icon = pg.image.load('C:/Henry/PythonProjects/Pygame/Threes/images/_' + str(number) + '.png')\n",
    "        self.grid_pos = grid_pos\n",
    "        self.xy = [np.mod(grid_pos,4),np.floor(grid_pos/4).astype(int)]\n",
    "   \n",
    "   \n",
    "        self.x_advance =  self.icon.get_width()\n",
    "        self.y_advance =  self.icon.get_height()\n",
    "    def update_position(self,keys,ex_state):\n",
    "        moved = False\n",
    "        if ex_state:\n",
    "            if keys[pg.K_LEFT]:\n",
    "                self.xy[0]-=1\n",
    "                moved = True\n",
    "            elif keys[pg.K_RIGHT]:\n",
    "                self.xy[0]+=1\n",
    "                moved = True\n",
    "            elif keys[pg.K_UP]:\n",
    "                self.xy[1]-=1\n",
    "                moved = True\n",
    "            elif keys[pg.K_DOWN]:\n",
    "                self.xy[1]+=1\n",
    "                moved = True\n",
    "        \n",
    "        return moved\n",
    "    "
   ]
  },
  {
   "cell_type": "code",
   "execution_count": 250,
   "metadata": {},
   "outputs": [],
   "source": [
    "grid  =pg.image.load('C:/Henry/PythonProjects/Pygame/Threes/images/grid.png')\n"
   ]
  },
  {
   "cell_type": "code",
   "execution_count": 251,
   "metadata": {},
   "outputs": [
    {
     "name": "stdout",
     "output_type": "stream",
     "text": [
      "[3, 2]\n",
      "[1, 2]\n"
     ]
    }
   ],
   "source": [
    "tile_list = [1,2,3,6,12,24,48,96,192,384,768,1536,3072,6144]\n",
    "start_num = 2\n",
    "start_range = 3\n",
    "\n",
    "start_loc = np.random.permutation(16)\n",
    "x = np.mod(start_loc,4)\n",
    "y = np.floor(start_loc/4)\n",
    "y = y.astype(int)\n",
    "\n",
    "\n",
    "tiles = []\n",
    "for index in range(start_num):\n",
    "    \n",
    "    tiles.append(Tiles(number = tile_list[np.random.randint(start_range)],grid_pos = start_loc[index],velocity = 79))\n",
    "    print(tiles[index].xy)\n",
    "\n"
   ]
  },
  {
   "cell_type": "code",
   "execution_count": 237,
   "metadata": {},
   "outputs": [
    {
     "name": "stdout",
     "output_type": "stream",
     "text": [
      "2\n"
     ]
    }
   ],
   "source": [
    "print(len(tiles))"
   ]
  },
  {
   "cell_type": "code",
   "execution_count": 253,
   "metadata": {
    "scrolled": true
   },
   "outputs": [
    {
     "name": "stdout",
     "output_type": "stream",
     "text": [
      "mouse clicked\n"
     ]
    }
   ],
   "source": [
    "running = True\n",
    "current_x = 0\n",
    "current_y = 0\n",
    "screen = pg.display.set_mode((800,600))\n",
    "screen.fill((0,0,255))\n",
    "pg.display.set_caption(\"Threes!\")\n",
    "\n",
    "obstacles_pos = []\n",
    "ex_state=True\n",
    "moved = False\n",
    "while running:\n",
    "    #pg.time.delay(100)\n",
    "    screen.fill((0,0,255))\n",
    "    screen.blit(grid,(0,0))\n",
    "    keys = pg.key.get_pressed()\n",
    "    if ex_state:\n",
    "        for current_tile in tiles:\n",
    "            screen.blit(current_tile.icon,(current_tile.xy[0]*current_tile.icon.get_width(),current_tile.xy[1]*current_tile.icon.get_height()))\n",
    "            moved = current_tile.update_position(keys,ex_state)\n",
    "        if moved:\n",
    "            ex_state = False\n",
    "    pg.display.update()\n",
    "\n",
    "    \n",
    "    for event in pg.event.get():\n",
    "            if event.type == pg.QUIT:\n",
    "                running = False\n",
    "                pg.display.quit()\n",
    "            if event.type == pg.MOUSEBUTTONDOWN:\n",
    "                print('mouse clicked')\n",
    "            if event.type == pg.KEYUP:\n",
    "                ex_state = True;\n",
    "\n",
    "    \n",
    "      \n",
    "            "
   ]
  },
  {
   "cell_type": "code",
   "execution_count": 248,
   "metadata": {},
   "outputs": [],
   "source": [
    "pg.display.quit()"
   ]
  },
  {
   "cell_type": "code",
   "execution_count": 49,
   "metadata": {},
   "outputs": [
    {
     "data": {
      "text/plain": [
       "<Surface(79x102x32 SW)>"
      ]
     },
     "execution_count": 49,
     "metadata": {},
     "output_type": "execute_result"
    }
   ],
   "source": [
    "tiles_1.icon"
   ]
  },
  {
   "cell_type": "code",
   "execution_count": 71,
   "metadata": {},
   "outputs": [
    {
     "name": "stdout",
     "output_type": "stream",
     "text": [
      "here\n"
     ]
    }
   ],
   "source": [
    "x=-1\n",
    "y=-1\n",
    "if (x<0 and y<0):\n",
    "    print(str('here'))\n",
    "else:\n",
    "    print(str('not here'))"
   ]
  },
  {
   "cell_type": "code",
   "execution_count": null,
   "metadata": {},
   "outputs": [],
   "source": []
  }
 ],
 "metadata": {
  "kernelspec": {
   "display_name": "Python 3",
   "language": "python",
   "name": "python3"
  },
  "language_info": {
   "codemirror_mode": {
    "name": "ipython",
    "version": 3
   },
   "file_extension": ".py",
   "mimetype": "text/x-python",
   "name": "python",
   "nbconvert_exporter": "python",
   "pygments_lexer": "ipython3",
   "version": "3.7.4"
  }
 },
 "nbformat": 4,
 "nbformat_minor": 2
}
